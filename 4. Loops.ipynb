{
 "cells": [
  {
   "cell_type": "markdown",
   "id": "c27235b6",
   "metadata": {},
   "source": [
    "# Update the elements of List"
   ]
  },
  {
   "cell_type": "code",
   "execution_count": 1,
   "id": "ec65d20e",
   "metadata": {},
   "outputs": [],
   "source": [
    "List=[2,3,4,5,6,7]\n",
    "List[0]=List[0]**2\n",
    "List[1]=List[1]**2\n",
    "List[2]=List[2]**2\n",
    "List[3]=List[3]**2\n",
    "List[4]=List[4]**2\n",
    "List[5]=List[5]**2"
   ]
  },
  {
   "cell_type": "code",
   "execution_count": 2,
   "id": "bddd37ef",
   "metadata": {},
   "outputs": [
    {
     "data": {
      "text/plain": [
       "[4, 9, 16, 25, 36, 49]"
      ]
     },
     "execution_count": 2,
     "metadata": {},
     "output_type": "execute_result"
    }
   ],
   "source": [
    "List"
   ]
  },
  {
   "cell_type": "code",
   "execution_count": 2,
   "id": "2bfbcb34",
   "metadata": {},
   "outputs": [
    {
     "name": "stdout",
     "output_type": "stream",
     "text": [
      "[16, 81, 256, 625, 1296, 49]\n"
     ]
    }
   ],
   "source": [
    "for i in range(5):\n",
    "    List[i]=List[i]**2\n",
    "print(List)"
   ]
  },
  {
   "cell_type": "code",
   "execution_count": 3,
   "id": "abe337c9",
   "metadata": {},
   "outputs": [
    {
     "data": {
      "text/plain": [
       "[0, 2, 30, 4, 7]"
      ]
     },
     "execution_count": 3,
     "metadata": {},
     "output_type": "execute_result"
    }
   ],
   "source": [
    "List1=[0,2,30,4,7]\n",
    "List1"
   ]
  },
  {
   "cell_type": "code",
   "execution_count": 4,
   "id": "f21d4e49",
   "metadata": {},
   "outputs": [
    {
     "name": "stdout",
     "output_type": "stream",
     "text": [
      "1\n",
      "2\n",
      "3\n",
      "4\n",
      "5\n"
     ]
    }
   ],
   "source": [
    "for i in [1,2,3,4,5]:\n",
    "    print(i)"
   ]
  },
  {
   "cell_type": "code",
   "execution_count": 6,
   "id": "4d647e16",
   "metadata": {},
   "outputs": [
    {
     "name": "stdout",
     "output_type": "stream",
     "text": [
      "0\n",
      "1\n",
      "2\n",
      "3\n",
      "4\n",
      "5\n",
      "6\n",
      "7\n",
      "8\n",
      "9\n",
      "10\n",
      "11\n",
      "12\n",
      "13\n",
      "14\n",
      "15\n",
      "16\n",
      "17\n",
      "18\n",
      "19\n"
     ]
    }
   ],
   "source": [
    "for j in list(range(20)):\n",
    "    print(j)"
   ]
  },
  {
   "cell_type": "code",
   "execution_count": 5,
   "id": "000de992",
   "metadata": {},
   "outputs": [
    {
     "data": {
      "text/plain": [
       "[0, 1, 2, 3, 4, 5, 6]"
      ]
     },
     "execution_count": 5,
     "metadata": {},
     "output_type": "execute_result"
    }
   ],
   "source": [
    "list(range(7))\n"
   ]
  },
  {
   "cell_type": "code",
   "execution_count": 6,
   "id": "979a525d",
   "metadata": {},
   "outputs": [
    {
     "data": {
      "text/plain": [
       "[0, 1, 2, 3, 4, 5, 6, 7, 8, 9]"
      ]
     },
     "execution_count": 6,
     "metadata": {},
     "output_type": "execute_result"
    }
   ],
   "source": [
    "list(range(10))"
   ]
  },
  {
   "cell_type": "code",
   "execution_count": 7,
   "id": "13155fa6",
   "metadata": {},
   "outputs": [
    {
     "name": "stdout",
     "output_type": "stream",
     "text": [
      "0\n",
      "2\n",
      "30\n",
      "4\n",
      "7\n"
     ]
    }
   ],
   "source": [
    "for k in List1:\n",
    "    print(k)"
   ]
  },
  {
   "cell_type": "code",
   "execution_count": 8,
   "id": "18dff774",
   "metadata": {},
   "outputs": [
    {
     "name": "stdout",
     "output_type": "stream",
     "text": [
      "3\n",
      "4\n",
      "7\n",
      "8\n"
     ]
    }
   ],
   "source": [
    "l=[3,4,7,8]\n",
    "for i in l:\n",
    "    print(i)"
   ]
  },
  {
   "cell_type": "markdown",
   "id": "bbf820b8",
   "metadata": {},
   "source": [
    "# Sum of the elements of the list"
   ]
  },
  {
   "cell_type": "code",
   "execution_count": 9,
   "id": "2459999f",
   "metadata": {},
   "outputs": [
    {
     "name": "stdout",
     "output_type": "stream",
     "text": [
      "16\n"
     ]
    }
   ],
   "source": [
    "L=[3,6,4,2,1]\n",
    "sum = 0\n",
    "for i in L:\n",
    "    sum=i+sum\n",
    "print(sum)"
   ]
  },
  {
   "cell_type": "code",
   "execution_count": 10,
   "id": "5cd3b2ab",
   "metadata": {},
   "outputs": [
    {
     "name": "stdout",
     "output_type": "stream",
     "text": [
      "4\n",
      "16\n",
      "25\n",
      "49\n",
      "64\n"
     ]
    }
   ],
   "source": [
    "L1=[2,4,5,7,8]\n",
    "for x in L1:\n",
    "    print(x*x)"
   ]
  },
  {
   "cell_type": "markdown",
   "id": "95bc4c05",
   "metadata": {},
   "source": [
    "# Moving element from one list to another"
   ]
  },
  {
   "cell_type": "code",
   "execution_count": 11,
   "id": "61ff5780",
   "metadata": {},
   "outputs": [
    {
     "name": "stdout",
     "output_type": "stream",
     "text": [
      "[9, 8, 7, 6, 5]\n"
     ]
    }
   ],
   "source": [
    "List2=[9,8,7,6,5]\n",
    "print(List2)"
   ]
  },
  {
   "cell_type": "code",
   "execution_count": 21,
   "id": "7309385f",
   "metadata": {},
   "outputs": [
    {
     "name": "stdout",
     "output_type": "stream",
     "text": [
      "[81, 64, 49, 36, 25]\n"
     ]
    }
   ],
   "source": [
    "List3=[]\n",
    "for z in List2:\n",
    "    List3.append(z**2)\n",
    "print(List3)\n"
   ]
  },
  {
   "cell_type": "code",
   "execution_count": 24,
   "id": "cc4490f1",
   "metadata": {},
   "outputs": [
    {
     "name": "stdout",
     "output_type": "stream",
     "text": [
      "[1, 16, 9, 4, 25]\n"
     ]
    }
   ],
   "source": [
    "List4=[1,2,3,4,5]\n",
    "for i in List4:\n",
    "    index=List4.index(i)\n",
    "    List4[index]=List4[index]**2\n",
    "print(List4)    "
   ]
  },
  {
   "cell_type": "code",
   "execution_count": 16,
   "id": "441f1187",
   "metadata": {},
   "outputs": [
    {
     "data": {
      "text/plain": [
       "[1, 16, 9, 4, 25]"
      ]
     },
     "execution_count": 16,
     "metadata": {},
     "output_type": "execute_result"
    }
   ],
   "source": [
    "List4"
   ]
  },
  {
   "cell_type": "code",
   "execution_count": 25,
   "id": "341a59fd",
   "metadata": {},
   "outputs": [
    {
     "data": {
      "text/plain": [
       "[1, 16, 9, 4, 25]"
      ]
     },
     "execution_count": 25,
     "metadata": {},
     "output_type": "execute_result"
    }
   ],
   "source": [
    "L5=[1,2,3,4,5]\n",
    "for x in L5:\n",
    "    index=L5.index(x)\n",
    "    L5[index]=L5[index]**2\n",
    "L5"
   ]
  },
  {
   "cell_type": "markdown",
   "id": "fe0eef76",
   "metadata": {},
   "source": [
    "# Traversing index"
   ]
  },
  {
   "cell_type": "code",
   "execution_count": 18,
   "id": "ec87ec5c",
   "metadata": {},
   "outputs": [
    {
     "name": "stdout",
     "output_type": "stream",
     "text": [
      "1 0\n",
      "16 1\n",
      "9 2\n",
      "4 3\n",
      "25 4\n"
     ]
    }
   ],
   "source": [
    "for index in range(len(L5)):\n",
    "    print(L5[index],index)"
   ]
  },
  {
   "cell_type": "markdown",
   "id": "afcf3076",
   "metadata": {},
   "source": [
    "# Traversing elements"
   ]
  },
  {
   "cell_type": "code",
   "execution_count": 19,
   "id": "21596481",
   "metadata": {},
   "outputs": [
    {
     "name": "stdout",
     "output_type": "stream",
     "text": [
      "1 0\n",
      "16 1\n",
      "9 2\n",
      "4 3\n",
      "25 4\n"
     ]
    }
   ],
   "source": [
    "for element in L5:\n",
    "    print(element,L5.index(element))"
   ]
  },
  {
   "cell_type": "markdown",
   "id": "43c4d151",
   "metadata": {},
   "source": [
    "# Square of even numbers"
   ]
  },
  {
   "cell_type": "code",
   "execution_count": 20,
   "id": "fc1e0d4d",
   "metadata": {},
   "outputs": [
    {
     "name": "stdout",
     "output_type": "stream",
     "text": [
      "Odd 1\n",
      "Even 4\n",
      "Odd 27\n",
      "Even 16\n",
      "Odd 125\n",
      "Even 36\n",
      "Odd 343\n"
     ]
    }
   ],
   "source": [
    "List5=[1,2,3,4,5,6,7]\n",
    "for element in List5:\n",
    "    if element%2==0:\n",
    "        print('Even',element**2)\n",
    "    else:\n",
    "        print(\"Odd\",element**3)"
   ]
  },
  {
   "cell_type": "markdown",
   "id": "49c1fb5f",
   "metadata": {},
   "source": [
    "# Finding even and odd based on index"
   ]
  },
  {
   "cell_type": "code",
   "execution_count": 21,
   "id": "b0af90ea",
   "metadata": {},
   "outputs": [
    {
     "name": "stdout",
     "output_type": "stream",
     "text": [
      "Even 1\n",
      "Odd 8\n",
      "Even 9\n",
      "Odd 64\n",
      "Even 25\n",
      "Odd 216\n",
      "Even 49\n"
     ]
    }
   ],
   "source": [
    "List6=[1,2,3,4,5,6,7]\n",
    "for element in List5:\n",
    "    if List6.index(element)%2==0:\n",
    "        print('Even',element**2)\n",
    "    else:\n",
    "        print(\"Odd\",element**3)"
   ]
  },
  {
   "cell_type": "code",
   "execution_count": 22,
   "id": "a87db4ff",
   "metadata": {},
   "outputs": [
    {
     "name": "stdout",
     "output_type": "stream",
     "text": [
      "Even 1\n",
      "Odd 8\n",
      "Even 9\n",
      "Odd 64\n",
      "Even 25\n",
      "Odd 216\n",
      "Even 49\n"
     ]
    }
   ],
   "source": [
    "for index in range(len(List5)):\n",
    "    element = List6[index]\n",
    "    if List6.index(element)%2==0:\n",
    "        print('Even',element**2)\n",
    "    else:\n",
    "        print(\"Odd\",element**3)"
   ]
  },
  {
   "cell_type": "markdown",
   "id": "b3ee7124",
   "metadata": {},
   "source": [
    "# Factorial"
   ]
  },
  {
   "cell_type": "code",
   "execution_count": 23,
   "id": "ef8f8e8a",
   "metadata": {},
   "outputs": [
    {
     "name": "stdout",
     "output_type": "stream",
     "text": [
      "120\n"
     ]
    }
   ],
   "source": [
    "n=5\n",
    "fact=1\n",
    "for i in range(1,n+1):\n",
    "    fact=fact*i\n",
    "print(fact)"
   ]
  },
  {
   "cell_type": "code",
   "execution_count": 24,
   "id": "7934dbcd",
   "metadata": {},
   "outputs": [
    {
     "name": "stdout",
     "output_type": "stream",
     "text": [
      "1 1\n",
      "2 2\n",
      "3 6\n",
      "4 24\n",
      "5 120\n"
     ]
    }
   ],
   "source": [
    "n=5\n",
    "fact=1\n",
    "for i in range(1,n+1):\n",
    "    fact=fact*i\n",
    "    print(i,fact)"
   ]
  },
  {
   "cell_type": "markdown",
   "id": "94308b59",
   "metadata": {},
   "source": [
    "# Prime or not"
   ]
  },
  {
   "cell_type": "code",
   "execution_count": 26,
   "id": "c5698200",
   "metadata": {},
   "outputs": [
    {
     "name": "stdout",
     "output_type": "stream",
     "text": [
      "12\n"
     ]
    }
   ],
   "source": [
    "a=12\n",
    "print(a)"
   ]
  },
  {
   "cell_type": "code",
   "execution_count": 45,
   "id": "76d32412",
   "metadata": {},
   "outputs": [
    {
     "data": {
      "text/plain": [
       "'Non prime'"
      ]
     },
     "execution_count": 45,
     "metadata": {},
     "output_type": "execute_result"
    }
   ],
   "source": [
    "n=4\n",
    "assume='Prime'\n",
    "for i in range(2,n):\n",
    "    if n%i==0:\n",
    "        assume='Non prime'\n",
    "assume"
   ]
  },
  {
   "cell_type": "code",
   "execution_count": 46,
   "id": "be19d181",
   "metadata": {},
   "outputs": [
    {
     "name": "stdout",
     "output_type": "stream",
     "text": [
      "2\n"
     ]
    },
    {
     "data": {
      "text/plain": [
       "'Non prime'"
      ]
     },
     "execution_count": 46,
     "metadata": {},
     "output_type": "execute_result"
    }
   ],
   "source": [
    "n=4\n",
    "assume='Prime'\n",
    "for i in range(2,n):\n",
    "    if n%i==0:\n",
    "        assume='Non prime'\n",
    "        print(i)\n",
    "        break\n",
    "assume"
   ]
  },
  {
   "cell_type": "code",
   "execution_count": null,
   "id": "889d0533",
   "metadata": {},
   "outputs": [],
   "source": []
  },
  {
   "cell_type": "code",
   "execution_count": null,
   "id": "4f65e060",
   "metadata": {},
   "outputs": [],
   "source": []
  }
 ],
 "metadata": {
  "kernelspec": {
   "display_name": "Python 3 (ipykernel)",
   "language": "python",
   "name": "python3"
  },
  "language_info": {
   "codemirror_mode": {
    "name": "ipython",
    "version": 3
   },
   "file_extension": ".py",
   "mimetype": "text/x-python",
   "name": "python",
   "nbconvert_exporter": "python",
   "pygments_lexer": "ipython3",
   "version": "3.11.5"
  }
 },
 "nbformat": 4,
 "nbformat_minor": 5
}
