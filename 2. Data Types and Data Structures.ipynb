{
 "cells": [
  {
   "cell_type": "markdown",
   "id": "318aa58c",
   "metadata": {},
   "source": [
    "# Data Types"
   ]
  },
  {
   "cell_type": "code",
   "execution_count": 89,
   "id": "a0eb685a",
   "metadata": {},
   "outputs": [
    {
     "data": {
      "text/plain": [
       "bool"
      ]
     },
     "execution_count": 89,
     "metadata": {},
     "output_type": "execute_result"
    }
   ],
   "source": [
    "# 4 types\n",
    "int\n",
    "float\n",
    "str\n",
    "bool"
   ]
  },
  {
   "cell_type": "code",
   "execution_count": 90,
   "id": "2a5d9ed6",
   "metadata": {},
   "outputs": [
    {
     "data": {
      "text/plain": [
       "int"
      ]
     },
     "execution_count": 90,
     "metadata": {},
     "output_type": "execute_result"
    }
   ],
   "source": [
    "a=5\n",
    "type(a) # Whole number"
   ]
  },
  {
   "cell_type": "code",
   "execution_count": 91,
   "id": "4a0684ae",
   "metadata": {},
   "outputs": [
    {
     "data": {
      "text/plain": [
       "float"
      ]
     },
     "execution_count": 91,
     "metadata": {},
     "output_type": "execute_result"
    }
   ],
   "source": [
    "a=3.1\n",
    "type(a) # Decimal values # float"
   ]
  },
  {
   "cell_type": "code",
   "execution_count": 92,
   "id": "436b30bc",
   "metadata": {},
   "outputs": [
    {
     "data": {
      "text/plain": [
       "str"
      ]
     },
     "execution_count": 92,
     "metadata": {},
     "output_type": "execute_result"
    }
   ],
   "source": [
    "a='Hello'\n",
    "type(a) # Should be in inverted comma(single/double)"
   ]
  },
  {
   "cell_type": "code",
   "execution_count": 93,
   "id": "445769b6",
   "metadata": {},
   "outputs": [
    {
     "data": {
      "text/plain": [
       "str"
      ]
     },
     "execution_count": 93,
     "metadata": {},
     "output_type": "execute_result"
    }
   ],
   "source": [
    "a='h'\n",
    "type(a) # In python all is string there is no char type data. So, what ever we write in single or double inverted comma that will be string type data"
   ]
  },
  {
   "cell_type": "code",
   "execution_count": 94,
   "id": "d2b984ce",
   "metadata": {},
   "outputs": [
    {
     "data": {
      "text/plain": [
       "str"
      ]
     },
     "execution_count": 94,
     "metadata": {},
     "output_type": "execute_result"
    }
   ],
   "source": [
    "a='''Hello\n",
    "World'''\n",
    "type(a) # Doc string"
   ]
  },
  {
   "cell_type": "code",
   "execution_count": 95,
   "id": "a35a5f2d",
   "metadata": {},
   "outputs": [
    {
     "data": {
      "text/plain": [
       "bool"
      ]
     },
     "execution_count": 95,
     "metadata": {},
     "output_type": "execute_result"
    }
   ],
   "source": [
    "b=True\n",
    "type(b)"
   ]
  },
  {
   "cell_type": "markdown",
   "id": "06cba7ef",
   "metadata": {},
   "source": [
    "# String\n"
   ]
  },
  {
   "cell_type": "code",
   "execution_count": 30,
   "id": "81bfab5d",
   "metadata": {},
   "outputs": [],
   "source": [
    "string=\"Md. Mizanur Rahman\"\n",
    "string1=\"I am 24 years old.\"\n",
    "a=\"Mizanur\"\n",
    "b=\"Rahman\""
   ]
  },
  {
   "cell_type": "code",
   "execution_count": 11,
   "id": "361e8e00",
   "metadata": {},
   "outputs": [
    {
     "name": "stdout",
     "output_type": "stream",
     "text": [
      "The number of n are in the string is:  2\n"
     ]
    }
   ],
   "source": [
    "# Counts how many particular elements are in the string\n",
    "print(\"The number of n are in the string is: \",+string.count(\"n\"))"
   ]
  },
  {
   "cell_type": "code",
   "execution_count": 12,
   "id": "e0a9edfc",
   "metadata": {},
   "outputs": [
    {
     "name": "stdout",
     "output_type": "stream",
     "text": [
      "Spliting the string into words are:  ['Md.', 'Mizanur', 'Rahman']\n"
     ]
    }
   ],
   "source": [
    "# Splits the the whole string into words\n",
    "print(\"Spliting the string into words are: \",string.split())"
   ]
  },
  {
   "cell_type": "code",
   "execution_count": 32,
   "id": "ed16fc88",
   "metadata": {},
   "outputs": [
    {
     "name": "stdout",
     "output_type": "stream",
     "text": [
      "After joining a and b we get: \n",
      "Mizanur Rahman\n"
     ]
    }
   ],
   "source": [
    "print(\"After joining a and b we get: \")\n",
    "print(\"\".join([a,b]))\n"
   ]
  },
  {
   "cell_type": "code",
   "execution_count": 28,
   "id": "3ed64e1b",
   "metadata": {},
   "outputs": [
    {
     "name": "stdout",
     "output_type": "stream",
     "text": [
      "Finding occurance in string is:  12\n"
     ]
    }
   ],
   "source": [
    "print(\"Finding occurance in string is: \",string.find(\"Rahman\"))"
   ]
  },
  {
   "cell_type": "code",
   "execution_count": 31,
   "id": "9af8f0fd",
   "metadata": {},
   "outputs": [
    {
     "name": "stdout",
     "output_type": "stream",
     "text": [
      "After replacing 25 at 24 we get the output:  I am 25 years old.\n"
     ]
    }
   ],
   "source": [
    "print(\"After replacing 25 at 24 we get the output: \",string1.replace(\"24\",\"25\"))"
   ]
  },
  {
   "cell_type": "code",
   "execution_count": 34,
   "id": "3db764fc",
   "metadata": {},
   "outputs": [
    {
     "name": "stdout",
     "output_type": "stream",
     "text": [
      "After concatenation a and b we get:  Mizanur Rahman\n"
     ]
    }
   ],
   "source": [
    "print(\"After concatenation a and b we get: \",a+\" \"+b)"
   ]
  },
  {
   "cell_type": "code",
   "execution_count": null,
   "id": "16ba3dbb",
   "metadata": {},
   "outputs": [],
   "source": []
  },
  {
   "cell_type": "markdown",
   "id": "bc9122e6",
   "metadata": {},
   "source": [
    "# Data Structures"
   ]
  },
  {
   "cell_type": "code",
   "execution_count": 96,
   "id": "ba6916de",
   "metadata": {},
   "outputs": [
    {
     "data": {
      "text/plain": [
       "dict"
      ]
     },
     "execution_count": 96,
     "metadata": {},
     "output_type": "execute_result"
    }
   ],
   "source": [
    "# 4 Types\n",
    "list\n",
    "set \n",
    "tuple\n",
    "dict"
   ]
  },
  {
   "cell_type": "markdown",
   "id": "aca643ea",
   "metadata": {},
   "source": [
    "# List"
   ]
  },
  {
   "cell_type": "code",
   "execution_count": 1,
   "id": "88478fa2",
   "metadata": {},
   "outputs": [
    {
     "data": {
      "text/plain": [
       "(list, 7)"
      ]
     },
     "execution_count": 1,
     "metadata": {},
     "output_type": "execute_result"
    }
   ],
   "source": [
    "l=[2,3,4, 'hello', True, -1, 5.2]\n",
    "type(l), len(l)"
   ]
  },
  {
   "cell_type": "code",
   "execution_count": 2,
   "id": "4a68ec1f",
   "metadata": {},
   "outputs": [
    {
     "data": {
      "text/plain": [
       "'hello'"
      ]
     },
     "execution_count": 2,
     "metadata": {},
     "output_type": "execute_result"
    }
   ],
   "source": [
    "l[3]"
   ]
  },
  {
   "cell_type": "code",
   "execution_count": 3,
   "id": "cc892990",
   "metadata": {},
   "outputs": [
    {
     "data": {
      "text/plain": [
       "5"
      ]
     },
     "execution_count": 3,
     "metadata": {},
     "output_type": "execute_result"
    }
   ],
   "source": [
    "l.index(-1)"
   ]
  },
  {
   "cell_type": "code",
   "execution_count": 100,
   "id": "a26dd7b9",
   "metadata": {},
   "outputs": [],
   "source": [
    "# Forward indexing"
   ]
  },
  {
   "cell_type": "code",
   "execution_count": 101,
   "id": "1426bff7",
   "metadata": {},
   "outputs": [
    {
     "data": {
      "text/plain": [
       "[3, 4, 'hello', True]"
      ]
     },
     "execution_count": 101,
     "metadata": {},
     "output_type": "execute_result"
    }
   ],
   "source": [
    "l[1:4+1] # We must add 1 with the ending index\n",
    "            # list[s_i:e_i+1]"
   ]
  },
  {
   "cell_type": "code",
   "execution_count": 102,
   "id": "586f827c",
   "metadata": {},
   "outputs": [
    {
     "data": {
      "text/plain": [
       "[2, 3, 4, 'hello']"
      ]
     },
     "execution_count": 102,
     "metadata": {},
     "output_type": "execute_result"
    }
   ],
   "source": [
    "l[:4]"
   ]
  },
  {
   "cell_type": "code",
   "execution_count": 103,
   "id": "5eea5ec2",
   "metadata": {},
   "outputs": [
    {
     "data": {
      "text/plain": [
       "[True, -1, 5.2]"
      ]
     },
     "execution_count": 103,
     "metadata": {},
     "output_type": "execute_result"
    }
   ],
   "source": [
    "l[4:]"
   ]
  },
  {
   "cell_type": "code",
   "execution_count": 104,
   "id": "a3f93231",
   "metadata": {},
   "outputs": [
    {
     "data": {
      "text/plain": [
       "[2, 4, True, 5.2]"
      ]
     },
     "execution_count": 104,
     "metadata": {},
     "output_type": "execute_result"
    }
   ],
   "source": [
    "# If we want to get the value with gap we must write s_i:e_i:gap+1\n",
    "l[0:6+1:1+1]"
   ]
  },
  {
   "cell_type": "code",
   "execution_count": 105,
   "id": "9f5311cd",
   "metadata": {},
   "outputs": [
    {
     "data": {
      "text/plain": [
       "5.2"
      ]
     },
     "execution_count": 105,
     "metadata": {},
     "output_type": "execute_result"
    }
   ],
   "source": [
    "l[-1] # if we write index[-1], we will get the lasf element of the list"
   ]
  },
  {
   "cell_type": "code",
   "execution_count": 106,
   "id": "e6666ba9",
   "metadata": {},
   "outputs": [],
   "source": [
    "# Negative indexing"
   ]
  },
  {
   "cell_type": "code",
   "execution_count": 107,
   "id": "a9aadaa1",
   "metadata": {},
   "outputs": [
    {
     "data": {
      "text/plain": [
       "[3, 4, 'hello', True]"
      ]
     },
     "execution_count": 107,
     "metadata": {},
     "output_type": "execute_result"
    }
   ],
   "source": [
    "l[-6:-2]"
   ]
  },
  {
   "cell_type": "code",
   "execution_count": 108,
   "id": "70f40ecc",
   "metadata": {},
   "outputs": [
    {
     "data": {
      "text/plain": [
       "[True, -1, 5.2]"
      ]
     },
     "execution_count": 108,
     "metadata": {},
     "output_type": "execute_result"
    }
   ],
   "source": [
    "l[-3:] # Here 0 will no be accepted to we just keep it empty"
   ]
  },
  {
   "cell_type": "code",
   "execution_count": 109,
   "id": "8b4a94af",
   "metadata": {},
   "outputs": [
    {
     "data": {
      "text/plain": [
       "[-1, True, 'hello', 4]"
      ]
     },
     "execution_count": 109,
     "metadata": {},
     "output_type": "execute_result"
    }
   ],
   "source": [
    "l[-2:-6:-1]"
   ]
  },
  {
   "cell_type": "code",
   "execution_count": 110,
   "id": "03a2f099",
   "metadata": {},
   "outputs": [
    {
     "data": {
      "text/plain": [
       "([3, 4, 'hello', True, -1], [-1, True, 'hello', 4, 3])"
      ]
     },
     "execution_count": 110,
     "metadata": {},
     "output_type": "execute_result"
    }
   ],
   "source": [
    "# Reverse indexing\n",
    "l[-6:-1], l[-2:-7:-1] # additional -1 is used for negative indexing"
   ]
  },
  {
   "cell_type": "code",
   "execution_count": 1,
   "id": "44658057",
   "metadata": {},
   "outputs": [
    {
     "data": {
      "text/plain": [
       "9"
      ]
     },
     "execution_count": 1,
     "metadata": {},
     "output_type": "execute_result"
    }
   ],
   "source": [
    "l=[3,5,6,7,8,8,8,9,2]\n",
    "len(l)"
   ]
  },
  {
   "cell_type": "code",
   "execution_count": 112,
   "id": "389664b3",
   "metadata": {},
   "outputs": [
    {
     "data": {
      "text/plain": [
       "2"
      ]
     },
     "execution_count": 112,
     "metadata": {},
     "output_type": "execute_result"
    }
   ],
   "source": [
    "min(l)"
   ]
  },
  {
   "cell_type": "code",
   "execution_count": 113,
   "id": "f7acf1ca",
   "metadata": {},
   "outputs": [
    {
     "data": {
      "text/plain": [
       "9"
      ]
     },
     "execution_count": 113,
     "metadata": {},
     "output_type": "execute_result"
    }
   ],
   "source": [
    "max(l)"
   ]
  },
  {
   "cell_type": "code",
   "execution_count": 114,
   "id": "9b7b67e9",
   "metadata": {},
   "outputs": [
    {
     "data": {
      "text/plain": [
       "3"
      ]
     },
     "execution_count": 114,
     "metadata": {},
     "output_type": "execute_result"
    }
   ],
   "source": [
    "l.count(8)"
   ]
  },
  {
   "cell_type": "code",
   "execution_count": 115,
   "id": "62e1ccf3",
   "metadata": {},
   "outputs": [
    {
     "data": {
      "text/plain": [
       "56"
      ]
     },
     "execution_count": 115,
     "metadata": {},
     "output_type": "execute_result"
    }
   ],
   "source": [
    "sum(l) # Here sum in in built function"
   ]
  },
  {
   "cell_type": "code",
   "execution_count": 2,
   "id": "474884f0",
   "metadata": {},
   "outputs": [
    {
     "data": {
      "text/plain": [
       "[2, 9, 8, 8, 8, 7, 6, 5, 3]"
      ]
     },
     "execution_count": 2,
     "metadata": {},
     "output_type": "execute_result"
    }
   ],
   "source": [
    "l.reverse()\n",
    "l"
   ]
  },
  {
   "cell_type": "code",
   "execution_count": 3,
   "id": "cfe9bc7f",
   "metadata": {},
   "outputs": [
    {
     "data": {
      "text/plain": [
       "[2, 3, 5, 6, 7, 8, 8, 8, 9]"
      ]
     },
     "execution_count": 3,
     "metadata": {},
     "output_type": "execute_result"
    }
   ],
   "source": [
    "l.sort() # Here sort() is attribute when it is used after doc\n",
    "l"
   ]
  },
  {
   "cell_type": "code",
   "execution_count": 118,
   "id": "7a9d8683",
   "metadata": {},
   "outputs": [
    {
     "data": {
      "text/plain": [
       "[9, 8, 8, 8, 7, 6, 5, 3, 2]"
      ]
     },
     "execution_count": 118,
     "metadata": {},
     "output_type": "execute_result"
    }
   ],
   "source": [
    "l.sort(reverse=True)\n",
    "l"
   ]
  },
  {
   "cell_type": "code",
   "execution_count": 119,
   "id": "0fb15791",
   "metadata": {},
   "outputs": [
    {
     "name": "stdout",
     "output_type": "stream",
     "text": [
      "[9, 8, 8, 8, 7, 6, 5, 3, 2]\n"
     ]
    }
   ],
   "source": [
    "print(l)"
   ]
  },
  {
   "cell_type": "code",
   "execution_count": 120,
   "id": "c584d9b6",
   "metadata": {},
   "outputs": [
    {
     "data": {
      "text/plain": [
       "[2, 3, 5, 6, 7, 8, 8, 8, 9]"
      ]
     },
     "execution_count": 120,
     "metadata": {},
     "output_type": "execute_result"
    }
   ],
   "source": [
    "l.sort()\n",
    "l"
   ]
  },
  {
   "cell_type": "code",
   "execution_count": 121,
   "id": "b7941c18",
   "metadata": {},
   "outputs": [
    {
     "data": {
      "text/plain": [
       "[9, 8, 8, 8, 7, 6, 5, 3, 2]"
      ]
     },
     "execution_count": 121,
     "metadata": {},
     "output_type": "execute_result"
    }
   ],
   "source": [
    "l.sort(reverse=True)\n",
    "l"
   ]
  },
  {
   "cell_type": "code",
   "execution_count": 122,
   "id": "3137626d",
   "metadata": {},
   "outputs": [],
   "source": [
    "List2=[2,3,1,45,6,6,8,7,100]\n",
    "#add-->append, insert, extend,+\n",
    "#remove-->remove, pop, del"
   ]
  },
  {
   "cell_type": "code",
   "execution_count": 123,
   "id": "6999ff62",
   "metadata": {},
   "outputs": [
    {
     "data": {
      "text/plain": [
       "[2, 3, 1, 45, 6, 6, 8, 7, 100, 600]"
      ]
     },
     "execution_count": 123,
     "metadata": {},
     "output_type": "execute_result"
    }
   ],
   "source": [
    "List2.append(600)\n",
    "List2"
   ]
  },
  {
   "cell_type": "code",
   "execution_count": 124,
   "id": "b3c0ac7b",
   "metadata": {},
   "outputs": [
    {
     "data": {
      "text/plain": [
       "[2, 3, 1000, 1, 45, 6, 6, 8, 7, 100, 600]"
      ]
     },
     "execution_count": 124,
     "metadata": {},
     "output_type": "execute_result"
    }
   ],
   "source": [
    "List2.insert(2,1000) # insert is used for adding a value in a specific position\n",
    "List2"
   ]
  },
  {
   "cell_type": "code",
   "execution_count": 125,
   "id": "0dd07913",
   "metadata": {},
   "outputs": [
    {
     "data": {
      "text/plain": [
       "[2, 3, 1000, 1, 45, 6, 6, 8, 7, 100, 600, 30, 4, 46, 676, 7]"
      ]
     },
     "execution_count": 125,
     "metadata": {},
     "output_type": "execute_result"
    }
   ],
   "source": [
    "List3=[30,4,46,676,7]\n",
    "List2+List3"
   ]
  },
  {
   "cell_type": "code",
   "execution_count": 126,
   "id": "5b624a76",
   "metadata": {},
   "outputs": [
    {
     "data": {
      "text/plain": [
       "[2, 3, 1000, 1, 45, 6, 6, 8, 7, 100, 600]"
      ]
     },
     "execution_count": 126,
     "metadata": {},
     "output_type": "execute_result"
    }
   ],
   "source": [
    "List2"
   ]
  },
  {
   "cell_type": "code",
   "execution_count": 127,
   "id": "8909f6f7",
   "metadata": {},
   "outputs": [],
   "source": [
    "List2.extend(List3)"
   ]
  },
  {
   "cell_type": "code",
   "execution_count": 128,
   "id": "e15a78c3",
   "metadata": {},
   "outputs": [
    {
     "data": {
      "text/plain": [
       "[2, 3, 1000, 1, 45, 6, 6, 8, 7, 100, 600, 30, 4, 46, 676, 7]"
      ]
     },
     "execution_count": 128,
     "metadata": {},
     "output_type": "execute_result"
    }
   ],
   "source": [
    "List2"
   ]
  },
  {
   "cell_type": "code",
   "execution_count": 129,
   "id": "f660d463",
   "metadata": {},
   "outputs": [
    {
     "data": {
      "text/plain": [
       "[30, 4, 46, 676, 7]"
      ]
     },
     "execution_count": 129,
     "metadata": {},
     "output_type": "execute_result"
    }
   ],
   "source": [
    "List3\n"
   ]
  },
  {
   "cell_type": "code",
   "execution_count": 130,
   "id": "bed3b8d2",
   "metadata": {},
   "outputs": [],
   "source": [
    "List3.extend(List2)"
   ]
  },
  {
   "cell_type": "code",
   "execution_count": 131,
   "id": "36f35b34",
   "metadata": {},
   "outputs": [
    {
     "data": {
      "text/plain": [
       "[30, 4, 46, 676, 7, 2, 3, 1000, 1, 45, 6, 6, 8, 7, 100, 600, 30, 4, 46, 676, 7]"
      ]
     },
     "execution_count": 131,
     "metadata": {},
     "output_type": "execute_result"
    }
   ],
   "source": [
    "List3"
   ]
  },
  {
   "cell_type": "code",
   "execution_count": 132,
   "id": "1b75522b",
   "metadata": {},
   "outputs": [],
   "source": [
    "List3.remove(7)"
   ]
  },
  {
   "cell_type": "code",
   "execution_count": 133,
   "id": "ff252b93",
   "metadata": {},
   "outputs": [
    {
     "data": {
      "text/plain": [
       "[30, 4, 46, 676, 2, 3, 1000, 1, 45, 6, 6, 8, 7, 100, 600, 30, 4, 46, 676, 7]"
      ]
     },
     "execution_count": 133,
     "metadata": {},
     "output_type": "execute_result"
    }
   ],
   "source": [
    "List3"
   ]
  },
  {
   "cell_type": "code",
   "execution_count": 134,
   "id": "5a99fdd4",
   "metadata": {},
   "outputs": [],
   "source": [
    "List3.remove(7)"
   ]
  },
  {
   "cell_type": "code",
   "execution_count": 135,
   "id": "de4b48fa",
   "metadata": {},
   "outputs": [],
   "source": [
    "List3.remove(7)"
   ]
  },
  {
   "cell_type": "code",
   "execution_count": 136,
   "id": "3131c227",
   "metadata": {},
   "outputs": [
    {
     "data": {
      "text/plain": [
       "[30, 4, 46, 676, 2, 3, 1000, 1, 45, 6, 6, 8, 100, 600, 30, 4, 46, 676]"
      ]
     },
     "execution_count": 136,
     "metadata": {},
     "output_type": "execute_result"
    }
   ],
   "source": [
    "List3"
   ]
  },
  {
   "cell_type": "code",
   "execution_count": 137,
   "id": "b5be34fe",
   "metadata": {},
   "outputs": [
    {
     "data": {
      "text/plain": [
       "676"
      ]
     },
     "execution_count": 137,
     "metadata": {},
     "output_type": "execute_result"
    }
   ],
   "source": [
    "List3.pop(-1) # removes the last element"
   ]
  },
  {
   "cell_type": "code",
   "execution_count": 138,
   "id": "a4f172bc",
   "metadata": {},
   "outputs": [
    {
     "data": {
      "text/plain": [
       "[30, 4, 46, 676, 2, 3, 1000, 1, 45, 6, 6, 8, 100, 600, 30, 4, 46]"
      ]
     },
     "execution_count": 138,
     "metadata": {},
     "output_type": "execute_result"
    }
   ],
   "source": [
    "List3"
   ]
  },
  {
   "cell_type": "code",
   "execution_count": 139,
   "id": "6f6f5f20",
   "metadata": {},
   "outputs": [
    {
     "ename": "NameError",
     "evalue": "name 'List1' is not defined",
     "output_type": "error",
     "traceback": [
      "\u001b[1;31m---------------------------------------------------------------------------\u001b[0m",
      "\u001b[1;31mNameError\u001b[0m                                 Traceback (most recent call last)",
      "Cell \u001b[1;32mIn[139], line 1\u001b[0m\n\u001b[1;32m----> 1\u001b[0m \u001b[38;5;28;01mdel\u001b[39;00m(List1) \u001b[38;5;66;03m# Deletes the list permanently\u001b[39;00m\n\u001b[0;32m      2\u001b[0m List1\n",
      "\u001b[1;31mNameError\u001b[0m: name 'List1' is not defined"
     ]
    }
   ],
   "source": [
    "del(List1) # Deletes the list permanently\n",
    "List1"
   ]
  },
  {
   "cell_type": "code",
   "execution_count": 4,
   "id": "5c0de9da",
   "metadata": {},
   "outputs": [
    {
     "ename": "NameError",
     "evalue": "name 'List2' is not defined",
     "output_type": "error",
     "traceback": [
      "\u001b[1;31m---------------------------------------------------------------------------\u001b[0m",
      "\u001b[1;31mNameError\u001b[0m                                 Traceback (most recent call last)",
      "Cell \u001b[1;32mIn[4], line 1\u001b[0m\n\u001b[1;32m----> 1\u001b[0m List2\u001b[38;5;241m.\u001b[39mclear() \u001b[38;5;66;03m# clear just removes the element, won't delete the whole list\u001b[39;00m\n\u001b[0;32m      2\u001b[0m List2\n",
      "\u001b[1;31mNameError\u001b[0m: name 'List2' is not defined"
     ]
    }
   ],
   "source": [
    "List2.clear() # clear just removes the element, won't delete the whole list\n",
    "List2"
   ]
  },
  {
   "cell_type": "code",
   "execution_count": 37,
   "id": "697df172",
   "metadata": {},
   "outputs": [
    {
     "name": "stdout",
     "output_type": "stream",
     "text": [
      "['M', 'i', 'z', 'a', 'n', 'u', 'r', ' ', 'R', 'a', 'h', 'm', 'a', 'n']\n"
     ]
    }
   ],
   "source": [
    "# Converting string to list\n",
    "lst=[]\n",
    "for char in \"Mizanur Rahman\":\n",
    "    lst.append(char)\n",
    "print(lst)"
   ]
  },
  {
   "cell_type": "code",
   "execution_count": 39,
   "id": "542526c1",
   "metadata": {},
   "outputs": [
    {
     "name": "stdout",
     "output_type": "stream",
     "text": [
      "[1, 2, 3, 4, 5]\n"
     ]
    }
   ],
   "source": [
    "# Converting tuple to list\n",
    "lst1=[]\n",
    "Tup=(1,2,3,4,5)\n",
    "for i in Tup:\n",
    "    lst1.append(i)\n",
    "print(lst1)"
   ]
  },
  {
   "cell_type": "code",
   "execution_count": 40,
   "id": "7e03fbb4",
   "metadata": {},
   "outputs": [
    {
     "name": "stdout",
     "output_type": "stream",
     "text": [
      "[[0, 1, 2, 3, 4, 5, 6, 7, 8, 9], [0, 1, 2, 3, 4, 5, 6, 7, 8, 9], [0, 1, 2, 3, 4, 5, 6, 7, 8, 9]]\n"
     ]
    }
   ],
   "source": [
    "# Nested list comprehension\n",
    "matrix=[[j for j in range(10)] for i in range(3)]\n",
    "print(matrix)"
   ]
  },
  {
   "cell_type": "code",
   "execution_count": 41,
   "id": "19d0081b",
   "metadata": {},
   "outputs": [
    {
     "name": "stdout",
     "output_type": "stream",
     "text": [
      "['M', 'i', 'z', 'a', 'n', 'u', 'r', ' ', 'R', 'a', 'h', 'm', 'a', 'n']\n"
     ]
    }
   ],
   "source": [
    "# List comprehension with for loop\n",
    "List=[i for i in lst]\n",
    "print(List)"
   ]
  },
  {
   "cell_type": "markdown",
   "id": "5d7e7da4",
   "metadata": {},
   "source": [
    "# List:-\n",
    "# Supports indexing and slicing\n",
    "# Supports duplicate Values\n",
    "# Ordered\n",
    "# Supports Add(append,insert,extend,+), Remove(remove,pop,del)\n",
    "# Mutable\n",
    "\n",
    "# Tuple:-\n",
    "# Supports indexing and slicing\n",
    "# Supports duplicate Values\n",
    "# Ordered\n",
    "# Doesn't support add or remove \n",
    "# Immutable means it can not be modified\n",
    "\n",
    "\n",
    "\n",
    "# Set:-\n",
    "# Doesn't supports indexing and slicing\n",
    "# Doesn't supports duplicate values\n",
    "# Sorts itself\n",
    "# Supports Union, Intersection, Difference\n",
    "# Mutable"
   ]
  },
  {
   "cell_type": "markdown",
   "id": "c6445e88",
   "metadata": {},
   "source": [
    "# Set"
   ]
  },
  {
   "cell_type": "code",
   "execution_count": 11,
   "id": "ceb04db2",
   "metadata": {},
   "outputs": [
    {
     "data": {
      "text/plain": [
       "set"
      ]
     },
     "execution_count": 11,
     "metadata": {},
     "output_type": "execute_result"
    }
   ],
   "source": [
    "s={3}\n",
    "type(s)\n"
   ]
  },
  {
   "cell_type": "code",
   "execution_count": 12,
   "id": "4f1c2781",
   "metadata": {},
   "outputs": [
    {
     "data": {
      "text/plain": [
       "dict"
      ]
     },
     "execution_count": 12,
     "metadata": {},
     "output_type": "execute_result"
    }
   ],
   "source": [
    "b={}\n",
    "type(b)"
   ]
  },
  {
   "cell_type": "code",
   "execution_count": 141,
   "id": "800d8df9",
   "metadata": {},
   "outputs": [
    {
     "data": {
      "text/plain": [
       "{2, 3, 4, 5, 6, 54}"
      ]
     },
     "execution_count": 141,
     "metadata": {},
     "output_type": "execute_result"
    }
   ],
   "source": [
    "s={2,3,4,2,4,5,6,54,6}\n",
    "s"
   ]
  },
  {
   "cell_type": "markdown",
   "id": "cb97d86e",
   "metadata": {},
   "source": [
    "# Converting list and set\n"
   ]
  },
  {
   "cell_type": "code",
   "execution_count": 142,
   "id": "4b64e16f",
   "metadata": {},
   "outputs": [
    {
     "data": {
      "text/plain": [
       "[2, 3, 4, 5, 6, 54]"
      ]
     },
     "execution_count": 142,
     "metadata": {},
     "output_type": "execute_result"
    }
   ],
   "source": [
    "list(s)"
   ]
  },
  {
   "cell_type": "code",
   "execution_count": 144,
   "id": "13243f1d",
   "metadata": {},
   "outputs": [
    {
     "data": {
      "text/plain": [
       "[4]"
      ]
     },
     "execution_count": 144,
     "metadata": {},
     "output_type": "execute_result"
    }
   ],
   "source": [
    "list({4}) # If we want to keep any particular element in list we must use curly braces"
   ]
  },
  {
   "cell_type": "code",
   "execution_count": 143,
   "id": "120998ea",
   "metadata": {},
   "outputs": [
    {
     "data": {
      "text/plain": [
       "{1, 2, 3, 4, 6, 8, 30, 45, 46, 100, 600, 676, 1000}"
      ]
     },
     "execution_count": 143,
     "metadata": {},
     "output_type": "execute_result"
    }
   ],
   "source": [
    "set(List3)"
   ]
  },
  {
   "cell_type": "code",
   "execution_count": 146,
   "id": "d84430c7",
   "metadata": {},
   "outputs": [
    {
     "data": {
      "text/plain": [
       "{0, 3, 4, 5, 6, 7, 8, 9, 54, 67}"
      ]
     },
     "execution_count": 146,
     "metadata": {},
     "output_type": "execute_result"
    }
   ],
   "source": [
    "s1={3,54,5,6,67,5}\n",
    "s2={6,7,4,0,9,8,}\n",
    "\n",
    "s1.union(s2)"
   ]
  },
  {
   "cell_type": "code",
   "execution_count": 147,
   "id": "d8d16797",
   "metadata": {},
   "outputs": [
    {
     "data": {
      "text/plain": [
       "{0, 3, 4, 5, 6, 7, 8, 9, 54, 67}"
      ]
     },
     "execution_count": 147,
     "metadata": {},
     "output_type": "execute_result"
    }
   ],
   "source": [
    "s2.union(s1)"
   ]
  },
  {
   "cell_type": "code",
   "execution_count": 148,
   "id": "17b5b6c6",
   "metadata": {},
   "outputs": [
    {
     "data": {
      "text/plain": [
       "{6}"
      ]
     },
     "execution_count": 148,
     "metadata": {},
     "output_type": "execute_result"
    }
   ],
   "source": [
    "s1.intersection(s2)"
   ]
  },
  {
   "cell_type": "code",
   "execution_count": 149,
   "id": "62039c78",
   "metadata": {},
   "outputs": [
    {
     "data": {
      "text/plain": [
       "{6}"
      ]
     },
     "execution_count": 149,
     "metadata": {},
     "output_type": "execute_result"
    }
   ],
   "source": [
    "s2.intersection(s1)"
   ]
  },
  {
   "cell_type": "code",
   "execution_count": 150,
   "id": "1a03ce1c",
   "metadata": {},
   "outputs": [
    {
     "data": {
      "text/plain": [
       "{3, 5, 54, 67}"
      ]
     },
     "execution_count": 150,
     "metadata": {},
     "output_type": "execute_result"
    }
   ],
   "source": [
    "s1-s2"
   ]
  },
  {
   "cell_type": "code",
   "execution_count": 151,
   "id": "6cf66606",
   "metadata": {},
   "outputs": [
    {
     "data": {
      "text/plain": [
       "{0, 4, 7, 8, 9}"
      ]
     },
     "execution_count": 151,
     "metadata": {},
     "output_type": "execute_result"
    }
   ],
   "source": [
    "s2-s1"
   ]
  },
  {
   "cell_type": "code",
   "execution_count": 152,
   "id": "8664bf0e",
   "metadata": {},
   "outputs": [
    {
     "data": {
      "text/plain": [
       "{3, 5, 6, 54, 67}"
      ]
     },
     "execution_count": 152,
     "metadata": {},
     "output_type": "execute_result"
    }
   ],
   "source": [
    "s1"
   ]
  },
  {
   "cell_type": "code",
   "execution_count": 153,
   "id": "21c54d04",
   "metadata": {},
   "outputs": [
    {
     "data": {
      "text/plain": [
       "{0, 4, 6, 7, 8, 9}"
      ]
     },
     "execution_count": 153,
     "metadata": {},
     "output_type": "execute_result"
    }
   ],
   "source": [
    "s2"
   ]
  },
  {
   "cell_type": "code",
   "execution_count": 154,
   "id": "c72f3f5b",
   "metadata": {},
   "outputs": [],
   "source": [
    "s1.update(s2)"
   ]
  },
  {
   "cell_type": "code",
   "execution_count": 155,
   "id": "aad4712c",
   "metadata": {},
   "outputs": [
    {
     "data": {
      "text/plain": [
       "{0, 3, 4, 5, 6, 7, 8, 9, 54, 67}"
      ]
     },
     "execution_count": 155,
     "metadata": {},
     "output_type": "execute_result"
    }
   ],
   "source": [
    "s1"
   ]
  },
  {
   "cell_type": "code",
   "execution_count": 156,
   "id": "c2cc08d1",
   "metadata": {},
   "outputs": [
    {
     "data": {
      "text/plain": [
       "{0, 3, 4, 5, 6, 7, 8, 9, 54, 67}"
      ]
     },
     "execution_count": 156,
     "metadata": {},
     "output_type": "execute_result"
    }
   ],
   "source": [
    "s2.update(s1)\n",
    "s2"
   ]
  },
  {
   "cell_type": "code",
   "execution_count": 157,
   "id": "bd624148",
   "metadata": {},
   "outputs": [
    {
     "data": {
      "text/plain": [
       "{0, 3, 5, 6, 7, 8, 9, 54, 67}"
      ]
     },
     "execution_count": 157,
     "metadata": {},
     "output_type": "execute_result"
    }
   ],
   "source": [
    "s1.remove(4)\n",
    "s1"
   ]
  },
  {
   "cell_type": "code",
   "execution_count": 50,
   "id": "bc8f25bf",
   "metadata": {},
   "outputs": [
    {
     "ename": "NameError",
     "evalue": "name 's1' is not defined",
     "output_type": "error",
     "traceback": [
      "\u001b[1;31m---------------------------------------------------------------------------\u001b[0m",
      "\u001b[1;31mNameError\u001b[0m                                 Traceback (most recent call last)",
      "Cell \u001b[1;32mIn[50], line 1\u001b[0m\n\u001b[1;32m----> 1\u001b[0m s1\u001b[38;5;241m.\u001b[39mclear()\n\u001b[0;32m      2\u001b[0m s1\n",
      "\u001b[1;31mNameError\u001b[0m: name 's1' is not defined"
     ]
    }
   ],
   "source": [
    "s1.clear()\n",
    "s1"
   ]
  },
  {
   "cell_type": "code",
   "execution_count": 46,
   "id": "99cdd748",
   "metadata": {},
   "outputs": [],
   "source": [
    "s4={0,3,5,6,7,8,2}\n",
    "s5={9,8,7,6,6,5,4,4,3,2,1}"
   ]
  },
  {
   "cell_type": "code",
   "execution_count": 47,
   "id": "8c3a2b16",
   "metadata": {},
   "outputs": [
    {
     "name": "stdout",
     "output_type": "stream",
     "text": [
      "Intersection:  {2, 3, 5, 6, 7, 8}\n"
     ]
    }
   ],
   "source": [
    "print(\"Intersection: \",s4.intersection(s5))"
   ]
  },
  {
   "cell_type": "code",
   "execution_count": 48,
   "id": "da54302a",
   "metadata": {},
   "outputs": [
    {
     "name": "stdout",
     "output_type": "stream",
     "text": [
      "Difference:  {0}\n"
     ]
    }
   ],
   "source": [
    "print(\"Difference: \",s4.difference(s5))"
   ]
  },
  {
   "cell_type": "code",
   "execution_count": 49,
   "id": "e4dbb193",
   "metadata": {},
   "outputs": [
    {
     "name": "stdout",
     "output_type": "stream",
     "text": [
      "Symmetric difference:  {0, 1, 4, 9}\n"
     ]
    }
   ],
   "source": [
    "print(\"Symmetric difference: \",s4.symmetric_difference(s5))"
   ]
  },
  {
   "cell_type": "code",
   "execution_count": 51,
   "id": "53a80040",
   "metadata": {},
   "outputs": [
    {
     "name": "stdout",
     "output_type": "stream",
     "text": [
      "Joing s4 and s5 using | is:  {0, 1, 2, 3, 4, 5, 6, 7, 8, 9}\n"
     ]
    }
   ],
   "source": [
    "# | joins the sets\n",
    "print(\"Joing s4 and s5 using | is: \",s4|s5)"
   ]
  },
  {
   "cell_type": "code",
   "execution_count": null,
   "id": "21e2c802",
   "metadata": {},
   "outputs": [],
   "source": []
  },
  {
   "cell_type": "code",
   "execution_count": null,
   "id": "5c88c3ba",
   "metadata": {},
   "outputs": [],
   "source": []
  },
  {
   "cell_type": "code",
   "execution_count": null,
   "id": "b246bc02",
   "metadata": {},
   "outputs": [],
   "source": []
  },
  {
   "cell_type": "markdown",
   "id": "f54e4bd6",
   "metadata": {},
   "source": [
    "# Tuple:-\n"
   ]
  },
  {
   "cell_type": "code",
   "execution_count": 159,
   "id": "1608f9db",
   "metadata": {},
   "outputs": [
    {
     "data": {
      "text/plain": [
       "(2, 3)"
      ]
     },
     "execution_count": 159,
     "metadata": {},
     "output_type": "execute_result"
    }
   ],
   "source": [
    "t=(2,3)\n",
    "t"
   ]
  },
  {
   "cell_type": "code",
   "execution_count": 160,
   "id": "eb8c3b5b",
   "metadata": {},
   "outputs": [
    {
     "data": {
      "text/plain": [
       "tuple"
      ]
     },
     "execution_count": 160,
     "metadata": {},
     "output_type": "execute_result"
    }
   ],
   "source": [
    "type(t)"
   ]
  },
  {
   "cell_type": "code",
   "execution_count": 161,
   "id": "8731b92a",
   "metadata": {},
   "outputs": [
    {
     "data": {
      "text/plain": [
       "2"
      ]
     },
     "execution_count": 161,
     "metadata": {},
     "output_type": "execute_result"
    }
   ],
   "source": [
    "len(t)"
   ]
  },
  {
   "cell_type": "code",
   "execution_count": 162,
   "id": "27f96871",
   "metadata": {},
   "outputs": [
    {
     "data": {
      "text/plain": [
       "(3, 45, 56, [4, 6, 6])"
      ]
     },
     "execution_count": 162,
     "metadata": {},
     "output_type": "execute_result"
    }
   ],
   "source": [
    "t1=(3,45,56,[4,6,6]) # We can use list in tuple\n",
    "t1"
   ]
  },
  {
   "cell_type": "code",
   "execution_count": 168,
   "id": "df9fbaec",
   "metadata": {},
   "outputs": [
    {
     "data": {
      "text/plain": [
       "45"
      ]
     },
     "execution_count": 168,
     "metadata": {},
     "output_type": "execute_result"
    }
   ],
   "source": [
    "t1[1]"
   ]
  },
  {
   "cell_type": "code",
   "execution_count": 170,
   "id": "f2a8fdfd",
   "metadata": {},
   "outputs": [
    {
     "data": {
      "text/plain": [
       "[4, 6, 6]"
      ]
     },
     "execution_count": 170,
     "metadata": {},
     "output_type": "execute_result"
    }
   ],
   "source": [
    "t1[3]"
   ]
  },
  {
   "cell_type": "code",
   "execution_count": 171,
   "id": "0bf6ea0f",
   "metadata": {},
   "outputs": [
    {
     "data": {
      "text/plain": [
       "list"
      ]
     },
     "execution_count": 171,
     "metadata": {},
     "output_type": "execute_result"
    }
   ],
   "source": [
    "type(t1[3]) # We will get the type of the value of index 3 is list because actually it is a list"
   ]
  },
  {
   "cell_type": "code",
   "execution_count": 172,
   "id": "ed4b9232",
   "metadata": {},
   "outputs": [
    {
     "data": {
      "text/plain": [
       "(3, 45, 56, [4, 1000, 6])"
      ]
     },
     "execution_count": 172,
     "metadata": {},
     "output_type": "execute_result"
    }
   ],
   "source": [
    "# We cannot add or remove any element in tuple but we can add or remove the element of list if the list is in a tuple\n",
    "t1[3][1]=1000 # the process is just updates the list\n",
    "t1"
   ]
  },
  {
   "cell_type": "code",
   "execution_count": 173,
   "id": "b9f1e559",
   "metadata": {},
   "outputs": [
    {
     "data": {
      "text/plain": [
       "(3, 45, 56, [4, 1000, 6, 70])"
      ]
     },
     "execution_count": 173,
     "metadata": {},
     "output_type": "execute_result"
    }
   ],
   "source": [
    "t1[3].append(70) # This process adds the element at the end\n",
    "t1"
   ]
  },
  {
   "cell_type": "code",
   "execution_count": 52,
   "id": "49312293",
   "metadata": {},
   "outputs": [
    {
     "ename": "NameError",
     "evalue": "name 't1' is not defined",
     "output_type": "error",
     "traceback": [
      "\u001b[1;31m---------------------------------------------------------------------------\u001b[0m",
      "\u001b[1;31mNameError\u001b[0m                                 Traceback (most recent call last)",
      "Cell \u001b[1;32mIn[52], line 1\u001b[0m\n\u001b[1;32m----> 1\u001b[0m t1[\u001b[38;5;241m3\u001b[39m]\u001b[38;5;241m.\u001b[39mappend(\u001b[38;5;124m'\u001b[39m\u001b[38;5;124mHello\u001b[39m\u001b[38;5;124m'\u001b[39m) \u001b[38;5;66;03m# This process adds the element at the end\u001b[39;00m\n\u001b[0;32m      2\u001b[0m t1\n",
      "\u001b[1;31mNameError\u001b[0m: name 't1' is not defined"
     ]
    }
   ],
   "source": [
    "t1[3].append('Hello') # This process adds the element at the end\n",
    "t1"
   ]
  },
  {
   "cell_type": "code",
   "execution_count": null,
   "id": "4a142019",
   "metadata": {},
   "outputs": [],
   "source": []
  },
  {
   "cell_type": "code",
   "execution_count": null,
   "id": "9d27ef30",
   "metadata": {},
   "outputs": [],
   "source": []
  }
 ],
 "metadata": {
  "kernelspec": {
   "display_name": "Python 3 (ipykernel)",
   "language": "python",
   "name": "python3"
  },
  "language_info": {
   "codemirror_mode": {
    "name": "ipython",
    "version": 3
   },
   "file_extension": ".py",
   "mimetype": "text/x-python",
   "name": "python",
   "nbconvert_exporter": "python",
   "pygments_lexer": "ipython3",
   "version": "3.11.5"
  }
 },
 "nbformat": 4,
 "nbformat_minor": 5
}
