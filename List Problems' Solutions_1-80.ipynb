{
 "cells": [
  {
   "cell_type": "markdown",
   "id": "46733b70",
   "metadata": {},
   "source": [
    "# 1. Write a Python program to sum all the items in a list."
   ]
  },
  {
   "cell_type": "code",
   "execution_count": 1,
   "id": "a8bd8a2a",
   "metadata": {},
   "outputs": [
    {
     "name": "stdout",
     "output_type": "stream",
     "text": [
      "45\n"
     ]
    }
   ],
   "source": [
    "Lst=[1,2,3,4,5,6,7,8,9]\n",
    "Sum=0\n",
    "for i in Lst:\n",
    "    Sum=Sum+i\n",
    "print(Sum)"
   ]
  },
  {
   "cell_type": "code",
   "execution_count": 1,
   "id": "5df36f0b",
   "metadata": {},
   "outputs": [
    {
     "name": "stdout",
     "output_type": "stream",
     "text": [
      "26\n"
     ]
    }
   ],
   "source": [
    "List1=[1,2,5,7,3,1,7]\n",
    "sum=0\n",
    "for i in List1:\n",
    "    sum=sum+i\n",
    "print(sum)"
   ]
  },
  {
   "cell_type": "code",
   "execution_count": 1,
   "id": "a63620f9",
   "metadata": {},
   "outputs": [
    {
     "name": "stdout",
     "output_type": "stream",
     "text": [
      "Enter the total number of elements: 5\n",
      "Enter the elements:\n",
      "1\n",
      "2\n",
      "3\n",
      "4\n",
      "5\n",
      "Elements of list are:  [1, 2, 3, 4, 5]\n",
      "Summation of the list elements is:  15\n"
     ]
    }
   ],
   "source": [
    "class SUM:\n",
    "    def summation(self):\n",
    "        n=int(input(\"Enter the total number of elements: \"))\n",
    "        List=[]\n",
    "        sum=0\n",
    "        print(\"Enter the elements:\")\n",
    "        \n",
    "        for i in range(n):\n",
    "            i=int(input())\n",
    "            List.append(i)\n",
    "        print(\"Elements of list are: \", List)\n",
    "        for j in List:\n",
    "            sum=sum+j\n",
    "        print(\"Summation of the list elements is: \",sum)\n",
    "obj=SUM()\n",
    "obj.summation()"
   ]
  },
  {
   "cell_type": "markdown",
   "id": "7899c2fd",
   "metadata": {},
   "source": [
    "# 2. Write a Python program to multiplies all the items in a list."
   ]
  },
  {
   "cell_type": "code",
   "execution_count": 3,
   "id": "e279bef7",
   "metadata": {},
   "outputs": [
    {
     "name": "stdout",
     "output_type": "stream",
     "text": [
      "24\n"
     ]
    }
   ],
   "source": [
    "Lst=[1,2,3,4]\n",
    "Mul=1\n",
    "for i in Lst:\n",
    "    Mul*=i\n",
    "print(Mul)"
   ]
  },
  {
   "cell_type": "code",
   "execution_count": 2,
   "id": "9ca699c2",
   "metadata": {},
   "outputs": [
    {
     "name": "stdout",
     "output_type": "stream",
     "text": [
      "Enter the total number of elements: 5\n",
      "Enter the elements:\n",
      "1\n",
      "2\n",
      "3\n",
      "4\n",
      "5\n",
      "Elements of list are:  [1, 2, 3, 4, 5]\n",
      "Multiplication of the list elements is:  120\n"
     ]
    }
   ],
   "source": [
    "class MUL:\n",
    "    def multiplication(self):\n",
    "        n=int(input(\"Enter the total number of elements: \"))\n",
    "        List=[]\n",
    "        mul=1\n",
    "        \n",
    "        print(\"Enter the elements:\")\n",
    "        \n",
    "        for i in range(n):\n",
    "            i=int(input())\n",
    "            List.append(i)\n",
    "        print(\"Elements of list are: \", List)\n",
    "        for j in List:\n",
    "            mul=mul*j\n",
    "        print(\"Multiplication of the list elements is: \",mul)\n",
    "obj=MUL()\n",
    "obj.multiplication()"
   ]
  },
  {
   "cell_type": "markdown",
   "id": "eec6cf18",
   "metadata": {},
   "source": [
    "# 3. Write a Python program to get the largest number from a list."
   ]
  },
  {
   "cell_type": "code",
   "execution_count": 4,
   "id": "6154ed07",
   "metadata": {},
   "outputs": [
    {
     "name": "stdout",
     "output_type": "stream",
     "text": [
      "7\n"
     ]
    }
   ],
   "source": [
    "Lst=[3,4,6,3,2,7]\n",
    "print(max(Lst))"
   ]
  },
  {
   "cell_type": "code",
   "execution_count": 7,
   "id": "b6550da9",
   "metadata": {},
   "outputs": [
    {
     "name": "stdout",
     "output_type": "stream",
     "text": [
      "Enter the total number of elements of the list: 3\n",
      "Enter the list elements:\n",
      "1\n",
      "8\n",
      "5\n",
      "Elements of list are:  [1, 8, 5]\n",
      "Largest elemens of the list is:  8\n"
     ]
    }
   ],
   "source": [
    "class MAX:\n",
    "    def maximum(self):\n",
    "        n=int(input(\"Enter the total number of elements of the list: \"))\n",
    "        List=[]\n",
    "        \n",
    "        print(\"Enter the list elements:\")\n",
    "        \n",
    "        for i in range(n):\n",
    "            i=int(input())\n",
    "            List.append(i)\n",
    "        print(\"Elements of list are: \", List)\n",
    "        \n",
    "        print(\"Largest elemens of the list is: \",max(List))\n",
    "obj=MAX()\n",
    "obj.maximum()"
   ]
  },
  {
   "cell_type": "code",
   "execution_count": 9,
   "id": "d7ea869e",
   "metadata": {},
   "outputs": [
    {
     "name": "stdout",
     "output_type": "stream",
     "text": [
      "Enter the total number: 5\n",
      "Enter the numbers of the list: \n",
      "1\n",
      "6\n",
      "9\n",
      "4\n",
      "1\n",
      "List is:  [1, 6, 9, 4, 1]\n",
      "Largest number is:  9\n"
     ]
    }
   ],
   "source": [
    "class Max:\n",
    "    def maximum(self):\n",
    "        List=[]\n",
    "        n=int(input(\"Enter the total number: \"))\n",
    "        print(\"Enter the numbers of the list: \")\n",
    "        for i in range(n):\n",
    "            i=int(input())\n",
    "            List.append(i)\n",
    "        print(\"List is: \", List)\n",
    "        Max=List[0]\n",
    "        for j in List:\n",
    "            if j>Max:\n",
    "                Max=j\n",
    "        print(\"Largest number is: \",Max)\n",
    "Obj=Max()\n",
    "Obj.maximum()"
   ]
  },
  {
   "cell_type": "markdown",
   "id": "36967ac4",
   "metadata": {},
   "source": [
    "# 4. Write a Python program to get the smallest number from a list."
   ]
  },
  {
   "cell_type": "code",
   "execution_count": 5,
   "id": "f2da8058",
   "metadata": {},
   "outputs": [
    {
     "name": "stdout",
     "output_type": "stream",
     "text": [
      "1\n"
     ]
    }
   ],
   "source": [
    "Lst=[5,4,3,8,1,5]\n",
    "print(min(Lst))"
   ]
  },
  {
   "cell_type": "code",
   "execution_count": 9,
   "id": "38943051",
   "metadata": {},
   "outputs": [
    {
     "name": "stdout",
     "output_type": "stream",
     "text": [
      "Enter the total number of elements of the list: 5\n",
      "Enter the list elements:\n",
      "1\n",
      "5\n",
      "-5\n",
      "1\n",
      "4\n",
      "Elements of list are:  [1, 5, -5, 1, 4]\n",
      "Smallest elemens of the list is:  -5\n"
     ]
    }
   ],
   "source": [
    "class MIN:\n",
    "    def minimum(self):\n",
    "        n=int(input(\"Enter the total number of elements of the list: \"))\n",
    "        List=[]\n",
    "        \n",
    "        print(\"Enter the list elements:\")\n",
    "        \n",
    "        for i in range(n):\n",
    "            i=int(input())\n",
    "            List.append(i)\n",
    "        print(\"Elements of list are: \", List)\n",
    "        \n",
    "        print(\"Smallest elemens of the list is: \",min(List))\n",
    "obj=MIN()\n",
    "obj.minimum()"
   ]
  },
  {
   "cell_type": "code",
   "execution_count": 15,
   "id": "b4f47bc2",
   "metadata": {},
   "outputs": [
    {
     "name": "stdout",
     "output_type": "stream",
     "text": [
      "Enter the total number: 6\n",
      "Enter the numbers: \n",
      "1\n",
      "8\n",
      "6\n",
      "1\n",
      "-5\n",
      "2\n",
      "The list is:  [1, 8, 6, 1, -5, 2]\n",
      "Smallest number is:  -5\n"
     ]
    }
   ],
   "source": [
    "class Min:\n",
    "    def minimum(self):\n",
    "        List=[]\n",
    "        n=int(input(\"Enter the total number: \"))\n",
    "        print(\"Enter the numbers: \")\n",
    "        for i in range(n):\n",
    "            List.append(int(input()))\n",
    "        print(\"The list is: \",List)\n",
    "        Min=List[0]\n",
    "        for j in List:\n",
    "            if Min>j:\n",
    "                Min=j\n",
    "        print(\"Smallest number is: \",Min)\n",
    "Obj=Min()\n",
    "Obj.minimum()"
   ]
  },
  {
   "cell_type": "markdown",
   "id": "4cb86def",
   "metadata": {},
   "source": [
    "# 5. Write a Python program to count the number of strings where the string length is 2 or more and the first and last character are same from a given list of strings. Sample List : ['abc', 'xyz', 'aba', '1221'] Expected Result : 2"
   ]
  },
  {
   "cell_type": "code",
   "execution_count": 10,
   "id": "bbd729bb",
   "metadata": {},
   "outputs": [
    {
     "name": "stdout",
     "output_type": "stream",
     "text": [
      "2\n"
     ]
    }
   ],
   "source": [
    "Lst=['abc', 'xyz', 'aba', '1221']\n",
    "count=0\n",
    "for i in Lst:\n",
    "    if len(i)>1 and i[0]==i[-1]:\n",
    "        count=count+1\n",
    "print(count)"
   ]
  },
  {
   "cell_type": "code",
   "execution_count": 19,
   "id": "284cc990",
   "metadata": {},
   "outputs": [
    {
     "name": "stdout",
     "output_type": "stream",
     "text": [
      "Enter the total number of string: 4\n",
      "Enter the strings: \n",
      "abc\n",
      "xyz\n",
      "aba\n",
      "1221\n",
      "['abc', 'xyz', 'aba', '1221']\n",
      "2\n"
     ]
    }
   ],
   "source": [
    "class a:\n",
    "    def count(self):\n",
    "        List=[]\n",
    "        cnt=0\n",
    "        n=int(input(\"Enter the total number of string: \"))\n",
    "        \n",
    "        print(\"Enter the strings: \")\n",
    "        for i in range(n):\n",
    "            List.append(str(input()))\n",
    "        print(List)\n",
    "        for j in List:\n",
    "            if len(j)>1 and j[0]==j[-1]:\n",
    "                cnt=cnt+1\n",
    "        print(cnt)\n",
    "Obj=a()\n",
    "Obj.count()"
   ]
  },
  {
   "cell_type": "markdown",
   "id": "22066771",
   "metadata": {},
   "source": [
    "# 6. Write a Python program to get a list, sorted in increasing order by the last element in each tuple from a given list of non-empty tuples. Sample List : [(2, 5), (1, 2), (4, 4), (2, 3), (2, 1)] Expected Result : [(2, 1), (1, 2), (2, 3), (4, 4), (2, 5)]"
   ]
  },
  {
   "cell_type": "code",
   "execution_count": 12,
   "id": "e8b6ae9f",
   "metadata": {},
   "outputs": [
    {
     "name": "stdout",
     "output_type": "stream",
     "text": [
      "[(2, 1), (1, 2), (2, 3), (4, 4), (2, 5)]\n"
     ]
    }
   ],
   "source": [
    "def last(n):\n",
    "    return n[-1]\n",
    "\n",
    "def sort_list_last(tuples):\n",
    "    return sorted(tuples, key=last)\n",
    "\n",
    "print(sort_list_last([(2, 5), (1, 2), (4, 4), (2, 3), (2, 1)]))"
   ]
  },
  {
   "cell_type": "markdown",
   "id": "881debbd",
   "metadata": {},
   "source": [
    "# 7. Write a Python program to remove duplicates from a list."
   ]
  },
  {
   "cell_type": "code",
   "execution_count": 62,
   "id": "d63b5bd7",
   "metadata": {},
   "outputs": [
    {
     "name": "stdout",
     "output_type": "stream",
     "text": [
      "Enter the total number: 5\n",
      "Enter the elements: \n",
      "1\n",
      "6\n",
      "1\n",
      "6\n",
      "5\n",
      "The list is:  [1, 6, 1, 6, 5]\n",
      "List without any duplicate is:  [1, 6, 5]\n"
     ]
    }
   ],
   "source": [
    "n=int(input(\"Enter the total number: \"))\n",
    "List=[]\n",
    "print(\"Enter the elements: \")\n",
    "for i in range(n):\n",
    "    List.append(int(input()))\n",
    "print(\"The list is: \",List)\n",
    "Duplicate_List=set()\n",
    "Unique_List=[]\n",
    "for j in List:\n",
    "    if j not in Duplicate_List:\n",
    "        Unique_List.append(j)\n",
    "        Duplicate_List.add(j)\n",
    "        \n",
    "print(\"List without any duplicate is: \", Unique_List)"
   ]
  },
  {
   "cell_type": "markdown",
   "id": "b715931f",
   "metadata": {},
   "source": [
    "# 8. Write a Python program to check if a list is empty or not."
   ]
  },
  {
   "cell_type": "code",
   "execution_count": 21,
   "id": "62b94c1d",
   "metadata": {},
   "outputs": [
    {
     "name": "stdout",
     "output_type": "stream",
     "text": [
      "Enter the total numbers of the list: 1\n",
      "Enter the numbers: \n",
      "5\n",
      "The list is:  [5]\n",
      "List is not empty\n"
     ]
    }
   ],
   "source": [
    "class empty:\n",
    "    def emp(self):\n",
    "        List=[]\n",
    "        n=int(input(\"Enter the total numbers of the list: \"))\n",
    "        print(\"Enter the numbers: \")\n",
    "        for i in range(n):\n",
    "            List.append(int(input()))\n",
    "        print(\"The list is: \",List)\n",
    "        if not List:\n",
    "            print(\"List is empty\")\n",
    "        else:\n",
    "            print(\"List is not empty\")\n",
    "Obj=empty()\n",
    "Obj.emp()"
   ]
  },
  {
   "cell_type": "markdown",
   "id": "ea0c14cc",
   "metadata": {},
   "source": [
    "# 9. Write a Python program to clone or copy a list."
   ]
  },
  {
   "cell_type": "code",
   "execution_count": 36,
   "id": "ef673786",
   "metadata": {},
   "outputs": [
    {
     "name": "stdout",
     "output_type": "stream",
     "text": [
      "Enter the total number: 3\n",
      "Enter the number\n",
      "1\n",
      "2\n",
      "3\n",
      "The List is:  [1, 2, 3]\n",
      "Copied list is:  [1, 2, 3]\n"
     ]
    }
   ],
   "source": [
    "class copy:\n",
    "    def cpy(self):\n",
    "        List=[]\n",
    "        List2=[]\n",
    "        n=int(input(\"Enter the total number: \"))\n",
    "        print(\"Enter the number\")\n",
    "        for i in range(n):\n",
    "            List.append(int(input()))\n",
    "        print(\"The List is: \",List)\n",
    "        List2.extend(List)\n",
    "        print(\"Copied list is: \",List2)\n",
    "Obj=copy()\n",
    "Obj.cpy()"
   ]
  },
  {
   "cell_type": "markdown",
   "id": "74fa3bbf",
   "metadata": {},
   "source": [
    "# 10. Write a Python program to find the list of words that are longer than n from a given list of words."
   ]
  },
  {
   "cell_type": "code",
   "execution_count": 2,
   "id": "259add13",
   "metadata": {},
   "outputs": [
    {
     "name": "stdout",
     "output_type": "stream",
     "text": [
      "Update list is:  ['brown', 'jumps', 'over', 'lazy']\n"
     ]
    }
   ],
   "source": [
    "class word:\n",
    "    def wrd(self,n,str):\n",
    "        List=[]\n",
    "        List2=[]\n",
    "        \n",
    "        txt=str.split(\" \")\n",
    "        for i in txt:\n",
    "            if len(i)>n:\n",
    "                List2.append(i)\n",
    "        print(\"Update list is: \",List2)\n",
    "Obj=word()\n",
    "Obj.wrd(3,\"The big brown fox jumps over the lazy dog\")"
   ]
  },
  {
   "cell_type": "markdown",
   "id": "bac5b991",
   "metadata": {},
   "source": [
    "# 11. Write a Python function that takes two lists and returns True if they have at least one common member."
   ]
  },
  {
   "cell_type": "code",
   "execution_count": 16,
   "id": "a4cb6f66",
   "metadata": {},
   "outputs": [
    {
     "name": "stdout",
     "output_type": "stream",
     "text": [
      "Enter the length of 1st list: 2\n",
      "Enter the elements: \n",
      "Mizanur\n",
      "Rahman\n",
      "Enter the length of 2nd list: 1\n",
      "Enter the elements: \n",
      "Kishor\n",
      "1st list is:  ['Mizanur', 'Rahman'] \n",
      "2nd list is:  ['Kishor']\n",
      "False\n"
     ]
    }
   ],
   "source": [
    "class common:\n",
    "    def cmn(self):\n",
    "        List1=[]\n",
    "        List2=[]\n",
    "        result=False\n",
    "        n=int(input(\"Enter the length of 1st list: \"))\n",
    "        print(\"Enter the elements: \")\n",
    "        for i in range(n):\n",
    "            List1.append(input())\n",
    "        m=int(input(\"Enter the length of 2nd list: \"))\n",
    "        print(\"Enter the elements: \")\n",
    "        for j in range(m):\n",
    "            List2.append(input())\n",
    "        print(\"1st list is: \", List1,\"\\n2nd list is: \",List2)\n",
    "        \n",
    "        for k in List1:\n",
    "            for l in List2:\n",
    "                if k==l:\n",
    "                    result=True\n",
    "        print(result)\n",
    "Obj=common()\n",
    "Obj.cmn()"
   ]
  },
  {
   "cell_type": "markdown",
   "id": "51b25e83",
   "metadata": {},
   "source": [
    "# 12. Write a Python program to print a specified list after removing the 0th, 4th and 5th elements. Sample List : ['Red', 'Green', 'White', 'Black', 'Pink', 'Yellow'] Expected Output : ['Green', 'White', 'Black']"
   ]
  },
  {
   "cell_type": "code",
   "execution_count": 2,
   "id": "10434155",
   "metadata": {},
   "outputs": [
    {
     "name": "stdout",
     "output_type": "stream",
     "text": [
      "['Green', 'White', 'Black']\n"
     ]
    }
   ],
   "source": [
    "List=['Red', 'Green', 'White', 'Black', 'Pink', 'Yellow']\n",
    "List=[x for (i,x) in enumerate(List) if i not in(0,4,5)]\n",
    "print(List)"
   ]
  },
  {
   "cell_type": "markdown",
   "id": "68d1a8d3",
   "metadata": {},
   "source": [
    "# 13. Write a Python program to generate a 3x4x6 3D array whose each element is *."
   ]
  },
  {
   "cell_type": "code",
   "execution_count": 4,
   "id": "1f4b4e14",
   "metadata": {},
   "outputs": [
    {
     "name": "stdout",
     "output_type": "stream",
     "text": [
      "[[['*', '*', '*', '*', '*', '*'], ['*', '*', '*', '*', '*', '*'], ['*', '*', '*', '*', '*', '*'], ['*', '*', '*', '*', '*', '*']], [['*', '*', '*', '*', '*', '*'], ['*', '*', '*', '*', '*', '*'], ['*', '*', '*', '*', '*', '*'], ['*', '*', '*', '*', '*', '*']], [['*', '*', '*', '*', '*', '*'], ['*', '*', '*', '*', '*', '*'], ['*', '*', '*', '*', '*', '*'], ['*', '*', '*', '*', '*', '*']]]\n"
     ]
    }
   ],
   "source": [
    "Array=[[['*'for col in range(6)]for col in range(4)]for row in range(3)]\n",
    "print(Array)"
   ]
  },
  {
   "cell_type": "markdown",
   "id": "e3fc2c38",
   "metadata": {},
   "source": [
    "# 14. Write a Python program to print the numbers of a specified list after removing even numbers from it."
   ]
  },
  {
   "cell_type": "code",
   "execution_count": 5,
   "id": "45d219bf",
   "metadata": {},
   "outputs": [
    {
     "name": "stdout",
     "output_type": "stream",
     "text": [
      "[1, 3, 5, 7, 9]\n"
     ]
    }
   ],
   "source": [
    "List=[0,1,2,3,4,5,6,7,8,9]\n",
    "List=[i for i in List if i%2!=0]\n",
    "print(List)"
   ]
  },
  {
   "cell_type": "markdown",
   "id": "12c3eea3",
   "metadata": {},
   "source": [
    "# 15. Write a Python program to shuffle and print a specified list."
   ]
  },
  {
   "cell_type": "code",
   "execution_count": 10,
   "id": "5108f178",
   "metadata": {},
   "outputs": [
    {
     "name": "stdout",
     "output_type": "stream",
     "text": [
      "['Green', 'Red', 'Yellow', 'Pink', 'Black', 'White']\n"
     ]
    }
   ],
   "source": [
    "from random import shuffle\n",
    "List = ['Red', 'Green', 'White', 'Black', 'Pink', 'Yellow']\n",
    "shuffle(List)\n",
    "print(List)"
   ]
  },
  {
   "cell_type": "markdown",
   "id": "1dc971f0",
   "metadata": {},
   "source": [
    "# 16. Write a Python program to generate and print a list of the first and last 5 elements where the values are square numbers between 1 and 30 (both included)."
   ]
  },
  {
   "cell_type": "code",
   "execution_count": 11,
   "id": "88e88878",
   "metadata": {},
   "outputs": [
    {
     "name": "stdout",
     "output_type": "stream",
     "text": [
      "[1, 4, 9, 16, 25]\n",
      "[256, 289, 324, 361, 400]\n"
     ]
    }
   ],
   "source": [
    "def printValues():\n",
    "    l = list()\n",
    "    for i in range(1, 21):\n",
    "        l.append(i**2)\n",
    "    print(l[:5])\n",
    "    print(l[-5:])\n",
    "\n",
    "printValues()"
   ]
  },
  {
   "cell_type": "markdown",
   "id": "1532e159",
   "metadata": {},
   "source": [
    "# 17. Write a Python program to check if each number is prime in a given list of numbers. Return True if all numbers are prime otherwise False. Sample Data: ([0, 3, 4, 7, 9]) -> False ([3, 5, 7, 13]) -> True ([1, 5, 3]) -> False"
   ]
  },
  {
   "cell_type": "code",
   "execution_count": 17,
   "id": "202a4eaf",
   "metadata": {},
   "outputs": [
    {
     "name": "stdout",
     "output_type": "stream",
     "text": [
      "Original list of numbers:\n",
      "[0, 3, 4, 7, 9]\n",
      "Check if each number is prime in the said list of numbers:\n",
      "False\n",
      "\n",
      "Original list of numbers:\n",
      "[3, 5, 7, 13]\n",
      "Check if each number is prime in the said list of numbers:\n",
      "True\n",
      "\n",
      "Original list of numbers:\n",
      "[1, 5, 3]\n",
      "Check if each number is prime in the said list of numbers:\n",
      "False\n"
     ]
    }
   ],
   "source": [
    "def test(nums):\n",
    "    return all(is_prime(i) for i in nums)\n",
    "\n",
    "def is_prime(n):\n",
    "    if (n == 1):\n",
    "        return False\n",
    "    elif (n == 2):\n",
    "        return True\n",
    "    else:\n",
    "        for x in range(2, n):\n",
    "            if (n % x == 0):\n",
    "                return False\n",
    "        return True\n",
    "\n",
    "nums = [0, 3, 4, 7, 9]\n",
    "print(\"Original list of numbers:\")\n",
    "print(nums)\n",
    "print(\"Check if each number is prime in the said list of numbers:\")\n",
    "print(test(nums))\n",
    "\n",
    "nums = [3, 5, 7, 13]\n",
    "print(\"\\nOriginal list of numbers:\")\n",
    "print(nums)\n",
    "print(\"Check if each number is prime in the said list of numbers:\")\n",
    "print(test(nums))\n",
    "\n",
    "nums = [1, 5, 3]\n",
    "print(\"\\nOriginal list of numbers:\")\n",
    "print(nums)\n",
    "print(\"Check if each number is prime in the said list of numbers:\")\n",
    "print(test(nums)) "
   ]
  },
  {
   "cell_type": "markdown",
   "id": "5c1c6739",
   "metadata": {},
   "source": [
    "# 18. Write a Python program to generate all permutations of a list in Python."
   ]
  },
  {
   "cell_type": "code",
   "execution_count": 23,
   "id": "149b643e",
   "metadata": {},
   "outputs": [
    {
     "name": "stdout",
     "output_type": "stream",
     "text": [
      "[(1, 2, 3, 4), (1, 2, 4, 3), (1, 3, 2, 4), (1, 3, 4, 2), (1, 4, 2, 3), (1, 4, 3, 2), (2, 1, 3, 4), (2, 1, 4, 3), (2, 3, 1, 4), (2, 3, 4, 1), (2, 4, 1, 3), (2, 4, 3, 1), (3, 1, 2, 4), (3, 1, 4, 2), (3, 2, 1, 4), (3, 2, 4, 1), (3, 4, 1, 2), (3, 4, 2, 1), (4, 1, 2, 3), (4, 1, 3, 2), (4, 2, 1, 3), (4, 2, 3, 1), (4, 3, 1, 2), (4, 3, 2, 1)]\n"
     ]
    }
   ],
   "source": [
    "print(list(itertools.permutations([1, 2, 3, 4])))"
   ]
  },
  {
   "cell_type": "markdown",
   "id": "2d8c66c4",
   "metadata": {},
   "source": [
    "# 19. Write a Python program to calculate the difference between the two lists."
   ]
  },
  {
   "cell_type": "code",
   "execution_count": 24,
   "id": "0a2f0405",
   "metadata": {},
   "outputs": [
    {
     "name": "stdout",
     "output_type": "stream",
     "text": [
      "[9, 3, 5, 8, 2, 4, 6]\n"
     ]
    }
   ],
   "source": [
    "list1 = [1, 3, 5, 7, 9]\n",
    "\n",
    "list2 = [1, 2, 4, 6, 7, 8]\n",
    "\n",
    "diff_list1_list2 = list(set(list1) - set(list2))\n",
    "\n",
    "diff_list2_list1 = list(set(list2) - set(list1))\n",
    "\n",
    "total_diff = diff_list1_list2 + diff_list2_list1\n",
    "\n",
    "print(total_diff)"
   ]
  },
  {
   "cell_type": "markdown",
   "id": "53f19133",
   "metadata": {},
   "source": [
    "# 20. Write a Python program to access the index of a list."
   ]
  },
  {
   "cell_type": "code",
   "execution_count": 25,
   "id": "1a23131d",
   "metadata": {},
   "outputs": [
    {
     "name": "stdout",
     "output_type": "stream",
     "text": [
      "0 5\n",
      "1 15\n",
      "2 35\n",
      "3 8\n",
      "4 98\n"
     ]
    }
   ],
   "source": [
    "nums = [5, 15, 35, 8, 98]\n",
    "for num_index, num_val in enumerate(nums):\n",
    "    print(num_index, num_val)"
   ]
  },
  {
   "cell_type": "markdown",
   "id": "694d76a7",
   "metadata": {},
   "source": [
    "# 21. Write a Python program to convert a list of characters into a string."
   ]
  },
  {
   "cell_type": "code",
   "execution_count": 26,
   "id": "fdc8cd84",
   "metadata": {},
   "outputs": [
    {
     "name": "stdout",
     "output_type": "stream",
     "text": [
      "abcd\n"
     ]
    }
   ],
   "source": [
    "s = ['a', 'b', 'c', 'd']\n",
    "\n",
    "str1 = ''.join(s)\n",
    "\n",
    "print(str1)"
   ]
  },
  {
   "cell_type": "markdown",
   "id": "c8c38499",
   "metadata": {},
   "source": [
    "# 22. Write a Python program to find the index of an item in a specified list."
   ]
  },
  {
   "cell_type": "code",
   "execution_count": 27,
   "id": "162d78ee",
   "metadata": {},
   "outputs": [
    {
     "name": "stdout",
     "output_type": "stream",
     "text": [
      "1\n"
     ]
    }
   ],
   "source": [
    "num = [10, 30, 4, -6]\n",
    "print(num.index(30))"
   ]
  },
  {
   "cell_type": "markdown",
   "id": "1e3da6fb",
   "metadata": {},
   "source": [
    "# 23. Write a Python program to flatten a shallow list."
   ]
  },
  {
   "cell_type": "code",
   "execution_count": 43,
   "id": "77aa237a",
   "metadata": {},
   "outputs": [
    {
     "name": "stdout",
     "output_type": "stream",
     "text": [
      "[2, 4, 3, 1, 5, 6, 9, 7, 9, 0]\n"
     ]
    }
   ],
   "source": [
    "original_list = [[2, 4, 3], [1, 5, 6], [9], [7, 9, 0]]\n",
    "\n",
    "new_merged_list = list(itertools.chain(*original_list))\n",
    "\n",
    "print(new_merged_list)"
   ]
  },
  {
   "cell_type": "code",
   "execution_count": 33,
   "id": "8c16b941",
   "metadata": {},
   "outputs": [
    {
     "name": "stdout",
     "output_type": "stream",
     "text": [
      "Original list elements:\n",
      "[[1, 2, 3, 4], [5, 6, 7, 8]]\n",
      "\n",
      "Flatten the said list:\n",
      "[1, 2, 3, 4, 5, 6, 7, 8]\n",
      "\n",
      "Original list elements:\n",
      "[[2, 4, 3], [1, 5, 6], [9], [7, 9, 0]]\n",
      "\n",
      "Flatten the said list:\n",
      "[2, 4, 3, 1, 5, 6, 9, 7, 9, 0]\n"
     ]
    }
   ],
   "source": [
    "def flatten(nums):\n",
    "    return [x for y in nums for x in y]\n",
    "\n",
    "nums = [[1, 2, 3, 4], [5, 6, 7, 8]]\n",
    "print(\"Original list elements:\")\n",
    "print(nums)\n",
    "\n",
    "print(\"\\nFlatten the said list:\")\n",
    "print(flatten(nums))\n",
    "\n",
    "nums = [[2, 4, 3], [1, 5, 6], [9], [7, 9, 0]]\n",
    "print(\"\\nOriginal list elements:\")\n",
    "print(nums)\n",
    "\n",
    "print(\"\\nFlatten the said list:\")\n",
    "print(flatten(nums))"
   ]
  },
  {
   "cell_type": "markdown",
   "id": "79ea3999",
   "metadata": {},
   "source": [
    "# 24. Write a Python program to append a list to the second list."
   ]
  },
  {
   "cell_type": "code",
   "execution_count": 36,
   "id": "18dee1e1",
   "metadata": {},
   "outputs": [
    {
     "name": "stdout",
     "output_type": "stream",
     "text": [
      "[11, 12, 13, 0, 1, 2, 3, 4, 5, 6, 7, 8, 9]\n"
     ]
    }
   ],
   "source": [
    "List1=[0,1,2,3,4,5,6,7,8,9]\n",
    "List2=[11,12,13]\n",
    "for i in List1:\n",
    "    List2.append(i)\n",
    "print(List2)"
   ]
  },
  {
   "cell_type": "code",
   "execution_count": 38,
   "id": "e2e3bbb7",
   "metadata": {},
   "outputs": [
    {
     "name": "stdout",
     "output_type": "stream",
     "text": [
      "[0, 1, 2, 3, 4, 5, 6, 7, 8, 9, 11, 12, 13]\n"
     ]
    }
   ],
   "source": [
    "List1=[0,1,2,3,4,5,6,7,8,9]\n",
    "List2=[11,12,13]\n",
    "List3=List1+List2\n",
    "print(List3)"
   ]
  },
  {
   "cell_type": "markdown",
   "id": "a1ec9501",
   "metadata": {},
   "source": [
    "# 25. Write a Python program to select an item randomly from a list."
   ]
  },
  {
   "cell_type": "code",
   "execution_count": 42,
   "id": "0a1c992d",
   "metadata": {},
   "outputs": [
    {
     "name": "stdout",
     "output_type": "stream",
     "text": [
      "Blue\n"
     ]
    }
   ],
   "source": [
    "color_list = ['Red', 'Blue', 'Green', 'White', 'Black']\n",
    "print(random.choice(color_list))"
   ]
  },
  {
   "cell_type": "markdown",
   "id": "fd4cf683",
   "metadata": {},
   "source": [
    "# 26. Write a Python program to check whether two lists are circularly identical."
   ]
  },
  {
   "cell_type": "code",
   "execution_count": 44,
   "id": "6e8abfcd",
   "metadata": {},
   "outputs": [
    {
     "name": "stdout",
     "output_type": "stream",
     "text": [
      "Compare list1 and list2\n",
      "True\n",
      "Compare list1 and list3\n",
      "False\n"
     ]
    }
   ],
   "source": [
    "list1 = [10, 10, 0, 0, 10]\n",
    "list2 = [10, 10, 10, 0, 0]\n",
    "list3 = [1, 10, 10, 0, 0]\n",
    "\n",
    "print('Compare list1 and list2')\n",
    "\n",
    "print(' '.join(map(str, list2)) in ' '.join(map(str, list1 * 2)))\n",
    "\n",
    "print('Compare list1 and list3')\n",
    "\n",
    "print(' '.join(map(str, list3)) in ' '.join(map(str, list1 * 2))) "
   ]
  },
  {
   "cell_type": "markdown",
   "id": "04fcad3c",
   "metadata": {},
   "source": [
    "# 27. Write a Python program to find the second smallest number in a list."
   ]
  },
  {
   "cell_type": "code",
   "execution_count": 45,
   "id": "1974d64e",
   "metadata": {},
   "outputs": [
    {
     "name": "stdout",
     "output_type": "stream",
     "text": [
      "-2\n",
      "0\n",
      "0\n",
      "None\n",
      "None\n"
     ]
    }
   ],
   "source": [
    "def second_smallest(numbers):\n",
    "    if len(numbers) < 2:\n",
    "        return\n",
    "\n",
    "    if len(numbers) == 2 and numbers[0] == numbers[1]:\n",
    "        return\n",
    "\n",
    "    dup_items = set()\n",
    "    uniq_items = []\n",
    "\n",
    "    for x in numbers:\n",
    "        if x not in dup_items:\n",
    "            uniq_items.append(x)\n",
    "            dup_items.add(x)\n",
    "\n",
    "    uniq_items.sort()\n",
    "\n",
    "    return uniq_items[1]\n",
    "\n",
    "print(second_smallest([1, 2, -8, -2, 0, -2]))\n",
    "print(second_smallest([1, 1, 0, 0, 2, -2, -2]))\n",
    "print(second_smallest([1, 1, 1, 0, 0, 0, 2, -2, -2]))\n",
    "print(second_smallest([2, 2]))  \n",
    "print(second_smallest([2]))  "
   ]
  },
  {
   "cell_type": "markdown",
   "id": "ca98bbef",
   "metadata": {},
   "source": [
    "# 28. Write a Python program to find the second largest number in a list."
   ]
  },
  {
   "cell_type": "code",
   "execution_count": 46,
   "id": "27d53876",
   "metadata": {},
   "outputs": [
    {
     "name": "stdout",
     "output_type": "stream",
     "text": [
      "3\n",
      "1\n",
      "None\n",
      "None\n"
     ]
    }
   ],
   "source": [
    "def second_largest(numbers):\n",
    "    if len(numbers) < 2:\n",
    "        return\n",
    "\n",
    "    if len(numbers) == 2 and numbers[0] == numbers[1]:\n",
    "        return\n",
    "\n",
    "    dup_items = set()\n",
    "    uniq_items = []\n",
    "\n",
    "    for x in numbers:\n",
    "        if x not in dup_items:\n",
    "            uniq_items.append(x)\n",
    "            dup_items.add(x)\n",
    "\n",
    "    uniq_items.sort()\n",
    "\n",
    "    return uniq_items[-2]\n",
    "\n",
    "print(second_largest([1, 2, 3, 4, 4]))\n",
    "print(second_largest([1, 1, 1, 0, 0, 0, 2, -2, -2]))\n",
    "print(second_largest([2, 2]))  \n",
    "print(second_largest([1]))  \n"
   ]
  },
  {
   "cell_type": "markdown",
   "id": "73f462c4",
   "metadata": {},
   "source": [
    "# 29. Write a Python program to get unique values from a list."
   ]
  },
  {
   "cell_type": "code",
   "execution_count": 47,
   "id": "18947237",
   "metadata": {},
   "outputs": [
    {
     "name": "stdout",
     "output_type": "stream",
     "text": [
      "Original List :  [10, 20, 30, 40, 20, 50, 60, 40]\n",
      "List of unique numbers :  [40, 10, 50, 20, 60, 30]\n"
     ]
    }
   ],
   "source": [
    "my_list = [10, 20, 30, 40, 20, 50, 60, 40]\n",
    "\n",
    "print(\"Original List : \", my_list)\n",
    "\n",
    "my_set = set(my_list)\n",
    "\n",
    "my_new_list = list(my_set)\n",
    "\n",
    "print(\"List of unique numbers : \", my_new_list)"
   ]
  },
  {
   "cell_type": "markdown",
   "id": "3bcb3ea5",
   "metadata": {},
   "source": [
    "# 30. Write a Python program to get the frequency of elements in a list."
   ]
  },
  {
   "cell_type": "code",
   "execution_count": 48,
   "id": "d0cbcc9c",
   "metadata": {},
   "outputs": [
    {
     "name": "stdout",
     "output_type": "stream",
     "text": [
      "Original List :  [10, 10, 10, 10, 20, 20, 20, 20, 40, 40, 50, 50, 30]\n",
      "Frequency of the elements in the List :  Counter({10: 4, 20: 4, 40: 2, 50: 2, 30: 1})\n"
     ]
    }
   ],
   "source": [
    "import collections\n",
    "\n",
    "my_list = [10, 10, 10, 10, 20, 20, 20, 20, 40, 40, 50, 50, 30]\n",
    "\n",
    "print(\"Original List : \", my_list)\n",
    "\n",
    "ctr = collections.Counter(my_list)\n",
    "\n",
    "print(\"Frequency of the elements in the List : \", ctr) "
   ]
  },
  {
   "cell_type": "markdown",
   "id": "9138c246",
   "metadata": {},
   "source": [
    "# 31. Write a Python program to count the number of elements in a list within a specified range."
   ]
  },
  {
   "cell_type": "code",
   "execution_count": 49,
   "id": "dfa5b127",
   "metadata": {},
   "outputs": [
    {
     "name": "stdout",
     "output_type": "stream",
     "text": [
      "6\n",
      "5\n"
     ]
    }
   ],
   "source": [
    "def count_range_in_list(li, min, max):\n",
    "    ctr = 0\n",
    "\n",
    "    for x in li:\n",
    "        if min <= x <= max:\n",
    "            ctr += 1\n",
    "\n",
    "    return ctr\n",
    "\n",
    "list1 = [10, 20, 30, 40, 40, 40, 70, 80, 99]\n",
    "\n",
    "print(count_range_in_list(list1, 40, 100))\n",
    "\n",
    "list2 = ['a', 'b', 'c', 'd', 'e', 'f']\n",
    "\n",
    "print(count_range_in_list(list2, 'a', 'e')) "
   ]
  },
  {
   "cell_type": "markdown",
   "id": "d441a16f",
   "metadata": {},
   "source": [
    "# 32. Write a Python program to check whether a list contains a sublist."
   ]
  },
  {
   "cell_type": "code",
   "execution_count": 50,
   "id": "7382e9d5",
   "metadata": {},
   "outputs": [
    {
     "name": "stdout",
     "output_type": "stream",
     "text": [
      "True\n",
      "False\n"
     ]
    }
   ],
   "source": [
    "def is_Sublist(l, s):\n",
    "    sub_set = False \n",
    "\n",
    "    if s == []:\n",
    "        sub_set = True\n",
    "    elif s == l:\n",
    "        sub_set = True\n",
    "    elif len(s) > len(l):\n",
    "        sub_set = False\n",
    "    else:\n",
    "        for i in range(len(l)):\n",
    "            if l[i] == s[0]:\n",
    "                n = 1\n",
    "                while (n < len(s)) and (l[i + n] == s[n]):\n",
    "                    n += 1\n",
    "\n",
    "                if n == len(s):\n",
    "                    sub_set = True\n",
    "\n",
    "\n",
    "    return sub_set\n",
    "\n",
    "a = [2, 4, 3, 5, 7]\n",
    "b = [4, 3]\n",
    "c = [3, 7]\n",
    "\n",
    "print(is_Sublist(a, b))\n",
    "\n",
    "print(is_Sublist(a, c))"
   ]
  },
  {
   "cell_type": "markdown",
   "id": "7919c7d9",
   "metadata": {},
   "source": [
    "# 33. Write a Python program to generate all sublists of a list."
   ]
  },
  {
   "cell_type": "code",
   "execution_count": 51,
   "id": "689f48a9",
   "metadata": {},
   "outputs": [
    {
     "name": "stdout",
     "output_type": "stream",
     "text": [
      "Original list:\n",
      "[10, 20, 30, 40]\n",
      "Sublists of the said list:\n",
      "[[], [10], [20], [30], [40], [10, 20], [10, 30], [10, 40], [20, 30], [20, 40], [30, 40], [10, 20, 30], [10, 20, 40], [10, 30, 40], [20, 30, 40], [10, 20, 30, 40]]\n",
      "\n",
      "Original list:\n",
      "['X', 'Y', 'Z']\n",
      "Sublists of the said list:\n",
      "[[], ['X'], ['Y'], ['Z'], ['X', 'Y'], ['X', 'Z'], ['Y', 'Z'], ['X', 'Y', 'Z']]\n"
     ]
    }
   ],
   "source": [
    "from itertools import combinations\n",
    "\n",
    "def sub_lists(my_list):\n",
    "    subs = []  \n",
    "\n",
    "    for i in range(0, len(my_list) + 1):\n",
    "        temp = [list(x) for x in combinations(my_list, i)]\n",
    "\n",
    "        if len(temp) > 0:\n",
    "            subs.extend(temp)\n",
    "\n",
    "    return subs  \n",
    "\n",
    "l1 = [10, 20, 30, 40]\n",
    "l2 = ['X', 'Y', 'Z']\n",
    "\n",
    "print(\"Original list:\")\n",
    "print(l1)\n",
    "\n",
    "print(\"Sublists of the said list:\")\n",
    "\n",
    "print(sub_lists(l1))\n",
    "\n",
    "print(\"\\nOriginal list:\")\n",
    "print(l2)\n",
    "\n",
    "print(\"Sublists of the said list:\")\n",
    "\n",
    "print(sub_lists(l2))"
   ]
  },
  {
   "cell_type": "markdown",
   "id": "9c6bad93",
   "metadata": {},
   "source": [
    "# 34. Write a Python program that uses the Sieve of Eratosthenes method to compute prime numbers up to a specified number. Note: In mathematics, the sieve of Eratosthenes, (Ancient Greek: κόσκινον Ἐρατοσθένους, kóskinon Eratosthénous) one of a number of prime number sieves, is a simple, ancient algorithm for finding all prime numbers up to any given limit."
   ]
  },
  {
   "cell_type": "code",
   "execution_count": 52,
   "id": "402514bd",
   "metadata": {},
   "outputs": [
    {
     "name": "stdout",
     "output_type": "stream",
     "text": [
      "2\n",
      "3\n",
      "5\n",
      "7\n",
      "11\n",
      "13\n",
      "17\n",
      "19\n",
      "23\n",
      "29\n",
      "31\n",
      "37\n",
      "41\n",
      "43\n",
      "47\n",
      "53\n",
      "59\n",
      "61\n",
      "67\n",
      "71\n",
      "73\n",
      "79\n",
      "83\n",
      "89\n",
      "97\n"
     ]
    }
   ],
   "source": [
    "def prime_eratosthenes(n):\n",
    "    prime_list = [] \n",
    "    for i in range(2, n+1):\n",
    "        if i not in prime_list:\n",
    "            print(i)\n",
    "\n",
    "            for j in range(i*i, n+1, i):\n",
    "                prime_list.append(j)\n",
    "\n",
    "prime_eratosthenes(100)"
   ]
  },
  {
   "cell_type": "markdown",
   "id": "33a7469e",
   "metadata": {},
   "source": [
    "# 35. Write a Python program to create a list by concatenating a given list with a range from 1 to n. Sample list : ['p', 'q'] n =5 Sample Output : ['p1', 'q1', 'p2', 'q2', 'p3', 'q3', 'p4', 'q4', 'p5', 'q5']"
   ]
  },
  {
   "cell_type": "code",
   "execution_count": 53,
   "id": "65f4b2ce",
   "metadata": {},
   "outputs": [
    {
     "name": "stdout",
     "output_type": "stream",
     "text": [
      "['p1', 'q1', 'p2', 'q2', 'p3', 'q3', 'p4', 'q4']\n"
     ]
    }
   ],
   "source": [
    "my_list = ['p', 'q']\n",
    "\n",
    "n = 4\n",
    "\n",
    "new_list = ['{}{}'.format(x, y) for y in range(1, n+1) for x in my_list]\n",
    "\n",
    "print(new_list)"
   ]
  },
  {
   "cell_type": "markdown",
   "id": "a73c6a11",
   "metadata": {},
   "source": [
    "# 36. Write a Python program to get a variable with an identification number or string."
   ]
  },
  {
   "cell_type": "code",
   "execution_count": 54,
   "id": "2f841665",
   "metadata": {},
   "outputs": [
    {
     "name": "stdout",
     "output_type": "stream",
     "text": [
      "7fffee679f88\n",
      "28a1a72edb0\n"
     ]
    }
   ],
   "source": [
    "x = 100\n",
    "\n",
    "\n",
    "print(format(id(x), 'x'))\n",
    "\n",
    "s = 'w3resource'\n",
    "\n",
    "\n",
    "print(format(id(s), 'x'))"
   ]
  },
  {
   "cell_type": "markdown",
   "id": "0690c7c6",
   "metadata": {},
   "source": [
    "# 37. Write a Python program to find common items in two lists."
   ]
  },
  {
   "cell_type": "code",
   "execution_count": 55,
   "id": "0c4c444f",
   "metadata": {},
   "outputs": [
    {
     "name": "stdout",
     "output_type": "stream",
     "text": [
      "{'White', 'Green'}\n"
     ]
    }
   ],
   "source": [
    "color1 = \"Red\", \"Green\", \"Orange\", \"White\"\n",
    "\n",
    "color2 = \"Black\", \"Green\", \"White\", \"Pink\"\n",
    "\n",
    "print(set(color1) & set(color2))"
   ]
  },
  {
   "cell_type": "markdown",
   "id": "1d51edb6",
   "metadata": {},
   "source": [
    "# 38. Write a Python program to change the position of every n-th value to the (n+1)th in a list. Sample list: [0,1,2,3,4,5] Expected Output: [1, 0, 3, 2, 5, 4]"
   ]
  },
  {
   "cell_type": "code",
   "execution_count": 56,
   "id": "8fab1365",
   "metadata": {},
   "outputs": [
    {
     "name": "stdout",
     "output_type": "stream",
     "text": [
      "[1, 0, 3, 2, 5, 4]\n"
     ]
    }
   ],
   "source": [
    "from itertools import zip_longest, chain, tee\n",
    "\n",
    "def replace2copy(lst):\n",
    "    lst1, lst2 = tee(iter(lst), 2)\n",
    "\n",
    "    return list(chain.from_iterable(zip_longest(lst[1::2], lst[::2])))\n",
    "\n",
    "n = [0, 1, 2, 3, 4, 5]\n",
    "\n",
    "print(replace2copy(n)) "
   ]
  },
  {
   "cell_type": "markdown",
   "id": "bda7b899",
   "metadata": {},
   "source": [
    "# 39. Write a Python program to convert a list of multiple integers into a single integer. Sample list: [11, 33, 50] Expected Output: 113350"
   ]
  },
  {
   "cell_type": "code",
   "execution_count": 57,
   "id": "2865a7f6",
   "metadata": {},
   "outputs": [
    {
     "name": "stdout",
     "output_type": "stream",
     "text": [
      "Original List:  [11, 33, 50]\n",
      "Single Integer:  113350\n"
     ]
    }
   ],
   "source": [
    "L = [11, 33, 50]\n",
    "\n",
    "print(\"Original List: \", L)\n",
    "\n",
    "x = int(\"\".join(map(str, L)))\n",
    "\n",
    "print(\"Single Integer: \", x)"
   ]
  },
  {
   "cell_type": "markdown",
   "id": "be0443ab",
   "metadata": {},
   "source": [
    "# 40. Write a Python program to split a list based on the first character of a word."
   ]
  },
  {
   "cell_type": "code",
   "execution_count": 58,
   "id": "5f3046df",
   "metadata": {},
   "outputs": [
    {
     "name": "stdout",
     "output_type": "stream",
     "text": [
      "a\n",
      "ask\n",
      "b\n",
      "be\n",
      "c\n",
      "call\n",
      "come\n",
      "d\n",
      "do\n",
      "f\n",
      "feel\n",
      "find\n",
      "g\n",
      "get\n",
      "give\n",
      "go\n",
      "h\n",
      "have\n",
      "k\n",
      "know\n",
      "l\n",
      "leave\n",
      "look\n",
      "m\n",
      "make\n",
      "s\n",
      "say\n",
      "see\n",
      "seem\n",
      "t\n",
      "take\n",
      "tell\n",
      "think\n",
      "u\n",
      "use\n",
      "w\n",
      "want\n",
      "work\n"
     ]
    }
   ],
   "source": [
    "from itertools import groupby\n",
    "from operator import itemgetter\n",
    "\n",
    "word_list = ['be', 'have', 'do', 'say', 'get', 'make', 'go', 'know', 'take', 'see', 'come', 'think',\n",
    "             'look', 'want', 'give', 'use', 'find', 'tell', 'ask', 'work', 'seem', 'feel', 'leave', 'call']\n",
    "\n",
    "for letter, words in groupby(sorted(word_list), key=itemgetter(0)):\n",
    "    print(letter)\n",
    "    for word in words:\n",
    "        print(word)"
   ]
  },
  {
   "cell_type": "markdown",
   "id": "31476154",
   "metadata": {},
   "source": [
    "# 41. Write a Python program to create multiple lists."
   ]
  },
  {
   "cell_type": "code",
   "execution_count": 59,
   "id": "61ae8428",
   "metadata": {},
   "outputs": [
    {
     "name": "stdout",
     "output_type": "stream",
     "text": [
      "{'1': [], '2': [], '3': [], '4': [], '5': [], '6': [], '7': [], '8': [], '9': [], '10': [], '11': [], '12': [], '13': [], '14': [], '15': [], '16': [], '17': [], '18': [], '19': [], '20': []}\n"
     ]
    }
   ],
   "source": [
    "obj = {}\n",
    "\n",
    "for i in range(1, 21):\n",
    "    obj[str(i)] = []\n",
    "\n",
    "print(obj) "
   ]
  },
  {
   "cell_type": "markdown",
   "id": "c97b2410",
   "metadata": {},
   "source": [
    "# 42. Write a Python program to find missing and additional values in two lists. Sample data : Missing values in second list: b,a,c Additional values in second list: g,h"
   ]
  },
  {
   "cell_type": "code",
   "execution_count": 60,
   "id": "cc00fe83",
   "metadata": {},
   "outputs": [
    {
     "name": "stdout",
     "output_type": "stream",
     "text": [
      "Missing values in the second list:  a,c,b\n",
      "Additional values in the second list:  g,h\n"
     ]
    }
   ],
   "source": [
    "list1 = ['a', 'b', 'c', 'd', 'e', 'f']\n",
    "list2 = ['d', 'e', 'f', 'g', 'h']\n",
    "\n",
    "missing_values = set(list1).difference(list2)\n",
    "\n",
    "print('Missing values in the second list: ', ','.join(missing_values))\n",
    "\n",
    "additional_values = set(list2).difference(list1)\n",
    "\n",
    "print('Additional values in the second list: ', ','.join(additional_values))"
   ]
  },
  {
   "cell_type": "markdown",
   "id": "1b114871",
   "metadata": {},
   "source": [
    "# 43. Write a Python program to split a list into different variables."
   ]
  },
  {
   "cell_type": "code",
   "execution_count": 61,
   "id": "cf398e1a",
   "metadata": {},
   "outputs": [
    {
     "name": "stdout",
     "output_type": "stream",
     "text": [
      "('Black', '#000000', 'rgb(0, 0, 0)')\n",
      "('Red', '#FF0000', 'rgb(255, 0, 0)')\n",
      "('Yellow', '#FFFF00', 'rgb(255, 255, 0)')\n"
     ]
    }
   ],
   "source": [
    "color = [\n",
    "    (\"Black\", \"#000000\", \"rgb(0, 0, 0)\"),\n",
    "    (\"Red\", \"#FF0000\", \"rgb(255, 0, 0)\"),\n",
    "    (\"Yellow\", \"#FFFF00\", \"rgb(255, 255, 0)\")\n",
    "]\n",
    "\n",
    "var1, var2, var3 = color\n",
    "\n",
    "print(var1)\n",
    "\n",
    "print(var2)\n",
    "\n",
    "print(var3)"
   ]
  },
  {
   "cell_type": "markdown",
   "id": "231da1db",
   "metadata": {},
   "source": [
    "# 44. Write a Python program to generate groups of five consecutive numbers in a list."
   ]
  },
  {
   "cell_type": "code",
   "execution_count": 62,
   "id": "fa3ca3ad",
   "metadata": {},
   "outputs": [
    {
     "name": "stdout",
     "output_type": "stream",
     "text": [
      "[[1, 2, 3, 4, 5], [6, 7, 8, 9, 10], [11, 12, 13, 14, 15], [16, 17, 18, 19, 20], [21, 22, 23, 24, 25]]\n"
     ]
    }
   ],
   "source": [
    "l = [[5*i + j for j in range(1, 6)] for i in range(5)]\n",
    "\n",
    "print(l)"
   ]
  },
  {
   "cell_type": "markdown",
   "id": "ea0d691d",
   "metadata": {},
   "source": [
    "# 45. Write a Python program to convert a pair of values into a sorted unique array."
   ]
  },
  {
   "cell_type": "code",
   "execution_count": 63,
   "id": "e4764584",
   "metadata": {},
   "outputs": [
    {
     "name": "stdout",
     "output_type": "stream",
     "text": [
      "Original List:  [(1, 2), (3, 4), (1, 2), (5, 6), (7, 8), (1, 2), (3, 4), (3, 4), (7, 8), (9, 10)]\n",
      "Sorted Unique Data: [1, 2, 3, 4, 5, 6, 7, 8, 9, 10]\n"
     ]
    }
   ],
   "source": [
    "L = [(1, 2), (3, 4), (1, 2), (5, 6), (7, 8), (1, 2), (3, 4), (3, 4), (7, 8), (9, 10)]\n",
    "\n",
    "print(\"Original List: \", L)\n",
    "\n",
    "print(\"Sorted Unique Data:\", sorted(set().union(*L)))"
   ]
  },
  {
   "cell_type": "markdown",
   "id": "ce06eec4",
   "metadata": {},
   "source": [
    "# 46. Write a Python program to select the odd items from a list.\n"
   ]
  },
  {
   "cell_type": "code",
   "execution_count": 64,
   "id": "c33480eb",
   "metadata": {},
   "outputs": [
    {
     "name": "stdout",
     "output_type": "stream",
     "text": [
      "[1, 3, 5, 7, 9]\n"
     ]
    }
   ],
   "source": [
    "x = [1, 2, 3, 4, 5, 6, 7, 8, 9]\n",
    "print(x[::2])"
   ]
  },
  {
   "cell_type": "markdown",
   "id": "5ba9c223",
   "metadata": {},
   "source": [
    "# 47. Write a Python program to insert an element before each element of a list."
   ]
  },
  {
   "cell_type": "code",
   "execution_count": 65,
   "id": "8f7ac074",
   "metadata": {},
   "outputs": [
    {
     "name": "stdout",
     "output_type": "stream",
     "text": [
      "Original List:  ['Red', 'Green', 'Black']\n",
      "Updated List:  ['c', 'Red', 'c', 'Green', 'c', 'Black']\n"
     ]
    }
   ],
   "source": [
    "color = ['Red', 'Green', 'Black']\n",
    "\n",
    "print(\"Original List: \", color)\n",
    "\n",
    "\n",
    "color = [v for elt in color for v in ('c', elt)]\n",
    "print(\"Updated List: \", color)"
   ]
  },
  {
   "cell_type": "markdown",
   "id": "88c590d7",
   "metadata": {},
   "source": [
    "# 48. Write a Python program to print nested lists (each list on a new line) using the print() function."
   ]
  },
  {
   "cell_type": "code",
   "execution_count": 66,
   "id": "8b06fcdf",
   "metadata": {},
   "outputs": [
    {
     "name": "stdout",
     "output_type": "stream",
     "text": [
      "['Red']\n",
      "['Green']\n",
      "['Black']\n"
     ]
    }
   ],
   "source": [
    "colors = [['Red'], ['Green'], ['Black']]\n",
    "print('\\n'.join([str(lst) for lst in colors])) "
   ]
  },
  {
   "cell_type": "markdown",
   "id": "ecd4dc4d",
   "metadata": {},
   "source": [
    "# 49. Write a Python program to convert a list to a list of dictionaries. Sample lists: [\"Black\", \"Red\", \"Maroon\", \"Yellow\"], [\"#000000\", \"#FF0000\", \"#800000\", \"#FFFF00\"] Expected Output: [{'color_name': 'Black', 'color_code': '#000000'}, {'color_name': 'Red', 'color_code': '#FF0000'}, {'color_name': 'Maroon', 'color_code': '#800000'}, {'color_name': 'Yellow', 'color_code': '#FFFF00'}]"
   ]
  },
  {
   "cell_type": "code",
   "execution_count": 67,
   "id": "b24dd928",
   "metadata": {},
   "outputs": [
    {
     "name": "stdout",
     "output_type": "stream",
     "text": [
      "[{'color_name': 'Black', 'color_code': '#000000'}, {'color_name': 'Red', 'color_code': '#FF0000'}, {'color_name': 'Maroon', 'color_code': '#800000'}, {'color_name': 'Yellow', 'color_code': '#FFFF00'}]\n"
     ]
    }
   ],
   "source": [
    "color_name = [\"Black\", \"Red\", \"Maroon\", \"Yellow\"]\n",
    "\n",
    "color_code = [\"#000000\", \"#FF0000\", \"#800000\", \"#FFFF00\"]\n",
    "\n",
    "print([{'color_name': f, 'color_code': c} for f, c in zip(color_name, color_code)])"
   ]
  },
  {
   "cell_type": "markdown",
   "id": "1cf7d7e8",
   "metadata": {},
   "source": [
    "# 50. Write a Python program to sort a list of nested dictionaries."
   ]
  },
  {
   "cell_type": "code",
   "execution_count": 68,
   "id": "706c8350",
   "metadata": {},
   "outputs": [
    {
     "name": "stdout",
     "output_type": "stream",
     "text": [
      "Original List: \n",
      "[{'key': {'subkey': 1}}, {'key': {'subkey': 10}}, {'key': {'subkey': 5}}]\n",
      "Sorted List: \n",
      "[{'key': {'subkey': 10}}, {'key': {'subkey': 5}}, {'key': {'subkey': 1}}]\n"
     ]
    }
   ],
   "source": [
    "my_list = [{'key': {'subkey': 1}}, {'key': {'subkey': 10}}, {'key': {'subkey': 5}}]\n",
    "\n",
    "print(\"Original List: \")\n",
    "print(my_list)\n",
    "\n",
    "my_list.sort(key=lambda e: e['key']['subkey'], reverse=True)\n",
    "print(\"Sorted List: \")\n",
    "print(my_list) "
   ]
  },
  {
   "cell_type": "markdown",
   "id": "7d742bfe",
   "metadata": {},
   "source": [
    "# 51. Write a Python program to split a list every Nth element. Sample list: ['a', 'b', 'c', 'd', 'e', 'f', 'g', 'h', 'i', 'j', 'k', 'l', 'm', 'n'] Expected Output: [['a', 'd', 'g', 'j', 'm'], ['b', 'e', 'h', 'k', 'n'], ['c', 'f', 'i', 'l']]"
   ]
  },
  {
   "cell_type": "code",
   "execution_count": 69,
   "id": "9c1976f8",
   "metadata": {},
   "outputs": [
    {
     "name": "stdout",
     "output_type": "stream",
     "text": [
      "[['a', 'd', 'g', 'j', 'm'], ['b', 'e', 'h', 'k', 'n'], ['c', 'f', 'i', 'l']]\n"
     ]
    }
   ],
   "source": [
    "C = ['a', 'b', 'c', 'd', 'e', 'f', 'g', 'h', 'i', 'j', 'k', 'l', 'm', 'n']\n",
    "\n",
    "def list_slice(S, step):\n",
    "    return [S[i::step] for i in range(step)]\n",
    "\n",
    "print(list_slice(C, 3))"
   ]
  },
  {
   "cell_type": "markdown",
   "id": "1adfe304",
   "metadata": {},
   "source": [
    "# 52. Write a Python program to compute the difference between two lists. Sample data: [\"red\", \"orange\", \"green\", \"blue\", \"white\"], [\"black\", \"yellow\", \"green\", \"blue\"] Expected Output: Color1-Color2: ['white', 'orange', 'red'] Color2-Color1: ['black', 'yellow']"
   ]
  },
  {
   "cell_type": "code",
   "execution_count": 70,
   "id": "199e0daa",
   "metadata": {},
   "outputs": [
    {
     "name": "stdout",
     "output_type": "stream",
     "text": [
      "Color1-Color2:  ['red', 'orange', 'white']\n",
      "Color2-Color1:  ['black', 'yellow']\n"
     ]
    }
   ],
   "source": [
    "from collections import Counter\n",
    "\n",
    "color1 = [\"red\", \"orange\", \"green\", \"blue\", \"white\"]\n",
    "color2 = [\"black\", \"yellow\", \"green\", \"blue\"]\n",
    "\n",
    "counter1 = Counter(color1)\n",
    "counter2 = Counter(color2)\n",
    "\n",
    "print(\"Color1-Color2: \", list(counter1 - counter2))\n",
    "\n",
    "print(\"Color2-Color1: \", list(counter2 - counter1))"
   ]
  },
  {
   "cell_type": "markdown",
   "id": "012ce344",
   "metadata": {},
   "source": [
    "# 53. Write a Python program to create a list with infinite elements."
   ]
  },
  {
   "cell_type": "code",
   "execution_count": 71,
   "id": "377acfed",
   "metadata": {},
   "outputs": [
    {
     "name": "stdout",
     "output_type": "stream",
     "text": [
      "0\n",
      "1\n",
      "2\n",
      "3\n",
      "4\n"
     ]
    }
   ],
   "source": [
    "import itertools\n",
    "\n",
    "c = itertools.count()\n",
    "\n",
    "print(next(c))\n",
    "\n",
    "print(next(c))\n",
    "\n",
    "print(next(c))\n",
    "\n",
    "print(next(c))\n",
    "\n",
    "print(next(c))"
   ]
  },
  {
   "cell_type": "markdown",
   "id": "b0cf85a0",
   "metadata": {},
   "source": [
    "# 54. Write a Python program to concatenate elements of a list."
   ]
  },
  {
   "cell_type": "code",
   "execution_count": 72,
   "id": "479163a7",
   "metadata": {},
   "outputs": [
    {
     "name": "stdout",
     "output_type": "stream",
     "text": [
      "red-green-orange\n",
      "redgreenorange\n"
     ]
    }
   ],
   "source": [
    "color = ['red', 'green', 'orange']\n",
    "\n",
    "\n",
    "print('-'.join(color))\n",
    "\n",
    "\n",
    "print(''.join(color))"
   ]
  },
  {
   "cell_type": "markdown",
   "id": "dd4deceb",
   "metadata": {},
   "source": [
    "# 55. Write a Python program to remove key-value pairs from a list of dictionaries."
   ]
  },
  {
   "cell_type": "code",
   "execution_count": 73,
   "id": "2e3d5823",
   "metadata": {},
   "outputs": [
    {
     "name": "stdout",
     "output_type": "stream",
     "text": [
      "Original List: \n",
      "[{'key1': 'value1', 'key2': 'value2'}, {'key1': 'value3', 'key2': 'value4'}]\n",
      "New List: \n",
      "[{'key2': 'value2'}, {'key2': 'value4'}]\n"
     ]
    }
   ],
   "source": [
    "original_list = [{'key1': 'value1', 'key2': 'value2'}, {'key1': 'value3', 'key2': 'value4'}]\n",
    "\n",
    "print(\"Original List: \")\n",
    "print(original_list)\n",
    "\n",
    "new_list = [{k: v for k, v in d.items() if k != 'key1'} for d in original_list]\n",
    "\n",
    "print(\"New List: \")\n",
    "print(new_list)"
   ]
  },
  {
   "cell_type": "markdown",
   "id": "47d7cf2f",
   "metadata": {},
   "source": [
    "# 56. Write a Python program to convert a string to a list."
   ]
  },
  {
   "cell_type": "code",
   "execution_count": 74,
   "id": "4b95757a",
   "metadata": {},
   "outputs": [
    {
     "name": "stdout",
     "output_type": "stream",
     "text": [
      "['Red', 'Green', 'White']\n"
     ]
    }
   ],
   "source": [
    "import ast\n",
    "\n",
    "color = \"['Red', 'Green', 'White']\"\n",
    "\n",
    "print(ast.literal_eval(color)) "
   ]
  },
  {
   "cell_type": "markdown",
   "id": "9f6bd1d0",
   "metadata": {},
   "source": [
    "# 57. Write a Python program to check if all items in a given list of strings are equal to a given string."
   ]
  },
  {
   "cell_type": "code",
   "execution_count": 75,
   "id": "3679361a",
   "metadata": {},
   "outputs": [
    {
     "name": "stdout",
     "output_type": "stream",
     "text": [
      "False\n",
      "True\n"
     ]
    }
   ],
   "source": [
    "color1 = [\"green\", \"orange\", \"black\", \"white\"]\n",
    "\n",
    "color2 = [\"green\", \"green\", \"green\", \"green\"]\n",
    "\n",
    "print(all(c == 'blue' for c in color1))\n",
    "\n",
    "\n",
    "print(all(c == 'green' for c in color2))"
   ]
  },
  {
   "cell_type": "markdown",
   "id": "5301f1a1",
   "metadata": {},
   "source": [
    "# 58. Write a Python program to replace the last element in a list with another list. Sample data : [1, 3, 5, 7, 9, 10], [2, 4, 6, 8] Expected Output: [1, 3, 5, 7, 9, 2, 4, 6, 8]"
   ]
  },
  {
   "cell_type": "code",
   "execution_count": 76,
   "id": "d3c14a37",
   "metadata": {},
   "outputs": [
    {
     "name": "stdout",
     "output_type": "stream",
     "text": [
      "[1, 3, 5, 7, 9, 2, 4, 6, 8]\n"
     ]
    }
   ],
   "source": [
    "num1 = [1, 3, 5, 7, 9, 10]\n",
    "num2 = [2, 4, 6, 8]\n",
    "\n",
    "num1[-1:] = num2\n",
    "\n",
    "print(num1)"
   ]
  },
  {
   "cell_type": "markdown",
   "id": "3484a815",
   "metadata": {},
   "source": [
    "# 59. Write a Python program to check whether the n-th element exists in a given list."
   ]
  },
  {
   "cell_type": "code",
   "execution_count": 77,
   "id": "5ca54e91",
   "metadata": {},
   "outputs": [
    {
     "name": "stdout",
     "output_type": "stream",
     "text": [
      "6\n"
     ]
    }
   ],
   "source": [
    "x = [1, 2, 3, 4, 5, 6]\n",
    "\n",
    "xlen = len(x) - 1\n",
    "\n",
    "print(x[xlen])"
   ]
  },
  {
   "cell_type": "markdown",
   "id": "803a0b2b",
   "metadata": {},
   "source": [
    "# 60. Write a Python program to find a tuple, the smallest second index value from a list of tuples."
   ]
  },
  {
   "cell_type": "code",
   "execution_count": 78,
   "id": "a0bbf411",
   "metadata": {},
   "outputs": [
    {
     "name": "stdout",
     "output_type": "stream",
     "text": [
      "(6, 0)\n"
     ]
    }
   ],
   "source": [
    "x = [(4, 1), (1, 2), (6, 0)]\n",
    "\n",
    "print(min(x, key=lambda n: (n[1], -n[0])))"
   ]
  },
  {
   "cell_type": "markdown",
   "id": "7f0e6e18",
   "metadata": {},
   "source": [
    "# 61. Write a Python program to create a list of empty dictionaries."
   ]
  },
  {
   "cell_type": "code",
   "execution_count": 79,
   "id": "79b17da5",
   "metadata": {},
   "outputs": [
    {
     "name": "stdout",
     "output_type": "stream",
     "text": [
      "[{}, {}, {}, {}, {}]\n"
     ]
    }
   ],
   "source": [
    "n = 5\n",
    "\n",
    "l = [{} for _ in range(n)]\n",
    "\n",
    "print(l)"
   ]
  },
  {
   "cell_type": "markdown",
   "id": "b8085615",
   "metadata": {},
   "source": [
    "# 62. Write a Python program to print a list of space-separated elements."
   ]
  },
  {
   "cell_type": "code",
   "execution_count": 80,
   "id": "460a2123",
   "metadata": {},
   "outputs": [
    {
     "name": "stdout",
     "output_type": "stream",
     "text": [
      "1 2 3 4 5\n"
     ]
    }
   ],
   "source": [
    "num = [1, 2, 3, 4, 5]\n",
    "\n",
    "print(*num)"
   ]
  },
  {
   "cell_type": "markdown",
   "id": "f0046736",
   "metadata": {},
   "source": [
    "# 63. Write a Python program to insert a given string at the beginning of all items in a list. Sample list : [1,2,3,4], string : emp Expected output : ['emp1', 'emp2', 'emp3', 'emp4']"
   ]
  },
  {
   "cell_type": "code",
   "execution_count": 81,
   "id": "f0931910",
   "metadata": {},
   "outputs": [
    {
     "name": "stdout",
     "output_type": "stream",
     "text": [
      "['emp1', 'emp2', 'emp3', 'emp4']\n"
     ]
    }
   ],
   "source": [
    "num = [1, 2, 3, 4]\n",
    "\n",
    "\n",
    "new_list = ['emp{0}'.format(i) for i in num]\n",
    "\n",
    "\n",
    "print(new_list)"
   ]
  },
  {
   "cell_type": "markdown",
   "id": "b1b1136b",
   "metadata": {},
   "source": [
    "# 64. Write a Python program to iterate over two lists simultaneously."
   ]
  },
  {
   "cell_type": "code",
   "execution_count": 82,
   "id": "a0a921db",
   "metadata": {},
   "outputs": [
    {
     "name": "stdout",
     "output_type": "stream",
     "text": [
      "1 red\n",
      "2 white\n",
      "3 black\n"
     ]
    }
   ],
   "source": [
    "num = [1, 2, 3]\n",
    "color = ['red', 'white', 'black']\n",
    "\n",
    "for (a, b) in zip(num, color):\n",
    "    print(a, b)"
   ]
  },
  {
   "cell_type": "markdown",
   "id": "daab4279",
   "metadata": {},
   "source": [
    "# 65. Write a Python program to move all zero digits to the end of a given list of numbers. Expected output: Original list: [3, 4, 0, 0, 0, 6, 2, 0, 6, 7, 6, 0, 0, 0, 9, 10, 7, 4, 4, 5, 3, 0, 0, 2, 9, 7, 1] Move all zero digits to end of the said list of numbers: [3, 4, 6, 2, 6, 7, 6, 9, 10, 7, 4, 4, 5, 3, 2, 9, 7, 1, 0, 0, 0, 0, 0, 0, 0, 0, 0]"
   ]
  },
  {
   "cell_type": "code",
   "execution_count": 83,
   "id": "275dbf12",
   "metadata": {},
   "outputs": [
    {
     "name": "stdout",
     "output_type": "stream",
     "text": [
      "\n",
      "Original list:\n",
      "[3, 4, 0, 0, 0, 6, 2, 0, 6, 7, 6, 0, 0, 0, 9, 10, 7, 4, 4, 5, 3, 0, 0, 2, 9, 7, 1]\n",
      "\n",
      "Move all zero digits to the end of the said list of numbers:\n",
      "[3, 4, 6, 2, 6, 7, 6, 9, 10, 7, 4, 4, 5, 3, 2, 9, 7, 1, 0, 0, 0, 0, 0, 0, 0, 0, 0]\n"
     ]
    }
   ],
   "source": [
    "def test(lst):\n",
    "\n",
    "    result = sorted(lst, key=lambda x: not x) \n",
    "    return result\n",
    "\n",
    "\n",
    "nums = [3, 4, 0, 0, 0, 6, 2, 0, 6, 7, 6, 0, 0, 0, 9, 10, 7, 4, 4, 5, 3, 0, 0, 2, 9, 7, 1]\n",
    "\n",
    "\n",
    "print(\"\\nOriginal list:\")\n",
    "print(nums)\n",
    "\n",
    "\n",
    "print(\"\\nMove all zero digits to the end of the said list of numbers:\")\n",
    "\n",
    "print(test(nums))"
   ]
  },
  {
   "cell_type": "markdown",
   "id": "fe7a18b2",
   "metadata": {},
   "source": [
    "# 66. Write a Python program to find the list in a list of lists whose sum of elements is the highest. Sample lists: [1,2,3], [4,5,6], [10,11,12], [7,8,9] Expected Output: [10, 11, 12]"
   ]
  },
  {
   "cell_type": "code",
   "execution_count": 84,
   "id": "c3bc19a9",
   "metadata": {},
   "outputs": [
    {
     "name": "stdout",
     "output_type": "stream",
     "text": [
      "[10, 11, 12]\n"
     ]
    }
   ],
   "source": [
    "num = [[1, 2, 3], [4, 5, 6], [10, 11, 12], [7, 8, 9]]\n",
    "\n",
    "print(max(num, key=sum))"
   ]
  },
  {
   "cell_type": "markdown",
   "id": "db80c542",
   "metadata": {},
   "source": [
    "# 67. Write a Python program to find all the values in a list that are greater than a specified number."
   ]
  },
  {
   "cell_type": "code",
   "execution_count": 85,
   "id": "de2ef6cd",
   "metadata": {},
   "outputs": [
    {
     "name": "stdout",
     "output_type": "stream",
     "text": [
      "True\n",
      "False\n"
     ]
    }
   ],
   "source": [
    "list1 = [220, 330, 500]\n",
    "list2 = [12, 17, 21]\n",
    "\n",
    "\n",
    "print(all(x >= 200 for x in list1))\n",
    "\n",
    "\n",
    "print(all(x >= 25 for x in list2))"
   ]
  },
  {
   "cell_type": "markdown",
   "id": "39edefdb",
   "metadata": {},
   "source": [
    "# 68. Write a Python program to extend a list without appending. Sample data: [10, 20, 30], [40, 50, 60] Expected output : [40, 50, 60, 10, 20, 30]"
   ]
  },
  {
   "cell_type": "code",
   "execution_count": 86,
   "id": "a481e1ad",
   "metadata": {},
   "outputs": [
    {
     "name": "stdout",
     "output_type": "stream",
     "text": [
      "[40, 50, 60, 10, 20, 30]\n"
     ]
    }
   ],
   "source": [
    "x = [10, 20, 30]\n",
    "y = [40, 50, 60]\n",
    "\n",
    "x[:0] =y\n",
    "\n",
    "print(x)"
   ]
  },
  {
   "cell_type": "markdown",
   "id": "c1a197bd",
   "metadata": {},
   "source": [
    "# 69. Write a Python program to remove duplicates from a list of lists. Sample list : [[10, 20], [40], [30, 56, 25], [10, 20], [33], [40]] New List : [[10, 20], [30, 56, 25], [33], [40]]"
   ]
  },
  {
   "cell_type": "code",
   "execution_count": 87,
   "id": "ddcc811d",
   "metadata": {},
   "outputs": [
    {
     "name": "stdout",
     "output_type": "stream",
     "text": [
      "Original List [[10, 20], [40], [30, 56, 25], [10, 20], [33], [40]]\n",
      "New List [[10, 20], [30, 56, 25], [33], [40]]\n"
     ]
    }
   ],
   "source": [
    "import itertools\n",
    "\n",
    "num = [[10, 20], [40], [30, 56, 25], [10, 20], [33], [40]]\n",
    "\n",
    "print(\"Original List\", num)\n",
    "\n",
    "num.sort()\n",
    "\n",
    "new_num = list(num for num, _ in itertools.groupby(num))\n",
    "\n",
    "print(\"New List\", new_num)"
   ]
  },
  {
   "cell_type": "markdown",
   "id": "8544fb7d",
   "metadata": {},
   "source": [
    "# 70. Write a Python program to find items starting with a specific character from a list. Expected Output: Original list: ['abcd', 'abc', 'bcd', 'bkie', 'cder', 'cdsw', 'sdfsd', 'dagfa', 'acjd'] Items start with a from the said list: ['abcd', 'abc', 'acjd'] Items start with d from the said list: ['dagfa'] Items start with w from the said list: []"
   ]
  },
  {
   "cell_type": "code",
   "execution_count": 88,
   "id": "54e87eb3",
   "metadata": {},
   "outputs": [
    {
     "name": "stdout",
     "output_type": "stream",
     "text": [
      "\n",
      "Original list:\n",
      "['abcd', 'abc', 'bcd', 'bkie', 'cder', 'cdsw', 'sdfsd', 'dagfa', 'acjd']\n",
      "\n",
      "Items start with a from the said list:\n",
      "['abcd', 'abc', 'acjd']\n",
      "\n",
      "Items start with d from the said list:\n",
      "['dagfa']\n",
      "\n",
      "Items start with w from the said list:\n",
      "[]\n"
     ]
    }
   ],
   "source": [
    "def test(lst, char):\n",
    "    result = [i for i in lst if i.startswith(char)]\n",
    "    return result\n",
    "text = [\"abcd\", \"abc\", \"bcd\", \"bkie\", \"cder\", \"cdsw\", \"sdfsd\", \"dagfa\", \"acjd\"]\n",
    "print(\"\\nOriginal list:\")\n",
    "print(text)\n",
    "char = \"a\"\n",
    "print(\"\\nItems start with\", char, \"from the said list:\")\n",
    "print(test(text, char))\n",
    "char = \"d\"\n",
    "print(\"\\nItems start with\", char, \"from the said list:\")\n",
    "print(test(text, char))\n",
    "char = \"w\"\n",
    "print(\"\\nItems start with\", char, \"from the said list:\")\n",
    "print(test(text, char))"
   ]
  },
  {
   "cell_type": "markdown",
   "id": "c1a131f1",
   "metadata": {},
   "source": [
    "# 71. Write a Python program to check whether all dictionaries in a list are empty or not. Sample list : [{},{},{}] Return value : True Sample list : [{1,2},{},{}] Return value : False"
   ]
  },
  {
   "cell_type": "code",
   "execution_count": 89,
   "id": "ea8b4320",
   "metadata": {},
   "outputs": [
    {
     "name": "stdout",
     "output_type": "stream",
     "text": [
      "True\n",
      "False\n"
     ]
    }
   ],
   "source": [
    "my_list = [{}, {}, {}]\n",
    "\n",
    "my_list1 = [{1: 2}, {}, {}]\n",
    "\n",
    "print(all(not d for d in my_list))\n",
    "\n",
    "print(all(not d for d in my_list1)) "
   ]
  },
  {
   "cell_type": "markdown",
   "id": "8fa4d0a5",
   "metadata": {},
   "source": [
    "# 72. Write a Python program to flatten a given nested list structure. Original list: [0, 10, [20, 30], 40, 50, [60, 70, 80], [90, 100, 110, 120]] Flatten list: [0, 10, 20, 30, 40, 50, 60, 70, 80, 90, 100, 110, 120]"
   ]
  },
  {
   "cell_type": "code",
   "execution_count": 90,
   "id": "4d91b433",
   "metadata": {},
   "outputs": [
    {
     "name": "stdout",
     "output_type": "stream",
     "text": [
      "Original list:\n",
      "[0, 10, [20, 30], 40, 50, [60, 70, 80], [90, 100, 110, 120]]\n",
      "\n",
      "Flatten list:\n",
      "[0, 10, 20, 30, 40, 50, 60, 70, 80, 90, 100, 110, 120]\n"
     ]
    }
   ],
   "source": [
    "def flatten_list(n_list):\n",
    "    result_list = []\n",
    "\n",
    "    if not n_list:\n",
    "        return result_list\n",
    "\n",
    "    stack = [list(n_list)]\n",
    "\n",
    "    while stack:\n",
    "        c_num = stack.pop()\n",
    "\n",
    "        next = c_num.pop()\n",
    "\n",
    "        if c_num:\n",
    "            stack.append(c_num)\n",
    "\n",
    "        if isinstance(next, list):\n",
    "            if next:\n",
    "                stack.append(list(next))\n",
    "        else:\n",
    "            result_list.append(next)\n",
    "\n",
    "    result_list.reverse()\n",
    "\n",
    "    return result_list\n",
    "\n",
    "n_list = [0, 10, [20, 30], 40, 50, [60, 70, 80], [90, 100, 110, 120]]\n",
    "\n",
    "print(\"Original list:\")\n",
    "\n",
    "print(n_list)\n",
    "\n",
    "print(\"\\nFlatten list:\")\n",
    "\n",
    "print(flatten_list(n_list)) "
   ]
  },
  {
   "cell_type": "markdown",
   "id": "0d4ec303",
   "metadata": {},
   "source": [
    "# 73. Write a Python program to remove consecutive (following each other continuously) duplicates (elements) from a given list. Original list: [0, 0, 1, 2, 3, 4, 4, 5, 6, 6, 6, 7, 8, 9, 4, 4] After removing consecutive duplicates: [0, 1, 2, 3, 4, 5, 6, 7, 8, 9, 4]"
   ]
  },
  {
   "cell_type": "code",
   "execution_count": 91,
   "id": "44264c49",
   "metadata": {},
   "outputs": [
    {
     "name": "stdout",
     "output_type": "stream",
     "text": [
      "Original list:\n",
      "[0, 0, 1, 2, 3, 4, 4, 5, 6, 6, 6, 7, 8, 9, 4, 4]\n",
      "\n",
      "After removing consecutive duplicates:\n",
      "[0, 1, 2, 3, 4, 5, 6, 7, 8, 9, 4]\n"
     ]
    }
   ],
   "source": [
    "from itertools import groupby\n",
    "\n",
    "def compress(l_nums):\n",
    "    return [key for key, group in groupby(l_nums)] \n",
    "\n",
    "n_list = [0, 0, 1, 2, 3, 4, 4, 5, 6, 6, 6, 7, 8, 9, 4, 4]\n",
    "\n",
    "print(\"Original list:\") \n",
    "\n",
    "print(n_list)\n",
    "\n",
    "print(\"\\nAfter removing consecutive duplicates:\")\n",
    "\n",
    "print(compress(n_list))"
   ]
  },
  {
   "cell_type": "markdown",
   "id": "05378ba3",
   "metadata": {},
   "source": [
    "# 74. Write a Python program to pack consecutive duplicates of a given list of elements into sublists. Original list: [0, 0, 1, 2, 3, 4, 4, 5, 6, 6, 6, 7, 8, 9, 4, 4] After packing consecutive duplicates of the said list elements into sublists: [[0, 0], [1], [2], [3], [4, 4], [5], [6, 6, 6], [7], [8], [9], [4, 4]]"
   ]
  },
  {
   "cell_type": "code",
   "execution_count": 92,
   "id": "03e1d967",
   "metadata": {},
   "outputs": [
    {
     "name": "stdout",
     "output_type": "stream",
     "text": [
      "Original list:\n",
      "[0, 0, 1, 2, 3, 4, 4, 5, 6, 6, 6, 7, 8, 9, 4, 4]\n",
      "\n",
      "After removing consecutive duplicates:\n",
      "[0, 1, 2, 3, 4, 5, 6, 7, 8, 9, 4]\n"
     ]
    }
   ],
   "source": [
    "from itertools import groupby\n",
    "\n",
    "def compress(l_nums):\n",
    "    return [key for key, group in groupby(l_nums)] \n",
    "\n",
    "n_list = [0, 0, 1, 2, 3, 4, 4, 5, 6, 6, 6, 7, 8, 9, 4, 4]\n",
    "\n",
    "print(\"Original list:\") \n",
    "\n",
    "print(n_list)\n",
    "\n",
    "print(\"\\nAfter removing consecutive duplicates:\")\n",
    "\n",
    "print(compress(n_list))"
   ]
  },
  {
   "cell_type": "markdown",
   "id": "5bdc5055",
   "metadata": {},
   "source": [
    "# 75. Write a Python program to create a list reflecting the run-length encoding from a given list of integers or a given list of characters. Original list: [1, 1, 2, 3, 4, 4.3, 5, 1] List reflecting the run-length encoding from the said list: [[2, 1], [1, 2], [1, 3], [1, 4], [1, 4.3], [1, 5], [1, 1]] Original String: automatically List reflecting the run-length encoding from the said string: [[1, 'a'], [1, 'u'], [1, 't'], [1, 'o'], [1, 'm'], [1, 'a'], [1, 't'], [1, 'i'], [1, 'c'], [1, 'a'], [2, 'l'], [1, 'y']]"
   ]
  },
  {
   "cell_type": "code",
   "execution_count": 99,
   "id": "ef9d346f",
   "metadata": {},
   "outputs": [
    {
     "name": "stdout",
     "output_type": "stream",
     "text": [
      "Original list:\n",
      "[1, 1, 2, 3, 4, 4.3, 5, 1]\n",
      "\n",
      "List reflecting the run-length encoding from the said list:\n",
      "[[2, 1], [1, 2], [1, 3], [1, 4], [1, 4.3], [1, 5], [1, 1]]\n",
      "\n",
      "Original String:\n",
      "automatically\n",
      "\n",
      "List reflecting the run-length encoding from the said string:\n",
      "[[1, 'a'], [1, 'u'], [1, 't'], [1, 'o'], [1, 'm'], [1, 'a'], [1, 't'], [1, 'i'], [1, 'c'], [1, 'a'], [2, 'l'], [1, 'y']]\n"
     ]
    }
   ],
   "source": [
    "from itertools import groupby\n",
    "\n",
    "def encode_list(s_list):\n",
    "    return [[len(list(group)), key] for key, group in groupby(s_list)]\n",
    "\n",
    "n_list = [1, 1, 2, 3, 4, 4.3, 5, 1]\n",
    "\n",
    "print(\"Original list:\") \n",
    "\n",
    "print(n_list)\n",
    "\n",
    "print(\"\\nList reflecting the run-length encoding from the said list:\")\n",
    "\n",
    "print(encode_list(n_list))\n",
    "\n",
    "n_list = 'automatically'\n",
    "\n",
    "print(\"\\nOriginal String:\") \n",
    "\n",
    "print(n_list)\n",
    "\n",
    "print(\"\\nList reflecting the run-length encoding from the said string:\")\n",
    "\n",
    "print(encode_list(n_list))"
   ]
  },
  {
   "cell_type": "markdown",
   "id": "15a52864",
   "metadata": {},
   "source": [
    "# 76. Write a Python program to create a list reflecting the modified run-length encoding from a given list of integers or a given list of characters. Original list: [1, 1, 2, 3, 4, 4, 5, 1] List reflecting the modified run-length encoding from the said list: [[2, 1], 2, 3, [2, 4], 5, 1] Original String: aabcddddadnss List reflecting the modified run-length encoding from the said string: [[2, 'a'], 'b', 'c', [4, 'd'], 'a', 'd', 'n', [2, 's']]"
   ]
  },
  {
   "cell_type": "code",
   "execution_count": 94,
   "id": "a62d6c8d",
   "metadata": {},
   "outputs": [
    {
     "name": "stdout",
     "output_type": "stream",
     "text": [
      "Original list:\n",
      "[1, 1, 2, 3, 4, 4, 5, 1]\n",
      "\n",
      "List reflecting the modified run-length encoding from the said list:\n",
      "[[2, 1], 2, 3, [2, 4], 5, 1]\n",
      "\n",
      "Original String:\n",
      "aabcddddadnss\n",
      "\n",
      "List reflecting the modified run-length encoding from the said string:\n",
      "[[2, 'a'], 'b', 'c', [4, 'd'], 'a', 'd', 'n', [2, 's']]\n"
     ]
    }
   ],
   "source": [
    "from itertools import groupby\n",
    "\n",
    "def modified_encode(alist):\n",
    "    def ctr_ele(el):\n",
    "        if len(el) > 1:\n",
    "            return [len(el), el[0]]\n",
    "        else:\n",
    "            return el[0]\n",
    "    \n",
    "\n",
    "    return [ctr_ele(list(group)) for key, group in groupby(alist)]\n",
    "\n",
    "n_list = [1, 1, 2, 3, 4, 4, 5, 1]\n",
    "\n",
    "print(\"Original list:\")\n",
    "print(n_list)\n",
    "\n",
    "print(\"\\nList reflecting the modified run-length encoding from the said list:\")\n",
    "print(modified_encode(n_list))\n",
    "\n",
    "n_list = 'aabcddddadnss'\n",
    "\n",
    "print(\"\\nOriginal String:\")\n",
    "print(n_list)\n",
    "\n",
    "print(\"\\nList reflecting the modified run-length encoding from the said string:\")\n",
    "print(modified_encode(n_list))"
   ]
  },
  {
   "cell_type": "markdown",
   "id": "92252ca7",
   "metadata": {},
   "source": [
    "# 77. Write a Python program to decode a run-length message. Original encoded list: [[2, 1], 2, 3, [2, 4], 5, 1] Decode a run-length encoded said list: [1, 1, 2, 3, 4, 4, 5, 1]"
   ]
  },
  {
   "cell_type": "code",
   "execution_count": 95,
   "id": "bc602d71",
   "metadata": {},
   "outputs": [
    {
     "name": "stdout",
     "output_type": "stream",
     "text": [
      "Original encoded list:\n",
      "[[2, 1], 2, 3, [2, 4], 5, 1]\n",
      "\n",
      "Decode a run-length encoded said list:\n",
      "[1, 1, 2, 3, 4, 4, 5, 1]\n"
     ]
    }
   ],
   "source": [
    "def decode(alist):\n",
    "    def aux(g):\n",
    "        if isinstance(g, list):\n",
    "            return [(g[1], range(g[0]))]\n",
    "        else:\n",
    "            return [(g, [0])]\n",
    "    \n",
    "    return [x for g in alist for x, R in aux(g) for i in R]\n",
    "\n",
    "n_list = [[2, 1], 2, 3, [2, 4], 5, 1]\n",
    "\n",
    "print(\"Original encoded list:\")\n",
    "print(n_list)\n",
    "\n",
    "print(\"\\nDecode a run-length encoded said list:\")\n",
    "print(decode(n_list)) "
   ]
  },
  {
   "cell_type": "markdown",
   "id": "fc06aff0",
   "metadata": {},
   "source": [
    "# 78. Write a Python program to split a given list into two parts where the length of the first part of the list is given. Original list: [1, 1, 2, 3, 4, 4, 5, 1] Length of the first part of the list: 3 Splited the said list into two parts: ([1, 1, 2], [3, 4, 4, 5, 1])"
   ]
  },
  {
   "cell_type": "code",
   "execution_count": 96,
   "id": "6a19985c",
   "metadata": {},
   "outputs": [
    {
     "name": "stdout",
     "output_type": "stream",
     "text": [
      "Original list:\n",
      "[1, 1, 2, 3, 4, 4, 5, 1]\n",
      "\n",
      "Length of the first part of the list: 3\n",
      "\n",
      "Split the said list into two parts:\n",
      "([1, 1, 2], [3, 4, 4, 5, 1])\n"
     ]
    }
   ],
   "source": [
    "def split_two_parts(n_list, L):\n",
    "    return n_list[:L], n_list[L:]\n",
    "\n",
    "n_list = [1, 1, 2, 3, 4, 4, 5, 1]\n",
    "\n",
    "print(\"Original list:\")\n",
    "print(n_list)\n",
    "\n",
    "first_list_length = 3\n",
    "\n",
    "print(\"\\nLength of the first part of the list:\", first_list_length)\n",
    "\n",
    "print(\"\\nSplit the said list into two parts:\")\n",
    "print(split_two_parts(n_list, first_list_length))"
   ]
  },
  {
   "cell_type": "markdown",
   "id": "0296a427",
   "metadata": {},
   "source": [
    "# 79. Write a Python program to remove the K'th element from a given list, and print the updated list. Original list: [1, 1, 2, 3, 4, 4, 5, 1] After removing an element at the kth position of the said list: [1, 1, 3, 4, 4, 5, 1]"
   ]
  },
  {
   "cell_type": "code",
   "execution_count": 97,
   "id": "b64fa518",
   "metadata": {},
   "outputs": [
    {
     "name": "stdout",
     "output_type": "stream",
     "text": [
      "Original list:\n",
      "[1, 1, 2, 3, 4, 4, 5, 1]\n",
      "\n",
      "After removing an element at the kth position of the said list:\n",
      "[1, 1, 3, 4, 4, 5, 1]\n"
     ]
    }
   ],
   "source": [
    "def remove_kth_element(n_list, L):\n",
    "    return n_list[:L - 1] + n_list[L:]\n",
    "\n",
    "n_list = [1, 1, 2, 3, 4, 4, 5, 1]\n",
    "\n",
    "print(\"Original list:\")\n",
    "print(n_list)\n",
    "\n",
    "kth_position = 3\n",
    "\n",
    "result = remove_kth_element(n_list, kth_position)\n",
    "\n",
    "print(\"\\nAfter removing an element at the kth position of the said list:\")\n",
    "print(result) "
   ]
  },
  {
   "cell_type": "markdown",
   "id": "7ab0a8ed",
   "metadata": {},
   "source": [
    "# 80. Write a Python program to insert an element at a specified position into a given list. Original list: [1, 1, 2, 3, 4, 4, 5, 1] After inserting an element at kth position in the said list: [1, 1, 12, 2, 3, 4, 4, 5, 1]"
   ]
  },
  {
   "cell_type": "code",
   "execution_count": 98,
   "id": "92fddd54",
   "metadata": {},
   "outputs": [
    {
     "name": "stdout",
     "output_type": "stream",
     "text": [
      "Original list:\n",
      "[1, 1, 2, 3, 4, 4, 5, 1]\n",
      "\n",
      "After inserting an element at kth position in the said list:\n",
      "[1, 1, 12, 2, 3, 4, 4, 5, 1]\n"
     ]
    }
   ],
   "source": [
    "def insert_spec_position(x, n_list, pos):\n",
    "    return n_list[:pos - 1] + [x] + n_list[pos - 1:]\n",
    "\n",
    "n_list = [1, 1, 2, 3, 4, 4, 5, 1]\n",
    "\n",
    "print(\"Original list:\")\n",
    "print(n_list)\n",
    "\n",
    "kth_position = 3\n",
    "\n",
    "x = 12\n",
    "\n",
    "result = insert_spec_position(x, n_list, kth_position)\n",
    "\n",
    "print(\"\\nAfter inserting an element at kth position in the said list:\")\n",
    "print(result)"
   ]
  },
  {
   "cell_type": "code",
   "execution_count": null,
   "id": "f8af0fdf",
   "metadata": {},
   "outputs": [],
   "source": []
  }
 ],
 "metadata": {
  "kernelspec": {
   "display_name": "Python 3 (ipykernel)",
   "language": "python",
   "name": "python3"
  },
  "language_info": {
   "codemirror_mode": {
    "name": "ipython",
    "version": 3
   },
   "file_extension": ".py",
   "mimetype": "text/x-python",
   "name": "python",
   "nbconvert_exporter": "python",
   "pygments_lexer": "ipython3",
   "version": "3.11.5"
  }
 },
 "nbformat": 4,
 "nbformat_minor": 5
}
