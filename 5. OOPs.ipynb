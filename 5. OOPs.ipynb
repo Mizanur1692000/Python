{
 "cells": [
  {
   "cell_type": "markdown",
   "id": "652b4983",
   "metadata": {},
   "source": [
    "# For Loop"
   ]
  },
  {
   "cell_type": "code",
   "execution_count": 1,
   "id": "b2a8d3fc",
   "metadata": {},
   "outputs": [
    {
     "name": "stdout",
     "output_type": "stream",
     "text": [
      "1\n",
      "2\n",
      "3\n",
      "4\n",
      "10\n"
     ]
    }
   ],
   "source": [
    "List1=[1,2,3,4,10]\n",
    "for i in List1:\n",
    "    print(i)"
   ]
  },
  {
   "cell_type": "code",
   "execution_count": 2,
   "id": "e53cd8de",
   "metadata": {},
   "outputs": [
    {
     "name": "stdout",
     "output_type": "stream",
     "text": [
      "1\n",
      "2\n",
      "3\n",
      "4\n",
      "10\n"
     ]
    }
   ],
   "source": [
    "List1=[1,2,3,4,10]\n",
    "for i in range(len(List1)):\n",
    "    print(List1[i])"
   ]
  },
  {
   "cell_type": "code",
   "execution_count": 3,
   "id": "dc9e98f5",
   "metadata": {},
   "outputs": [
    {
     "name": "stdout",
     "output_type": "stream",
     "text": [
      "2\n",
      "3\n",
      "5\n",
      "6\n",
      "7\n",
      "6\n"
     ]
    }
   ],
   "source": [
    "List2=[2,3,5,6,7,6]\n",
    "s=0\n",
    "e=len(List2)\n",
    "for i in range(s,e):\n",
    "    print(List2[i])"
   ]
  },
  {
   "cell_type": "code",
   "execution_count": 4,
   "id": "1cf5432f",
   "metadata": {},
   "outputs": [
    {
     "data": {
      "text/plain": [
       "[2, 3, 5, 6, 7, 6]"
      ]
     },
     "execution_count": 4,
     "metadata": {},
     "output_type": "execute_result"
    }
   ],
   "source": [
    "List2=[2,3,5,6,7,6]\n",
    "s=0\n",
    "e=len(List2)\n",
    "List2[s:e]"
   ]
  },
  {
   "cell_type": "markdown",
   "id": "7421fc44",
   "metadata": {},
   "source": [
    "# While Loop"
   ]
  },
  {
   "cell_type": "code",
   "execution_count": 5,
   "id": "16b9e95c",
   "metadata": {},
   "outputs": [
    {
     "name": "stdout",
     "output_type": "stream",
     "text": [
      "2\n",
      "3\n",
      "5\n",
      "6\n",
      "7\n",
      "6\n"
     ]
    }
   ],
   "source": [
    "List2=[2,3,5,6,7,6]\n",
    "s=0\n",
    "e=len(List2)\n",
    "while(s<e):\n",
    "    print(List2[s])\n",
    "    s=s+1"
   ]
  },
  {
   "cell_type": "code",
   "execution_count": 18,
   "id": "707caf69",
   "metadata": {},
   "outputs": [
    {
     "name": "stdout",
     "output_type": "stream",
     "text": [
      "Enter the number: 12\n",
      "Non Prime\n"
     ]
    }
   ],
   "source": [
    "n=int(input('Enter the number: '))\n",
    "assume='Prime'\n",
    "for i in range(2,n):\n",
    "    if n%i==0:\n",
    "        assume='Non Prime'\n",
    "print(assume)"
   ]
  },
  {
   "cell_type": "markdown",
   "id": "f4305756",
   "metadata": {},
   "source": [
    "# Unparameterized"
   ]
  },
  {
   "cell_type": "code",
   "execution_count": 7,
   "id": "bb9c70c1",
   "metadata": {},
   "outputs": [],
   "source": [
    "def sum():\n",
    "    a=int(input('Enter the 1st number: '))\n",
    "    b=int(input('Enter the 2nd number: '))\n",
    "    print('Summation is: ',a+b)"
   ]
  },
  {
   "cell_type": "code",
   "execution_count": 8,
   "id": "1c33ca05",
   "metadata": {},
   "outputs": [
    {
     "name": "stdout",
     "output_type": "stream",
     "text": [
      "Enter the 1st number: 5\n",
      "Enter the 2nd number: 9\n",
      "Summation is:  14\n"
     ]
    }
   ],
   "source": [
    "sum()"
   ]
  },
  {
   "cell_type": "markdown",
   "id": "d00aa695",
   "metadata": {},
   "source": [
    "# Parameterized Function"
   ]
  },
  {
   "cell_type": "code",
   "execution_count": 9,
   "id": "8c467d73",
   "metadata": {},
   "outputs": [],
   "source": [
    "def sum1(a,b):\n",
    "    c=a+b\n",
    "    print('Summation is: ',c)"
   ]
  },
  {
   "cell_type": "code",
   "execution_count": 10,
   "id": "0dd40028",
   "metadata": {},
   "outputs": [
    {
     "name": "stdout",
     "output_type": "stream",
     "text": [
      "Enter the 1st number: 1\n",
      "Enter the 2nd number: 2\n",
      "Summation is:  3\n"
     ]
    }
   ],
   "source": [
    "a=int(input('Enter the 1st number: '))\n",
    "b=int(input('Enter the 2nd number: '))\n",
    "sum1(a,b)\n"
   ]
  },
  {
   "cell_type": "code",
   "execution_count": 12,
   "id": "ceab9866",
   "metadata": {},
   "outputs": [],
   "source": [
    "def calculator(a,b,operator):\n",
    "    if operator=='+':\n",
    "        c=a+b\n",
    "        print('Summation is: ',c)\n",
    "    elif operator=='-':\n",
    "        c=a-b\n",
    "        print('Subtraction is: ',c)\n",
    "    elif operator=='*':\n",
    "        c=a*b\n",
    "        print('Multiplication is: ',c)\n",
    "    elif operator=='/':\n",
    "        c=a/b\n",
    "        print('Division is: ',c)\n",
    "    else:\n",
    "        print('Invalid input!')"
   ]
  },
  {
   "cell_type": "code",
   "execution_count": 17,
   "id": "f127b328",
   "metadata": {},
   "outputs": [
    {
     "name": "stdout",
     "output_type": "stream",
     "text": [
      "Enter your operation: +,-,*,/\n",
      "/\n",
      "Enter the 1st number: 2\n",
      "Enter the 2nd number: 3\n",
      "Division is:  0.6666666666666666\n"
     ]
    }
   ],
   "source": [
    "print('Enter your operation: +,-,*,/')\n",
    "operator=input()\n",
    "a=int(input('Enter the 1st number: '))\n",
    "b=int(input('Enter the 2nd number: '))\n",
    "calculator(a,b,operator)"
   ]
  },
  {
   "cell_type": "code",
   "execution_count": 8,
   "id": "621b0dfd",
   "metadata": {},
   "outputs": [],
   "source": [
    "def prime(n):\n",
    "    assume='Prime'\n",
    "    for i in range(2,n):\n",
    "        if n%i==0:\n",
    "            assume='Non Prime'\n",
    "    print(assume)"
   ]
  },
  {
   "cell_type": "code",
   "execution_count": null,
   "id": "57dfa75f",
   "metadata": {},
   "outputs": [],
   "source": [
    "n=int(input('Enter the number: '))\n",
    "prime(n)"
   ]
  },
  {
   "cell_type": "code",
   "execution_count": null,
   "id": "993d0cee",
   "metadata": {},
   "outputs": [],
   "source": []
  },
  {
   "cell_type": "code",
   "execution_count": null,
   "id": "bb73dcff",
   "metadata": {},
   "outputs": [],
   "source": []
  }
 ],
 "metadata": {
  "kernelspec": {
   "display_name": "Python 3 (ipykernel)",
   "language": "python",
   "name": "python3"
  },
  "language_info": {
   "codemirror_mode": {
    "name": "ipython",
    "version": 3
   },
   "file_extension": ".py",
   "mimetype": "text/x-python",
   "name": "python",
   "nbconvert_exporter": "python",
   "pygments_lexer": "ipython3",
   "version": "3.11.5"
  }
 },
 "nbformat": 4,
 "nbformat_minor": 5
}
