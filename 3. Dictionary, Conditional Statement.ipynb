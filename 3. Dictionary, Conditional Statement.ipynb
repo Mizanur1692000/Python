{
 "cells": [
  {
   "cell_type": "markdown",
   "id": "c26c5adb",
   "metadata": {},
   "source": [
    "# Dictionary"
   ]
  },
  {
   "cell_type": "code",
   "execution_count": 1,
   "id": "441907ee",
   "metadata": {},
   "outputs": [
    {
     "data": {
      "text/plain": [
       "dict"
      ]
     },
     "execution_count": 1,
     "metadata": {},
     "output_type": "execute_result"
    }
   ],
   "source": [
    "d={}\n",
    "type(d)"
   ]
  },
  {
   "cell_type": "code",
   "execution_count": 2,
   "id": "5d91fc22",
   "metadata": {},
   "outputs": [
    {
     "data": {
      "text/plain": [
       "set"
      ]
     },
     "execution_count": 2,
     "metadata": {},
     "output_type": "execute_result"
    }
   ],
   "source": [
    "# If we add any element in d, it will be a set\n",
    "d={3}\n",
    "type(d)"
   ]
  },
  {
   "cell_type": "code",
   "execution_count": 3,
   "id": "b011e8de",
   "metadata": {},
   "outputs": [
    {
     "name": "stdout",
     "output_type": "stream",
     "text": [
      "{'A': 1, 'B': [2, 4], 'C': 3}\n"
     ]
    }
   ],
   "source": [
    "# For taking multiple value we must use square baces\n",
    "Classroom={\n",
    "    'A':1,\n",
    "    'B':[2,4],\n",
    "    'C':3\n",
    "}\n",
    "print(Classroom)"
   ]
  },
  {
   "cell_type": "code",
   "execution_count": 4,
   "id": "172ec225",
   "metadata": {},
   "outputs": [
    {
     "name": "stdout",
     "output_type": "stream",
     "text": [
      "{'A': 5, 'B': [2, 4], 'C': 3}\n"
     ]
    }
   ],
   "source": [
    "# If we take different value for one key, output will show the latest value\n",
    "Classroom1={\n",
    "    'A':1,\n",
    "    'B':[2,4],\n",
    "    'C':3,\n",
    "    'A':5\n",
    "}\n",
    "print(Classroom1)"
   ]
  },
  {
   "cell_type": "code",
   "execution_count": 5,
   "id": "14106029",
   "metadata": {},
   "outputs": [
    {
     "data": {
      "text/plain": [
       "dict_keys(['A', 'B', 'C'])"
      ]
     },
     "execution_count": 5,
     "metadata": {},
     "output_type": "execute_result"
    }
   ],
   "source": [
    "# Left side means 'A', 'B', 'C' are keys and right side means 1,2,3,4,5 are values\n",
    "Classroom2={\n",
    "    'A':1,\n",
    "    'B':[2,4],\n",
    "    'C':3,\n",
    "    'A':5\n",
    "}\n",
    "Classroom2.keys()"
   ]
  },
  {
   "cell_type": "code",
   "execution_count": 6,
   "id": "fd47380b",
   "metadata": {},
   "outputs": [
    {
     "data": {
      "text/plain": [
       "dict_values([5, [2, 4], 3])"
      ]
     },
     "execution_count": 6,
     "metadata": {},
     "output_type": "execute_result"
    }
   ],
   "source": [
    "Classroom2.values()"
   ]
  },
  {
   "cell_type": "code",
   "execution_count": 7,
   "id": "d92e3534",
   "metadata": {},
   "outputs": [
    {
     "data": {
      "text/plain": [
       "dict_items([('A', 5), ('B', [2, 4]), ('C', 3)])"
      ]
     },
     "execution_count": 7,
     "metadata": {},
     "output_type": "execute_result"
    }
   ],
   "source": [
    "Classroom2.items()"
   ]
  },
  {
   "cell_type": "code",
   "execution_count": 8,
   "id": "7aad52a6",
   "metadata": {},
   "outputs": [
    {
     "data": {
      "text/plain": [
       "{'A': 5, 'B': [2, 4], 'C': 3, 'E': 6}"
      ]
     },
     "execution_count": 8,
     "metadata": {},
     "output_type": "execute_result"
    }
   ],
   "source": [
    "# adding in dictionary\n",
    "Classroom2['E']=6\n",
    "Classroom2"
   ]
  },
  {
   "cell_type": "code",
   "execution_count": 9,
   "id": "413d1bb5",
   "metadata": {},
   "outputs": [
    {
     "data": {
      "text/plain": [
       "{'A': 5, 'B': [2, 4], 'E': 6}"
      ]
     },
     "execution_count": 9,
     "metadata": {},
     "output_type": "execute_result"
    }
   ],
   "source": [
    "del Classroom2['C']\n",
    "Classroom2"
   ]
  },
  {
   "cell_type": "code",
   "execution_count": 10,
   "id": "6988f41f",
   "metadata": {},
   "outputs": [
    {
     "data": {
      "text/plain": [
       "{'A': 5, 'B': [2, 4], 'E': 6, 'F': 7, 'G': 8}"
      ]
     },
     "execution_count": 10,
     "metadata": {},
     "output_type": "execute_result"
    }
   ],
   "source": [
    "newClassroom={'F':7,'G':8}\n",
    "Classroom2.update(newClassroom)\n",
    "Classroom2"
   ]
  },
  {
   "cell_type": "markdown",
   "id": "dbe1dee3",
   "metadata": {},
   "source": [
    "# We cannot update key directly. So, at first we have to delete the key and again add with new value"
   ]
  },
  {
   "cell_type": "code",
   "execution_count": 11,
   "id": "6232426a",
   "metadata": {},
   "outputs": [],
   "source": [
    "# We can replace the whole dictionary into another dictionary\n",
    "Classroom2=newClassroom"
   ]
  },
  {
   "cell_type": "code",
   "execution_count": 12,
   "id": "117b0d6a",
   "metadata": {},
   "outputs": [
    {
     "data": {
      "text/plain": [
       "{'F': 7, 'G': 8}"
      ]
     },
     "execution_count": 12,
     "metadata": {},
     "output_type": "execute_result"
    }
   ],
   "source": [
    "Classroom2"
   ]
  },
  {
   "cell_type": "markdown",
   "id": "23981458",
   "metadata": {},
   "source": [
    "# Condtional Statement"
   ]
  },
  {
   "cell_type": "code",
   "execution_count": 16,
   "id": "66dfec79",
   "metadata": {},
   "outputs": [],
   "source": [
    "a=10\n",
    "b=11"
   ]
  },
  {
   "cell_type": "code",
   "execution_count": 17,
   "id": "9aa32045",
   "metadata": {},
   "outputs": [
    {
     "name": "stdout",
     "output_type": "stream",
     "text": [
      "b is greater\n"
     ]
    }
   ],
   "source": [
    "if a>b:\n",
    "    print(\"a is greater\")\n",
    "if a<b:\n",
    "    print(\"b is greater\")\n",
    "if a==b:\n",
    "    print(\"a and b is equal\")"
   ]
  },
  {
   "cell_type": "code",
   "execution_count": 19,
   "id": "ee7c0433",
   "metadata": {},
   "outputs": [
    {
     "name": "stdout",
     "output_type": "stream",
     "text": [
      "Value of a is 10\n"
     ]
    }
   ],
   "source": [
    "if a==10:\n",
    "    print(\"Value of a is 10\")\n",
    "elif a==10:\n",
    "    print(\"Value of a is not 10\")"
   ]
  },
  {
   "cell_type": "code",
   "execution_count": 20,
   "id": "dfcc273d",
   "metadata": {},
   "outputs": [
    {
     "name": "stdout",
     "output_type": "stream",
     "text": [
      "b is greater\n"
     ]
    }
   ],
   "source": [
    "if a>b:\n",
    "    print(\"a is greater\")\n",
    "elif a<b:\n",
    "    print(\"b is greater\")\n",
    "elif a==b:\n",
    "    print(\"a and b is equal\")"
   ]
  },
  {
   "cell_type": "code",
   "execution_count": 21,
   "id": "70829749",
   "metadata": {},
   "outputs": [
    {
     "name": "stdout",
     "output_type": "stream",
     "text": [
      "b is greater\n"
     ]
    }
   ],
   "source": [
    "if a>b:\n",
    "    print(\"a is greater\")\n",
    "elif a<b:\n",
    "    print(\"b is greater\")\n",
    "else:\n",
    "    print(\"a and b is equal\")"
   ]
  },
  {
   "cell_type": "code",
   "execution_count": null,
   "id": "6ee93a61",
   "metadata": {},
   "outputs": [],
   "source": []
  },
  {
   "cell_type": "code",
   "execution_count": 22,
   "id": "f620a9bd",
   "metadata": {},
   "outputs": [
    {
     "name": "stdout",
     "output_type": "stream",
     "text": [
      "Enter the age: 22\n",
      "Enter the numer of vaxin taken: 1\n",
      "Restaurant B\n"
     ]
    }
   ],
   "source": [
    "age=int(input(\"Enter the age: \"))\n",
    "covid=int(input(\"Enter the numer of vaxin taken: \"))\n",
    "if age >21 and covid==2:\n",
    "    print(\"Restaurant A\")\n",
    "elif age>21 and covid==1:\n",
    "    print(\"Restaurant B\")\n",
    "else:\n",
    "    print(\"Invalid input!!!\")"
   ]
  },
  {
   "cell_type": "code",
   "execution_count": null,
   "id": "0fc653e4",
   "metadata": {},
   "outputs": [],
   "source": []
  }
 ],
 "metadata": {
  "kernelspec": {
   "display_name": "Python 3 (ipykernel)",
   "language": "python",
   "name": "python3"
  },
  "language_info": {
   "codemirror_mode": {
    "name": "ipython",
    "version": 3
   },
   "file_extension": ".py",
   "mimetype": "text/x-python",
   "name": "python",
   "nbconvert_exporter": "python",
   "pygments_lexer": "ipython3",
   "version": "3.11.5"
  }
 },
 "nbformat": 4,
 "nbformat_minor": 5
}
