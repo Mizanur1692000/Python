{
 "cells": [
  {
   "cell_type": "code",
   "execution_count": 1,
   "id": "e498a8da",
   "metadata": {},
   "outputs": [
    {
     "data": {
      "text/plain": [
       "5"
      ]
     },
     "execution_count": 1,
     "metadata": {},
     "output_type": "execute_result"
    }
   ],
   "source": [
    "def summation(a,b):\n",
    "    return a+b\n",
    "summation(2,3)"
   ]
  },
  {
   "cell_type": "code",
   "execution_count": 2,
   "id": "0d84e014",
   "metadata": {},
   "outputs": [
    {
     "data": {
      "text/plain": [
       "6"
      ]
     },
     "execution_count": 2,
     "metadata": {},
     "output_type": "execute_result"
    }
   ],
   "source": [
    "class SUM:\n",
    "    def summation(self,a,b):\n",
    "        return a+b\n",
    "obj=SUM()\n",
    "obj.summation(2,4)"
   ]
  },
  {
   "cell_type": "code",
   "execution_count": 3,
   "id": "d37cfc1b",
   "metadata": {},
   "outputs": [
    {
     "name": "stdout",
     "output_type": "stream",
     "text": [
      "Yamaha Blue\n"
     ]
    }
   ],
   "source": [
    "class CAR:\n",
    "    def FEATURES(self):\n",
    "        Name=\"Yamaha\"\n",
    "        Color=\"Blue\"\n",
    "        print(Name,Color)\n",
    "Obj=CAR()\n",
    "Obj.FEATURES()"
   ]
  },
  {
   "cell_type": "code",
   "execution_count": 4,
   "id": "27c14840",
   "metadata": {},
   "outputs": [
    {
     "name": "stdout",
     "output_type": "stream",
     "text": [
      "Yamaha Blue\n",
      "Yamaha Blue\n"
     ]
    }
   ],
   "source": [
    "class CAR:\n",
    "    def FEATURES(self,Name,Color):\n",
    "        self.Name=Name\n",
    "        self.Color=Color\n",
    "        print(Name,Color)\n",
    "    def DISPLAY(self):\n",
    "        print(self.Name,self.Color)\n",
    "Obj=CAR()\n",
    "Obj.FEATURES('Yamaha','Blue')\n",
    "Obj.DISPLAY()"
   ]
  },
  {
   "cell_type": "code",
   "execution_count": 15,
   "id": "7e6fb253",
   "metadata": {},
   "outputs": [
    {
     "name": "stdout",
     "output_type": "stream",
     "text": [
      "Enter the number: 5\n"
     ]
    },
    {
     "data": {
      "text/plain": [
       "10"
      ]
     },
     "execution_count": 15,
     "metadata": {},
     "output_type": "execute_result"
    }
   ],
   "source": [
    "class Calculation:\n",
    "    def even_odd(self,a):\n",
    "        if a%2==0:\n",
    "            result=self.square(a)\n",
    "        else:\n",
    "            result=self.double(a)\n",
    "        return result\n",
    "    def square(self,b):\n",
    "        return b**2\n",
    "    def double(self,c):\n",
    "        return c*2\n",
    "obj=Calculation()\n",
    "obj.even_odd(int(input('Enter the number: ')))\n",
    "    "
   ]
  },
  {
   "cell_type": "code",
   "execution_count": 19,
   "id": "8b3b4d3b",
   "metadata": {},
   "outputs": [
    {
     "name": "stdout",
     "output_type": "stream",
     "text": [
      "Enter the number: 9\n"
     ]
    },
    {
     "data": {
      "text/plain": [
       "18"
      ]
     },
     "execution_count": 19,
     "metadata": {},
     "output_type": "execute_result"
    }
   ],
   "source": [
    "class Calculation:\n",
    "    def even_odd(self,a):\n",
    "        self.a=a\n",
    "        if a%2==0:\n",
    "            result=self.square(a)\n",
    "        else:\n",
    "            result=self.double(a)\n",
    "        return result\n",
    "    def square(self,a):\n",
    "        return self.a**2\n",
    "    def double(self,a):\n",
    "        return self.a*2\n",
    "obj=Calculation()\n",
    "obj.even_odd(int(input('Enter the number: ')))"
   ]
  },
  {
   "cell_type": "code",
   "execution_count": 25,
   "id": "937d2961",
   "metadata": {},
   "outputs": [
    {
     "name": "stdout",
     "output_type": "stream",
     "text": [
      "5\n"
     ]
    }
   ],
   "source": [
    "class student:\n",
    "    def fun1(self,a):\n",
    "        self.a=a\n",
    "        return self.a\n",
    "    def message(self):\n",
    "        print(self.a)\n",
    "obj=student()\n",
    "obj.fun1(5)\n",
    "obj.message()"
   ]
  },
  {
   "cell_type": "code",
   "execution_count": null,
   "id": "7adf9910",
   "metadata": {},
   "outputs": [],
   "source": []
  }
 ],
 "metadata": {
  "kernelspec": {
   "display_name": "Python 3 (ipykernel)",
   "language": "python",
   "name": "python3"
  },
  "language_info": {
   "codemirror_mode": {
    "name": "ipython",
    "version": 3
   },
   "file_extension": ".py",
   "mimetype": "text/x-python",
   "name": "python",
   "nbconvert_exporter": "python",
   "pygments_lexer": "ipython3",
   "version": "3.11.5"
  }
 },
 "nbformat": 4,
 "nbformat_minor": 5
}
