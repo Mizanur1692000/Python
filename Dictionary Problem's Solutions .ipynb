{
 "cells": [
  {
   "cell_type": "markdown",
   "id": "d7721761",
   "metadata": {},
   "source": [
    "# 1. Write a Python script to sort (ascending and descending) a dictionary by value."
   ]
  },
  {
   "cell_type": "code",
   "execution_count": 1,
   "id": "2eaf41fc",
   "metadata": {},
   "outputs": [
    {
     "name": "stdout",
     "output_type": "stream",
     "text": [
      "Original dictionary :  {1: 2, 3: 4, 4: 3, 2: 1, 0: 0}\n",
      "Dictionary in ascending order by value :  [(0, 0), (2, 1), (1, 2), (4, 3), (3, 4)]\n",
      "Dictionary in descending order by value :  {3: 4, 4: 3, 1: 2, 2: 1, 0: 0}\n"
     ]
    }
   ],
   "source": [
    "import operator\n",
    "\n",
    "d = {1: 2, 3: 4, 4: 3, 2: 1, 0: 0}\n",
    "\n",
    "print('Original dictionary : ',d)\n",
    "\n",
    "sorted_d = sorted(d.items(), key=operator.itemgetter(1))\n",
    "\n",
    "print('Dictionary in ascending order by value : ',sorted_d)\n",
    "\n",
    "\n",
    "sorted_d = dict( sorted(d.items(), key=operator.itemgetter(1), reverse=True))\n",
    "\n",
    "\n",
    "print('Dictionary in descending order by value : ',sorted_d) "
   ]
  },
  {
   "cell_type": "markdown",
   "id": "1d93f2f6",
   "metadata": {},
   "source": [
    "# 2. Write a Python script to add a key to a dictionary. Sample Dictionary : {0: 10, 1: 20} Expected Result : {0: 10, 1: 20, 2: 30}"
   ]
  },
  {
   "cell_type": "code",
   "execution_count": 2,
   "id": "15b5182f",
   "metadata": {},
   "outputs": [
    {
     "name": "stdout",
     "output_type": "stream",
     "text": [
      "{0: 10, 1: 20}\n",
      "{0: 10, 1: 20, 2: 30}\n"
     ]
    }
   ],
   "source": [
    "d = {0: 10, 1: 20}\n",
    "\n",
    "print(d)\n",
    "\n",
    "d.update({2: 30})\n",
    "\n",
    "print(d)"
   ]
  },
  {
   "cell_type": "markdown",
   "id": "fcc11cc3",
   "metadata": {},
   "source": [
    "# 3. Write a Python script to concatenate the following dictionaries to create a new one. Sample Dictionary : dic1={1:10, 2:20} dic2={3:30, 4:40} dic3={5:50,6:60} Expected Result : {1: 10, 2: 20, 3: 30, 4: 40, 5: 50, 6: 60}"
   ]
  },
  {
   "cell_type": "code",
   "execution_count": 3,
   "id": "3cdb36b8",
   "metadata": {},
   "outputs": [
    {
     "name": "stdout",
     "output_type": "stream",
     "text": [
      "{1: 10, 2: 20, 3: 30, 4: 40, 5: 50, 6: 60}\n"
     ]
    }
   ],
   "source": [
    "dic1 = {1: 10, 2: 20}\n",
    "dic2 = {3: 30, 4: 40}\n",
    "dic3 = {5: 50, 6: 60}\n",
    "\n",
    "dic4 = {}\n",
    "\n",
    "for d in (dic1, dic2, dic3):\n",
    "    dic4.update(d)\n",
    "\n",
    "print(dic4)"
   ]
  },
  {
   "cell_type": "markdown",
   "id": "521ebd08",
   "metadata": {},
   "source": [
    "# 4. Write a Python script to check whether a given key already exists in a dictionary."
   ]
  },
  {
   "cell_type": "code",
   "execution_count": 4,
   "id": "b9d6cf4d",
   "metadata": {},
   "outputs": [
    {
     "name": "stdout",
     "output_type": "stream",
     "text": [
      "Key is present in the dictionary\n",
      "Key is not present in the dictionary\n"
     ]
    }
   ],
   "source": [
    "d = {1: 10, 2: 20, 3: 30, 4: 40, 5: 50, 6: 60}\n",
    "\n",
    "def is_key_present(x):\n",
    "    if x in d:\n",
    "        print('Key is present in the dictionary')\n",
    "    else:\n",
    "        print('Key is not present in the dictionary')\n",
    "\n",
    "is_key_present(5)\n",
    "\n",
    "is_key_present(9)"
   ]
  },
  {
   "cell_type": "markdown",
   "id": "253f883c",
   "metadata": {},
   "source": [
    "# 5. Write a Python program to iterate over dictionaries using for loops."
   ]
  },
  {
   "cell_type": "code",
   "execution_count": 5,
   "id": "0a60c33a",
   "metadata": {},
   "outputs": [
    {
     "name": "stdout",
     "output_type": "stream",
     "text": [
      "x -> 10\n",
      "y -> 20\n",
      "z -> 30\n"
     ]
    }
   ],
   "source": [
    "d = {'x': 10, 'y': 20, 'z': 30} \n",
    "\n",
    "\n",
    "for dict_key, dict_value in d.items():\n",
    "    print(dict_key, '->', dict_value)"
   ]
  },
  {
   "cell_type": "markdown",
   "id": "fa5b7bd7",
   "metadata": {},
   "source": [
    "# 6. Write a Python script to generate and print a dictionary that contains a number (between 1 and n) in the form (x, x*x). Sample Dictionary ( n = 5) : Expected Output : {1: 1, 2: 4, 3: 9, 4: 16, 5: 25}"
   ]
  },
  {
   "cell_type": "code",
   "execution_count": 6,
   "id": "d73a527b",
   "metadata": {},
   "outputs": [
    {
     "name": "stdout",
     "output_type": "stream",
     "text": [
      "Input a number 1\n",
      "{1: 1}\n"
     ]
    }
   ],
   "source": [
    "n = int(input(\"Input a number \"))\n",
    "\n",
    "d = dict()\n",
    "\n",
    "for x in range(1, n + 1):\n",
    "    d[x] = x * x\n",
    "\n",
    "print(d) "
   ]
  },
  {
   "cell_type": "markdown",
   "id": "df6c47e1",
   "metadata": {},
   "source": [
    "# 7. Write a Python script to print a dictionary where the keys are numbers between 1 and 15 (both included) and the values are the square of the keys. Sample Dictionary {1: 1, 2: 4, 3: 9, 4: 16, 5: 25, 6: 36, 7: 49, 8: 64, 9: 81, 10: 100, 11: 121, 12: 144, 13: 169, 14: 196, 15: 225}"
   ]
  },
  {
   "cell_type": "code",
   "execution_count": 7,
   "id": "809dcfd2",
   "metadata": {},
   "outputs": [
    {
     "name": "stdout",
     "output_type": "stream",
     "text": [
      "{1: 1, 2: 4, 3: 9, 4: 16, 5: 25, 6: 36, 7: 49, 8: 64, 9: 81, 10: 100, 11: 121, 12: 144, 13: 169, 14: 196, 15: 225}\n"
     ]
    }
   ],
   "source": [
    "d = dict()\n",
    "\n",
    "for x in range(1, 16):\n",
    "    d[x] = x ** 2\n",
    "\n",
    "print(d)"
   ]
  },
  {
   "cell_type": "markdown",
   "id": "0e9ac579",
   "metadata": {},
   "source": [
    "# 8. Write a Python script to merge two Python dictionaries."
   ]
  },
  {
   "cell_type": "code",
   "execution_count": 8,
   "id": "971db187",
   "metadata": {},
   "outputs": [
    {
     "name": "stdout",
     "output_type": "stream",
     "text": [
      "{'a': 100, 'b': 200, 'x': 300, 'y': 200}\n"
     ]
    }
   ],
   "source": [
    "d1 = {'a': 100, 'b': 200}\n",
    "\n",
    "d2 = {'x': 300, 'y': 200}\n",
    "\n",
    "d = d1.copy()\n",
    "\n",
    "d.update(d2)\n",
    "\n",
    "print(d)"
   ]
  },
  {
   "cell_type": "markdown",
   "id": "84931495",
   "metadata": {},
   "source": [
    "# 9. Write a Python program to iterate over dictionaries using for loops."
   ]
  },
  {
   "cell_type": "code",
   "execution_count": 9,
   "id": "3461f9cb",
   "metadata": {},
   "outputs": [
    {
     "name": "stdout",
     "output_type": "stream",
     "text": [
      "Red corresponds to  1\n",
      "Green corresponds to  2\n",
      "Blue corresponds to  3\n"
     ]
    }
   ],
   "source": [
    "d = {'Red': 1, 'Green': 2, 'Blue': 3}\n",
    "\n",
    "for color_key, value in d.items():\n",
    "    print(color_key, 'corresponds to ', d[color_key])"
   ]
  },
  {
   "cell_type": "markdown",
   "id": "74649991",
   "metadata": {},
   "source": [
    "# 10. Write a Python program to sum all the items in a dictionary."
   ]
  },
  {
   "cell_type": "code",
   "execution_count": 10,
   "id": "15a3d08a",
   "metadata": {},
   "outputs": [
    {
     "name": "stdout",
     "output_type": "stream",
     "text": [
      "293\n"
     ]
    }
   ],
   "source": [
    "my_dict = {'data1': 100, 'data2': -54, 'data3': 247}\n",
    "\n",
    "result = sum(my_dict.values())\n",
    "print(result)"
   ]
  },
  {
   "cell_type": "markdown",
   "id": "33fe7b2d",
   "metadata": {},
   "source": [
    "# 11. Write a Python program to multiply all the items in a dictionary."
   ]
  },
  {
   "cell_type": "code",
   "execution_count": 11,
   "id": "c09dba00",
   "metadata": {},
   "outputs": [
    {
     "name": "stdout",
     "output_type": "stream",
     "text": [
      "-1333800\n"
     ]
    }
   ],
   "source": [
    "my_dict = {'data1': 100, 'data2': -54, 'data3': 247}\n",
    "\n",
    "result = 1\n",
    "\n",
    "for key in my_dict:\n",
    "    result = result * my_dict[key]\n",
    "\n",
    "print(result) "
   ]
  },
  {
   "cell_type": "markdown",
   "id": "58cd2b4e",
   "metadata": {},
   "source": [
    "# 12. Write a Python program to remove a key from a dictionary."
   ]
  },
  {
   "cell_type": "code",
   "execution_count": 12,
   "id": "46e28bea",
   "metadata": {},
   "outputs": [
    {
     "name": "stdout",
     "output_type": "stream",
     "text": [
      "{'a': 1, 'b': 2, 'c': 3, 'd': 4}\n",
      "{'b': 2, 'c': 3, 'd': 4}\n"
     ]
    }
   ],
   "source": [
    "myDict = {'a': 1, 'b': 2, 'c': 3, 'd': 4}\n",
    "\n",
    "print(myDict)\n",
    "\n",
    "if 'a' in myDict:\n",
    "    del myDict['a']\n",
    "\n",
    "print(myDict)"
   ]
  },
  {
   "cell_type": "markdown",
   "id": "7e09fb2e",
   "metadata": {},
   "source": [
    "# 13. Write a Python program to map two lists into a dictionary."
   ]
  },
  {
   "cell_type": "code",
   "execution_count": 13,
   "id": "6f1b77ed",
   "metadata": {},
   "outputs": [
    {
     "name": "stdout",
     "output_type": "stream",
     "text": [
      "{'red': '#FF0000', 'green': '#008000', 'blue': '#0000FF'}\n"
     ]
    }
   ],
   "source": [
    "keys = ['red', 'green', 'blue']\n",
    "\n",
    "values = ['#FF0000', '#008000', '#0000FF']\n",
    "\n",
    "\n",
    "color_dictionary = dict(zip(keys, values))\n",
    "\n",
    "print(color_dictionary)"
   ]
  },
  {
   "cell_type": "markdown",
   "id": "4f74fbba",
   "metadata": {},
   "source": [
    "# 14. Write a Python program to sort a given dictionary by key."
   ]
  },
  {
   "cell_type": "code",
   "execution_count": 14,
   "id": "745c92e7",
   "metadata": {},
   "outputs": [
    {
     "name": "stdout",
     "output_type": "stream",
     "text": [
      "black: #000000\n",
      "green: #008000\n",
      "red: #FF0000\n",
      "white: #FFFFFF\n"
     ]
    }
   ],
   "source": [
    "color_dict = {\n",
    "    'red': '#FF0000',\n",
    "    'green': '#008000',\n",
    "    'black': '#000000',\n",
    "    'white': '#FFFFFF'\n",
    "}\n",
    "\n",
    "for key in sorted(color_dict):\n",
    "    print(\"%s: %s\" % (key, color_dict[key]))"
   ]
  },
  {
   "cell_type": "markdown",
   "id": "df960b59",
   "metadata": {},
   "source": [
    "# 15. Write a Python program to get the maximum and minimum values of a dictionary."
   ]
  },
  {
   "cell_type": "code",
   "execution_count": 15,
   "id": "71753b91",
   "metadata": {},
   "outputs": [
    {
     "name": "stdout",
     "output_type": "stream",
     "text": [
      "Maximum Value:  5874\n",
      "Minimum Value:  500\n"
     ]
    }
   ],
   "source": [
    "my_dict = {'x': 500, 'y': 5874, 'z': 560}\n",
    "\n",
    "\n",
    "key_max = max(my_dict.keys(), key=(lambda k: my_dict[k]))\n",
    "\n",
    "\n",
    "key_min = min(my_dict.keys(), key=(lambda k: my_dict[k]))\n",
    "\n",
    "print('Maximum Value: ', my_dict[key_max])\n",
    "\n",
    "print('Minimum Value: ', my_dict[key_min])"
   ]
  },
  {
   "cell_type": "markdown",
   "id": "e5f7f07d",
   "metadata": {},
   "source": [
    "# 16. Write a Python program to get a dictionary from an object's fields."
   ]
  },
  {
   "cell_type": "code",
   "execution_count": 16,
   "id": "619098d4",
   "metadata": {},
   "outputs": [
    {
     "name": "stdout",
     "output_type": "stream",
     "text": [
      "{'x': 'red', 'y': 'Yellow', 'z': 'Green'}\n"
     ]
    }
   ],
   "source": [
    "class dictObj(object):\n",
    "    def __init__(self):\n",
    "        self.x = 'red'\n",
    "        self.y = 'Yellow'\n",
    "        self.z = 'Green'\n",
    "    \n",
    "    def do_nothing(self):\n",
    "        pass\n",
    "\n",
    "test = dictObj()\n",
    "\n",
    "print(test.__dict__)"
   ]
  },
  {
   "cell_type": "markdown",
   "id": "97ee4775",
   "metadata": {},
   "source": [
    "# 17. Write a Python program to remove duplicates from the dictionary."
   ]
  },
  {
   "cell_type": "code",
   "execution_count": 17,
   "id": "c2b7b4d0",
   "metadata": {},
   "outputs": [
    {
     "name": "stdout",
     "output_type": "stream",
     "text": [
      "{'id1': {'name': ['Sara'], 'class': ['V'], 'subject_integration': ['english, math, science']}, 'id2': {'name': ['David'], 'class': ['V'], 'subject_integration': ['english, math, science']}, 'id4': {'name': ['Surya'], 'class': ['V'], 'subject_integration': ['english, math, science']}}\n"
     ]
    }
   ],
   "source": [
    "student_data = {\n",
    "    'id1': {\n",
    "        'name': ['Sara'],\n",
    "        'class': ['V'],\n",
    "        'subject_integration': ['english, math, science']\n",
    "    },\n",
    "    'id2': {\n",
    "        'name': ['David'],\n",
    "        'class': ['V'],\n",
    "        'subject_integration': ['english, math, science']\n",
    "    },\n",
    "    'id3': {\n",
    "        'name': ['Sara'],\n",
    "        'class': ['V'],\n",
    "        'subject_integration': ['english, math, science']\n",
    "    },\n",
    "    'id4': {\n",
    "        'name': ['Surya'],\n",
    "        'class': ['V'],\n",
    "        'subject_integration': ['english, math, science']\n",
    "    }\n",
    "}\n",
    "\n",
    "result = {}\n",
    "\n",
    "for key, value in student_data.items():\n",
    "    if value not in result.values():\n",
    "        result[key] = value\n",
    "\n",
    "print(result)"
   ]
  },
  {
   "cell_type": "markdown",
   "id": "d58c1eb4",
   "metadata": {},
   "source": [
    "# 18. Write a Python program to check if a dictionary is empty or not."
   ]
  },
  {
   "cell_type": "code",
   "execution_count": 18,
   "id": "09027924",
   "metadata": {},
   "outputs": [
    {
     "name": "stdout",
     "output_type": "stream",
     "text": [
      "Dictionary is empty\n"
     ]
    }
   ],
   "source": [
    "my_dict = {}\n",
    "\n",
    "\n",
    "if not bool(my_dict):\n",
    "    print(\"Dictionary is empty\")"
   ]
  },
  {
   "cell_type": "markdown",
   "id": "106cd2d1",
   "metadata": {},
   "source": [
    "# 19. Write a Python program to combine two dictionary by adding values for common keys. d1 = {'a': 100, 'b': 200, 'c':300} d2 = {'a': 300, 'b': 200, 'd':400} Sample output: Counter({'a': 400, 'b': 400, 'd': 400, 'c': 300})"
   ]
  },
  {
   "cell_type": "code",
   "execution_count": 19,
   "id": "d0286929",
   "metadata": {},
   "outputs": [
    {
     "name": "stdout",
     "output_type": "stream",
     "text": [
      "Counter({'a': 400, 'b': 400, 'd': 400, 'c': 300})\n"
     ]
    }
   ],
   "source": [
    "from collections import Counter\n",
    "\n",
    "d1 = {'a': 100, 'b': 200, 'c': 300}\n",
    "d2 = {'a': 300, 'b': 200, 'd': 400}\n",
    "\n",
    "\n",
    "d = Counter(d1) + Counter(d2)\n",
    "\n",
    "print(d)"
   ]
  },
  {
   "cell_type": "markdown",
   "id": "d738504e",
   "metadata": {},
   "source": [
    "# 20. Write a Python program to print all distinct values in a dictionary.b Sample Data : [{\"V\":\"S001\"}, {\"V\": \"S002\"}, {\"VI\": \"S001\"}, {\"VI\": \"S005\"}, {\"VII\":\"S005\"}, {\"V\":\"S009\"},{\"VIII\":\"S007\"}] Expected Output : Unique Values: {'S005', 'S002', 'S007', 'S001', 'S009'}"
   ]
  },
  {
   "cell_type": "code",
   "execution_count": 20,
   "id": "93ea7b9e",
   "metadata": {},
   "outputs": [
    {
     "name": "stdout",
     "output_type": "stream",
     "text": [
      "Original List:  [{'V': 'S001'}, {'V': 'S002'}, {'VI': 'S001'}, {'VI': 'S005'}, {'VII': 'S005'}, {'V': 'S009'}, {'VIII': 'S007'}]\n",
      "Unique Values:  {'S005', 'S007', 'S002', 'S001', 'S009'}\n"
     ]
    }
   ],
   "source": [
    "L = [{\"V\": \"S001\"}, {\"V\": \"S002\"}, {\"VI\": \"S001\"}, {\"VI\": \"S005\"}, {\"VII\": \"S005\"}, {\"V\": \"S009\"}, {\"VIII\": \"S007\"}]\n",
    "\n",
    "print(\"Original List: \", L)\n",
    "\n",
    "\n",
    "u_value = set(val for dic in L for val in dic.values())\n",
    "\n",
    "\n",
    "print(\"Unique Values: \", u_value)"
   ]
  },
  {
   "cell_type": "markdown",
   "id": "8eeb0913",
   "metadata": {},
   "source": [
    "# 21. Write a Python program to create and display all combinations of letters, selecting each letter from a different key in a dictionary. Sample data : {'1':['a','b'], '2':['c','d']} Expected Output: ac ad bc bd"
   ]
  },
  {
   "cell_type": "code",
   "execution_count": 21,
   "id": "4a00b44c",
   "metadata": {},
   "outputs": [
    {
     "name": "stdout",
     "output_type": "stream",
     "text": [
      "ac\n",
      "ad\n",
      "bc\n",
      "bd\n"
     ]
    }
   ],
   "source": [
    "import itertools\n",
    "\n",
    "d = {'1': ['a', 'b'], '2': ['c', 'd']}\n",
    "\n",
    "\n",
    "for combo in itertools.product(*[d[k] for k in sorted(d.keys())]):\n",
    "    \n",
    "    print(''.join(combo))"
   ]
  },
  {
   "cell_type": "markdown",
   "id": "c3923cbc",
   "metadata": {},
   "source": [
    "# 22. Write a Python program to find the highest 3 values of corresponding keys in a dictionary."
   ]
  },
  {
   "cell_type": "code",
   "execution_count": 22,
   "id": "14b8401b",
   "metadata": {},
   "outputs": [
    {
     "name": "stdout",
     "output_type": "stream",
     "text": [
      "['b', 'e', 'c']\n"
     ]
    }
   ],
   "source": [
    "from heapq import nlargest\n",
    "\n",
    "my_dict = {'a': 500, 'b': 5874, 'c': 560, 'd': 400, 'e': 5874, 'f': 20}\n",
    "\n",
    "\n",
    "three_largest = nlargest(3, my_dict, key=my_dict.get)\n",
    "\n",
    "\n",
    "print(three_largest)"
   ]
  },
  {
   "cell_type": "markdown",
   "id": "9ae96cd6",
   "metadata": {},
   "source": [
    "# 23. Write a Python program to combine values in a list of dictionaries. Sample data: [{'item': 'item1', 'amount': 400}, {'item': 'item2', 'amount': 300}, {'item': 'item1', 'amount': 750}] Expected Output: Counter({'item1': 1150, 'item2': 300})"
   ]
  },
  {
   "cell_type": "code",
   "execution_count": 23,
   "id": "a35e7503",
   "metadata": {},
   "outputs": [
    {
     "name": "stdout",
     "output_type": "stream",
     "text": [
      "Counter({'item1': 1150, 'item2': 300})\n"
     ]
    }
   ],
   "source": [
    "from collections import Counter\n",
    "\n",
    "item_list = [{'item': 'item1', 'amount': 400}, {'item': 'item2', 'amount': 300}, {'item': 'item1', 'amount': 750}]\n",
    "\n",
    "result = Counter()\n",
    "\n",
    "for d in item_list:\n",
    "    result[d['item']] += d['amount']\n",
    "\n",
    "print(result)"
   ]
  },
  {
   "cell_type": "markdown",
   "id": "76b14306",
   "metadata": {},
   "source": [
    "# 24. Write a Python program to create a dictionary from a string. Note: Track the count of the letters from the string. Sample string : 'w3resource' Expected output: {'w': 1, '3': 1, 'r': 2, 'e': 2, 's': 1, 'o': 1, 'u': 1, 'c': 1}"
   ]
  },
  {
   "cell_type": "code",
   "execution_count": 24,
   "id": "3cec5fbf",
   "metadata": {},
   "outputs": [
    {
     "name": "stdout",
     "output_type": "stream",
     "text": [
      "{'w': 1, '3': 1, 'r': 2, 'e': 2, 's': 1, 'o': 1, 'u': 1, 'c': 1}\n"
     ]
    }
   ],
   "source": [
    "from collections import defaultdict, Counter\n",
    "\n",
    "str1 = 'w3resource'\n",
    "\n",
    "my_dict = {}\n",
    "\n",
    "for letter in str1:\n",
    "\n",
    "    my_dict[letter] = my_dict.get(letter, 0) + 1\n",
    "\n",
    "print(my_dict)"
   ]
  },
  {
   "cell_type": "markdown",
   "id": "813d76b8",
   "metadata": {},
   "source": [
    "# 25. Write a Python program to print a dictionary in table format."
   ]
  },
  {
   "cell_type": "code",
   "execution_count": 25,
   "id": "d190f672",
   "metadata": {},
   "outputs": [
    {
     "name": "stdout",
     "output_type": "stream",
     "text": [
      "C1 C2 C3\n",
      "1 5 9\n",
      "2 6 10\n",
      "3 7 11\n"
     ]
    }
   ],
   "source": [
    "my_dict = {'C1': [1, 2, 3], 'C2': [5, 6, 7], 'C3': [9, 10, 11]}\n",
    "\n",
    "\n",
    "for row in zip(*([key] + (value) for key, value in sorted(my_dict.items()))):\n",
    "    print(*row)"
   ]
  },
  {
   "cell_type": "markdown",
   "id": "5817dbc6",
   "metadata": {},
   "source": [
    "# 26. Write a Python program to count the values associated with a key in a dictionary. Expected Output: 6 2"
   ]
  },
  {
   "cell_type": "code",
   "execution_count": 26,
   "id": "79ddd3e6",
   "metadata": {},
   "outputs": [
    {
     "name": "stdout",
     "output_type": "stream",
     "text": [
      "6\n",
      "2\n"
     ]
    }
   ],
   "source": [
    "student = [{'id': 1, 'success': True, 'name': 'Lary'},\n",
    " {'id': 2, 'success': False, 'name': 'Rabi'},\n",
    " {'id': 3, 'success': True, 'name': 'Alex'}]\n",
    "\n",
    "print(sum(d['id'] for d in student))\n",
    "\n",
    "print(sum(d['success'] for d in student))"
   ]
  },
  {
   "cell_type": "markdown",
   "id": "f2199642",
   "metadata": {},
   "source": [
    "# 27. Write a Python program to convert a list into a nested dictionary of keys."
   ]
  },
  {
   "cell_type": "code",
   "execution_count": 27,
   "id": "6652f80e",
   "metadata": {},
   "outputs": [
    {
     "name": "stdout",
     "output_type": "stream",
     "text": [
      "{1: {2: {3: {4: {}}}}}\n"
     ]
    }
   ],
   "source": [
    "num_list = [1, 2, 3, 4]\n",
    "\n",
    "new_dict = current = {}\n",
    "\n",
    "for name in num_list:\n",
    "    current[name] = {}\n",
    "    \n",
    "    current = current[name]\n",
    "\n",
    "print(new_dict)"
   ]
  },
  {
   "cell_type": "markdown",
   "id": "4f9e138c",
   "metadata": {},
   "source": [
    "# 28. Write a Python program to sort a list alphabetically in a dictionary."
   ]
  },
  {
   "cell_type": "code",
   "execution_count": 28,
   "id": "cd3cd1c2",
   "metadata": {},
   "outputs": [
    {
     "name": "stdout",
     "output_type": "stream",
     "text": [
      "{'n1': [1, 2, 3], 'n2': [1, 2, 5], 'n3': [2, 3, 4]}\n"
     ]
    }
   ],
   "source": [
    "num = {'n1': [2, 3, 1], 'n2': [5, 1, 2], 'n3': [3, 2, 4]}\n",
    "\n",
    "\n",
    "sorted_dict = {x: sorted(y) for x, y in num.items()}\n",
    "\n",
    "print(sorted_dict)"
   ]
  },
  {
   "cell_type": "markdown",
   "id": "458451b3",
   "metadata": {},
   "source": [
    "# 29. Write a Python program to remove spaces from dictionary keys."
   ]
  },
  {
   "cell_type": "code",
   "execution_count": 29,
   "id": "12ec706d",
   "metadata": {},
   "outputs": [
    {
     "name": "stdout",
     "output_type": "stream",
     "text": [
      "Original dictionary:  {'S  001': ['Math', 'Science'], 'S    002': ['Math', 'English']}\n",
      "New dictionary:  {'S001': ['Math', 'Science'], 'S002': ['Math', 'English']}\n"
     ]
    }
   ],
   "source": [
    "student_list = {'S  001': ['Math', 'Science'], 'S    002': ['Math', 'English']}\n",
    "\n",
    "print(\"Original dictionary: \", student_list)\n",
    "\n",
    "\n",
    "student_dict = {x.translate({32: None}): y for x, y in student_list.items()}\n",
    "\n",
    "print(\"New dictionary: \", student_dict) "
   ]
  },
  {
   "cell_type": "markdown",
   "id": "dd05dc3a",
   "metadata": {},
   "source": [
    "# 30. Write a Python program to get the top three items in a shop. Sample data: {'item1': 45.50, 'item2':35, 'item3': 41.30, 'item4':55, 'item5': 24} Expected Output: item4 55 item1 45.5 item3 41.3"
   ]
  },
  {
   "cell_type": "code",
   "execution_count": 30,
   "id": "196e3bea",
   "metadata": {},
   "outputs": [
    {
     "name": "stdout",
     "output_type": "stream",
     "text": [
      "item4 55\n",
      "item1 45.5\n",
      "item3 41.3\n"
     ]
    }
   ],
   "source": [
    "from heapq import nlargest\n",
    "from operator import itemgetter\n",
    "\n",
    "items = {'item1': 45.50, 'item2': 35, 'item3': 41.30, 'item4': 55, 'item5': 24}\n",
    "\n",
    "\n",
    "for name, value in nlargest(3, items.items(), key=itemgetter(1)):\n",
    "    print(name, value)"
   ]
  },
  {
   "cell_type": "markdown",
   "id": "aa8a81d6",
   "metadata": {},
   "source": [
    "# 31. Write a Python program to get the key, value and item in a dictionary."
   ]
  },
  {
   "cell_type": "code",
   "execution_count": 31,
   "id": "7bc15ae0",
   "metadata": {},
   "outputs": [
    {
     "name": "stdout",
     "output_type": "stream",
     "text": [
      "key  value  count\n",
      "1     10      1\n",
      "2     20      2\n",
      "3     30      3\n",
      "4     40      4\n",
      "5     50      5\n",
      "6     60      6\n"
     ]
    }
   ],
   "source": [
    "dict_num = {1: 10, 2: 20, 3: 30, 4: 40, 5: 50, 6: 60}\n",
    "\n",
    "print(\"key  value  count\")\n",
    "\n",
    "\n",
    "for count, (key, value) in enumerate(dict_num.items(), 1):\n",
    "    print(key, '   ', value, '    ', count)"
   ]
  },
  {
   "cell_type": "markdown",
   "id": "2418ef79",
   "metadata": {},
   "source": [
    "# 32. Write a Python program to print a dictionary line by line."
   ]
  },
  {
   "cell_type": "code",
   "execution_count": 32,
   "id": "1add8079",
   "metadata": {},
   "outputs": [
    {
     "name": "stdout",
     "output_type": "stream",
     "text": [
      "Aex\n",
      "class : V\n",
      "roll_id : 2\n",
      "Puja\n",
      "class : V\n",
      "roll_id : 3\n"
     ]
    }
   ],
   "source": [
    "students = {'Aex': {'class': 'V', 'roll_id': 2}, 'Puja': {'class': 'V', 'roll_id': 3}}\n",
    "\n",
    "for a in students:\n",
    "    print(a)\n",
    "    \n",
    "    for b in students[a]:\n",
    "        print(b, ':', students[a][b])"
   ]
  },
  {
   "cell_type": "markdown",
   "id": "a1652aa7",
   "metadata": {},
   "source": [
    "# 33. Write a Python program to check if multiple keys exist in a dictionary."
   ]
  },
  {
   "cell_type": "code",
   "execution_count": 33,
   "id": "444dbb65",
   "metadata": {},
   "outputs": [
    {
     "name": "stdout",
     "output_type": "stream",
     "text": [
      "True\n",
      "False\n",
      "True\n"
     ]
    }
   ],
   "source": [
    "student = {\n",
    "  'name': 'Alex',\n",
    "  'class': 'V',\n",
    "  'roll_id': '2'\n",
    "}\n",
    "\n",
    "print(student.keys() >= {'class', 'name'})\n",
    "\n",
    "print(student.keys() >= {'name', 'Alex'})\n",
    "\n",
    "print(student.keys() >= {'roll_id', 'name'})"
   ]
  },
  {
   "cell_type": "markdown",
   "id": "e04eacaf",
   "metadata": {},
   "source": [
    "# 34. Write a Python program to count the number of items in a dictionary value that is a list."
   ]
  },
  {
   "cell_type": "code",
   "execution_count": 35,
   "id": "e86866b3",
   "metadata": {},
   "outputs": [
    {
     "name": "stdout",
     "output_type": "stream",
     "text": [
      "5\n"
     ]
    }
   ],
   "source": [
    "dict =  {'Alex': ['subj1', 'subj2', 'subj3'], 'David': ['subj1', 'subj2']}\n",
    "\n",
    "ctr = sum(map(len, dict.values()))\n",
    "\n",
    "print(ctr)"
   ]
  },
  {
   "cell_type": "markdown",
   "id": "740af442",
   "metadata": {},
   "source": [
    "# 35. Write a Python program to sort Counter by value. Sample data : {'Math':81, 'Physics':83, 'Chemistry':87} Expected data: [('Chemistry', 87), ('Physics', 83), ('Math', 81)]"
   ]
  },
  {
   "cell_type": "code",
   "execution_count": 36,
   "id": "988d7867",
   "metadata": {},
   "outputs": [
    {
     "name": "stdout",
     "output_type": "stream",
     "text": [
      "[('Chemistry', 87), ('Physics', 83), ('Math', 81)]\n"
     ]
    }
   ],
   "source": [
    "from collections import Counter\n",
    "\n",
    "x = Counter({'Math': 81, 'Physics': 83, 'Chemistry': 87})\n",
    "\n",
    "print(x.most_common())"
   ]
  },
  {
   "cell_type": "markdown",
   "id": "a7dc4c59",
   "metadata": {},
   "source": [
    "# 36. Write a Python program to create a dictionary from two lists without losing duplicate values. Sample lists: ['Class-V', 'Class-VI', 'Class-VII', 'Class-VIII'], [1, 2, 2, 3] Expected Output: defaultdict(<class 'set'>, {'Class-V': {1}, 'Class-VI': {2}, 'Class-VII': {2}, 'Class-VIII': {3}})"
   ]
  },
  {
   "cell_type": "code",
   "execution_count": 37,
   "id": "4478c889",
   "metadata": {},
   "outputs": [
    {
     "name": "stdout",
     "output_type": "stream",
     "text": [
      "defaultdict(<class 'set'>, {'Class-V': {1}, 'Class-VI': {2}, 'Class-VII': {2}, 'Class-VIII': {3}})\n"
     ]
    }
   ],
   "source": [
    "from collections import defaultdict\n",
    "\n",
    "class_list = ['Class-V', 'Class-VI', 'Class-VII', 'Class-VIII']\n",
    "id_list = [1, 2, 2, 3]\n",
    "\n",
    "temp = defaultdict(set)\n",
    "\n",
    "for c, i in zip(class_list, id_list):\n",
    "    temp[c].add(i)\n",
    "\n",
    "print(temp)"
   ]
  },
  {
   "cell_type": "markdown",
   "id": "6370d55d",
   "metadata": {},
   "source": [
    "# 37. Write a Python program to replace dictionary values with their sums."
   ]
  },
  {
   "cell_type": "code",
   "execution_count": 38,
   "id": "1643e595",
   "metadata": {},
   "outputs": [
    {
     "name": "stdout",
     "output_type": "stream",
     "text": [
      "[{'id': 1, 'subject': 'math', 'V+VI': 76.0}, {'id': 2, 'subject': 'math', 'V+VI': 73.5}, {'id': 3, 'subject': 'math', 'V+VI': 80.5}]\n"
     ]
    }
   ],
   "source": [
    "def sum_math_v_vi_average(list_of_dicts):\n",
    "    for d in list_of_dicts:\n",
    "        n1 = d.pop('V')\n",
    "        n2 = d.pop('VI')\n",
    "        d['V+VI'] = (n1 + n2) / 2\n",
    "    return list_of_dicts\n",
    "\n",
    "student_details = [\n",
    "  {'id': 1, 'subject': 'math', 'V': 70, 'VI': 82},\n",
    "  {'id': 2, 'subject': 'math', 'V': 73, 'VI': 74},\n",
    "  {'id': 3, 'subject': 'math', 'V': 75, 'VI': 86}\n",
    "]\n",
    "\n",
    "print(sum_math_v_vi_average(student_details))"
   ]
  },
  {
   "cell_type": "markdown",
   "id": "627e8fdd",
   "metadata": {},
   "source": [
    "# 38. Write a Python program to match key values in two dictionaries. Sample dictionary: {'key1': 1, 'key2': 3, 'key3': 2}, {'key1': 1, 'key2': 2} Expected output: key1: 1 is present in both x and y"
   ]
  },
  {
   "cell_type": "code",
   "execution_count": 39,
   "id": "ff17ed5c",
   "metadata": {},
   "outputs": [
    {
     "name": "stdout",
     "output_type": "stream",
     "text": [
      "key1: 1 is present in both x and y\n"
     ]
    }
   ],
   "source": [
    "x = {'key1': 1, 'key2': 3, 'key3': 2}\n",
    "y = {'key1': 1, 'key2': 2}\n",
    "\n",
    "for (key, value) in set(x.items()) & set(y.items()):\n",
    "    print('%s: %s is present in both x and y' % (key, value))"
   ]
  },
  {
   "cell_type": "markdown",
   "id": "6dc58d05",
   "metadata": {},
   "source": [
    "# 39. Write a Python program to store dictionary data in a JSON file. Original dictionary: {'students': [{'firstName': 'Nikki', 'lastName': 'Roysden'}, {'firstName': 'Mervin', 'lastName': 'Friedland'}, {'firstName': 'Aron ', 'lastName': 'Wilkins'}], 'teachers': [{'firstName': 'Amberly', 'lastName': 'Calico'}, {'firstName': 'Regine', 'lastName': 'Agtarap'}]} <class 'dict'> Json file to dictionary: {'students': [{'firstName': 'Nikki', 'lastName': 'Roysden'}, {'firstName': 'Mervin', 'lastName': 'Friedland'}, {'firstName': 'Aron ', 'lastName': 'Wilkins'}], 'teachers': [{'firstName': 'Amberly', 'lastName': 'Calico'}, {'firstName': 'Regine', 'lastName': 'Agtarap'}]}"
   ]
  },
  {
   "cell_type": "code",
   "execution_count": 40,
   "id": "a50b8ea9",
   "metadata": {},
   "outputs": [
    {
     "name": "stdout",
     "output_type": "stream",
     "text": [
      "Original dictionary:\n",
      "{'students': [{'firstName': 'Nikki', 'lastName': 'Roysden'}, {'firstName': 'Mervin', 'lastName': 'Friedland'}, {'firstName': 'Aron', 'lastName': 'Wilkins'}], 'teachers': [{'firstName': 'Amberly', 'lastName': 'Calico'}, {'firstName': 'Regine', 'lastName': 'Agtarap'}]}\n",
      "<class 'dict'>\n",
      "\n",
      "Json file to dictionary:\n",
      "{'students': [{'firstName': 'Nikki', 'lastName': 'Roysden'}, {'firstName': 'Mervin', 'lastName': 'Friedland'}, {'firstName': 'Aron', 'lastName': 'Wilkins'}], 'teachers': [{'firstName': 'Amberly', 'lastName': 'Calico'}, {'firstName': 'Regine', 'lastName': 'Agtarap'}]}\n"
     ]
    }
   ],
   "source": [
    "d = {\n",
    "    \"students\": [\n",
    "        {\"firstName\": \"Nikki\", \"lastName\": \"Roysden\"},\n",
    "        {\"firstName\": \"Mervin\", \"lastName\": \"Friedland\"},\n",
    "        {\"firstName\": \"Aron\", \"lastName\": \"Wilkins\"}\n",
    "    ],\n",
    "    \"teachers\": [\n",
    "        {\"firstName\": \"Amberly\", \"lastName\": \"Calico\"},\n",
    "        {\"firstName\": \"Regine\", \"lastName\": \"Agtarap\"}\n",
    "    ]\n",
    "}\n",
    "\n",
    "print(\"Original dictionary:\")\n",
    "print(d)\n",
    "\n",
    "print(type(d))\n",
    "\n",
    "import json\n",
    "\n",
    "with open(\"dictionary\", \"w\") as f:\n",
    "    json.dump(d, f, indent=4, sort_keys=True)\n",
    "\n",
    "print(\"\\nJson file to dictionary:\")\n",
    "\n",
    "with open('dictionary') as f:\n",
    "    data = json.load(f)\n",
    "\n",
    "print(data)"
   ]
  },
  {
   "cell_type": "markdown",
   "id": "854bb746",
   "metadata": {},
   "source": [
    "# 40. Write a Python program to create a dictionary of keys x, y, and z where each key has as value a list from 11-20, 21-30, and 31-40 respectively. Access the fifth value of each key from the dictionary. {'x': [11, 12, 13, 14, 15, 16, 17, 18, 19], 'y': [21, 22, 23, 24, 25, 26, 27, 28, 29], 'z': [31, 32, 33, 34, 35, 36, 37, 38, 39]} 15 25 35 x has value [11, 12, 13, 14, 15, 16, 17, 18, 19] y has value [21, 22, 23, 24, 25, 26, 27, 28, 29] z has value [31, 32, 33, 34, 35, 36, 37, 38, 39]"
   ]
  },
  {
   "cell_type": "code",
   "execution_count": 44,
   "id": "e9db71cd",
   "metadata": {},
   "outputs": [
    {
     "ename": "TypeError",
     "evalue": "'dict' object is not callable",
     "output_type": "error",
     "traceback": [
      "\u001b[1;31m---------------------------------------------------------------------------\u001b[0m",
      "\u001b[1;31mTypeError\u001b[0m                                 Traceback (most recent call last)",
      "Cell \u001b[1;32mIn[44], line 3\u001b[0m\n\u001b[0;32m      1\u001b[0m \u001b[38;5;28;01mfrom\u001b[39;00m \u001b[38;5;21;01mpprint\u001b[39;00m \u001b[38;5;28;01mimport\u001b[39;00m pprint\n\u001b[1;32m----> 3\u001b[0m dict_nums \u001b[38;5;241m=\u001b[39m \u001b[38;5;28mdict\u001b[39m(x\u001b[38;5;241m=\u001b[39m\u001b[38;5;28mlist\u001b[39m(\u001b[38;5;28mrange\u001b[39m(\u001b[38;5;241m11\u001b[39m, \u001b[38;5;241m20\u001b[39m)), y\u001b[38;5;241m=\u001b[39m\u001b[38;5;28mlist\u001b[39m(\u001b[38;5;28mrange\u001b[39m(\u001b[38;5;241m21\u001b[39m, \u001b[38;5;241m30\u001b[39m)), z\u001b[38;5;241m=\u001b[39m\u001b[38;5;28mlist\u001b[39m(\u001b[38;5;28mrange\u001b[39m(\u001b[38;5;241m31\u001b[39m, \u001b[38;5;241m40\u001b[39m)))\n\u001b[0;32m      5\u001b[0m pprint(dict_nums)\n\u001b[0;32m      7\u001b[0m \u001b[38;5;28mprint\u001b[39m(dict_nums[\u001b[38;5;124m\"\u001b[39m\u001b[38;5;124mx\u001b[39m\u001b[38;5;124m\"\u001b[39m][\u001b[38;5;241m4\u001b[39m])\n",
      "\u001b[1;31mTypeError\u001b[0m: 'dict' object is not callable"
     ]
    }
   ],
   "source": [
    "from pprint import pprint\n",
    "\n",
    "dict_nums = dict(x=list(range(11, 20)), y=list(range(21, 30)), z=list(range(31, 40)))\n",
    "\n",
    "pprint(dict_nums)\n",
    "\n",
    "print(dict_nums[\"x\"][4])\n",
    "print(dict_nums[\"y\"][4])\n",
    "print(dict_nums[\"z\"][4])\n",
    "\n",
    "for k, v in dict_nums.items():\n",
    "    print(k, \"has value\", v)"
   ]
  },
  {
   "cell_type": "markdown",
   "id": "4bfe6780",
   "metadata": {},
   "source": [
    "# 41. Write a Python program to drop empty items from a given dictionary. Original Dictionary: {'c1': 'Red', 'c2': 'Green', 'c3': None} New Dictionary after dropping empty items: {'c1': 'Red', 'c2': 'Green'}"
   ]
  },
  {
   "cell_type": "code",
   "execution_count": 1,
   "id": "3dc45336",
   "metadata": {},
   "outputs": [
    {
     "name": "stdout",
     "output_type": "stream",
     "text": [
      "Original Dictionary:\n",
      "{'c1': 'Red', 'c2': 'Green', 'c3': None}\n",
      "New Dictionary after dropping empty items:\n",
      "{'c1': 'Red', 'c2': 'Green'}\n"
     ]
    }
   ],
   "source": [
    "dict1 = {'c1': 'Red', 'c2': 'Green', 'c3': None}\n",
    "\n",
    "print(\"Original Dictionary:\")\n",
    "print(dict1)\n",
    "\n",
    "print(\"New Dictionary after dropping empty items:\")\n",
    "\n",
    "\n",
    "dict1 = {key: value for (key, value) in dict1.items() if value is not None}\n",
    "\n",
    "print(dict1)"
   ]
  },
  {
   "cell_type": "markdown",
   "id": "05069260",
   "metadata": {},
   "source": [
    "# 42. Write a Python program to filter a dictionary based on values. Original Dictionary: {'Cierra Vega': 175, 'Alden Cantrell': 180, 'Kierra Gentry': 165, 'Pierre Cox': 190} Marks greater than 170: {'Cierra Vega': 175, 'Alden Cantrell': 180, 'Pierre Cox': 190}\n"
   ]
  },
  {
   "cell_type": "code",
   "execution_count": 2,
   "id": "0d1ffe9f",
   "metadata": {},
   "outputs": [
    {
     "name": "stdout",
     "output_type": "stream",
     "text": [
      "Original Dictionary:\n",
      "{'Cierra Vega': 175, 'Alden Cantrell': 180, 'Kierra Gentry': 165, 'Pierre Cox': 190}\n",
      "Marks greater than 170:\n",
      "{'Cierra Vega': 175, 'Alden Cantrell': 180, 'Pierre Cox': 190}\n"
     ]
    }
   ],
   "source": [
    "marks = {'Cierra Vega': 175, 'Alden Cantrell': 180, 'Kierra Gentry': 165, 'Pierre Cox': 190}\n",
    "\n",
    "print(\"Original Dictionary:\")\n",
    "print(marks)\n",
    "\n",
    "print(\"Marks greater than 170:\")\n",
    "\n",
    "result = {key: value for (key, value) in marks.items() if value >= 170}\n",
    "\n",
    "print(result)"
   ]
  },
  {
   "cell_type": "markdown",
   "id": "8b7b346f",
   "metadata": {},
   "source": [
    "# 43. Write a Python program to convert more than one list to a nested dictionary. Original strings: ['S001', 'S002', 'S003', 'S004'], ['Adina Park', 'Leyton Marsh', 'Duncan Boyle', 'Saim Richards'], [85, 98, 89, 92] Nested dictionary: [{'S001': {'Adina Park': 85}}, {'S002': {'Leyton Marsh': 98}}, {'S003': {'Duncan Boyle': 89}}, {'S004': {'Saim Richards': 92}}]"
   ]
  },
  {
   "cell_type": "code",
   "execution_count": 3,
   "id": "21dbca27",
   "metadata": {},
   "outputs": [
    {
     "name": "stdout",
     "output_type": "stream",
     "text": [
      "Original strings:\n",
      "['S001', 'S002', 'S003', 'S004']\n",
      "['Adina Park', 'Leyton Marsh', 'Duncan Boyle', 'Saim Richards']\n",
      "[85, 98, 89, 92]\n",
      "\n",
      "Nested dictionary:\n",
      "[{'S001': {'Adina Park': 85}}, {'S002': {'Leyton Marsh': 98}}, {'S003': {'Duncan Boyle': 89}}, {'S004': {'Saim Richards': 92}}]\n"
     ]
    }
   ],
   "source": [
    "def nested_dictionary(l1, l2, l3):\n",
    "     result = [{x: {y: z}} for (x, y, z) in zip(l1, l2, l3)]\n",
    "     return result\n",
    "\n",
    "\n",
    "student_id = [\"S001\", \"S002\", \"S003\", \"S004\"] \n",
    "student_name = [\"Adina Park\", \"Leyton Marsh\", \"Duncan Boyle\", \"Saim Richards\"] \n",
    "student_grade = [85, 98, 89, 92]\n",
    "\n",
    "\n",
    "print(\"Original strings:\")\n",
    "print(student_id)\n",
    "print(student_name)\n",
    "print(student_grade)\n",
    "\n",
    "\n",
    "print(\"\\nNested dictionary:\")\n",
    "\n",
    "ch = 'a'\n",
    "print(nested_dictionary(student_id, student_name, student_grade))"
   ]
  },
  {
   "cell_type": "markdown",
   "id": "96322779",
   "metadata": {},
   "source": [
    "# 44. Write a Python program to filter the height and width of students, which are stored in a dictionary. Original Dictionary: {'Cierra Vega': (6.2, 70), 'Alden Cantrell': (5.9, 65), 'Kierra Gentry': (6.0, 68), 'Pierre Cox': (5.8, 66)} Height > 6ft and Weight> 70kg: {'Cierra Vega': (6.2, 70)}"
   ]
  },
  {
   "cell_type": "code",
   "execution_count": 4,
   "id": "d9421b41",
   "metadata": {},
   "outputs": [
    {
     "name": "stdout",
     "output_type": "stream",
     "text": [
      "Original Dictionary:\n",
      "{'Cierra Vega': (6.2, 70), 'Alden Cantrell': (5.9, 65), 'Kierra Gentry': (6.0, 68), 'Pierre Cox': (5.8, 66)}\n",
      "\n",
      "Height > 6ft and Weight > 70kg:\n",
      "{'Cierra Vega': (6.2, 70)}\n"
     ]
    }
   ],
   "source": [
    "def filter_data(students):\n",
    "    \n",
    "    result = {k: s for k, s in students.items() if s[0] >= 6.0 and s[1] >= 70}\n",
    "    return result\n",
    "\n",
    "students = {\n",
    "    'Cierra Vega': (6.2, 70),\n",
    "    'Alden Cantrell': (5.9, 65),\n",
    "    'Kierra Gentry': (6.0, 68),\n",
    "    'Pierre Cox': (5.8, 66)\n",
    "}\n",
    "\n",
    "\n",
    "print(\"Original Dictionary:\")\n",
    "print(students)\n",
    "\n",
    "\n",
    "print(\"\\nHeight > 6ft and Weight > 70kg:\")\n",
    "\n",
    "\n",
    "print(filter_data(students))"
   ]
  },
  {
   "cell_type": "markdown",
   "id": "436fbc8d",
   "metadata": {},
   "source": [
    "# 45. Write a Python program to verify that all values in a dictionary are the same. Original Dictionary: {'Cierra Vega': 12, 'Alden Cantrell': 12, 'Kierra Gentry': 12, 'Pierre Cox': 12} Check all are 12 in the dictionary. True Check all are 10 in the dictionary. False"
   ]
  },
  {
   "cell_type": "code",
   "execution_count": 5,
   "id": "8bbb8967",
   "metadata": {},
   "outputs": [
    {
     "name": "stdout",
     "output_type": "stream",
     "text": [
      "Original Dictionary:\n",
      "{'Cierra Vega': 12, 'Alden Cantrell': 12, 'Kierra Gentry': 12, 'Pierre Cox': 12}\n",
      "\n",
      "Check all are 12 in the dictionary.\n",
      "True\n",
      "\n",
      "Check all are 10 in the dictionary.\n",
      "False\n"
     ]
    }
   ],
   "source": [
    "def value_check(students, n):\n",
    "    result = all(x == n for x in students.values())\n",
    "    return result\n",
    "\n",
    "students = {'Cierra Vega': 12, 'Alden Cantrell': 12, 'Kierra Gentry': 12, 'Pierre Cox': 12}\n",
    "\n",
    "print(\"Original Dictionary:\")\n",
    "print(students)\n",
    "\n",
    "n = 12\n",
    "\n",
    "print(\"\\nCheck all are\", n, \"in the dictionary.\")\n",
    "\n",
    "print(value_check(students, n))\n",
    "\n",
    "n = 10\n",
    "\n",
    "print(\"\\nCheck all are\", n, \"in the dictionary.\")\n",
    "\n",
    "\n",
    "print(value_check(students, n))"
   ]
  },
  {
   "cell_type": "markdown",
   "id": "3b552dce",
   "metadata": {},
   "source": [
    "# 46. Write a Python program to create a dictionary grouping a sequence of key-value pairs into a dictionary of lists. Original list: [('yellow', 1), ('blue', 2), ('yellow', 3), ('blue', 4), ('red', 1)] Grouping a sequence of key-value pairs into a dictionary of lists: {'yellow': [1, 3], 'blue': [2, 4], 'red': [1]}"
   ]
  },
  {
   "cell_type": "code",
   "execution_count": 6,
   "id": "07a61136",
   "metadata": {},
   "outputs": [
    {
     "name": "stdout",
     "output_type": "stream",
     "text": [
      "Original list:\n",
      "[('yellow', 1), ('blue', 2), ('yellow', 3), ('blue', 4), ('red', 1)]\n",
      "\n",
      "Grouping a sequence of key-value pairs into a dictionary of lists:\n",
      "{'yellow': [1, 3], 'blue': [2, 4], 'red': [1]}\n"
     ]
    }
   ],
   "source": [
    "def grouping_dictionary(l):\n",
    "    result = {}\n",
    "    for k, v in l:\n",
    "        result.setdefault(k, []).append(v)\n",
    "    return result\n",
    "\n",
    "colors = [('yellow', 1), ('blue', 2), ('yellow', 3), ('blue', 4), ('red', 1)]\n",
    "\n",
    "print(\"Original list:\")\n",
    "print(colors)\n",
    "\n",
    "print(\"\\nGrouping a sequence of key-value pairs into a dictionary of lists:\")\n",
    "\n",
    "print(grouping_dictionary(colors))"
   ]
  },
  {
   "cell_type": "markdown",
   "id": "9266c224",
   "metadata": {},
   "source": [
    "# 47. Write a Python program to split a given dictionary of lists into lists of dictionaries. Original dictionary of lists: {'Science': [88, 89, 62, 95], 'Language': [77, 78, 84, 80]} Split said dictionary of lists into list of dictionaries: [{'Science': 88, 'Language': 77}, {'Science': 89, 'Language': 78}, {'Science': 62, 'Language': 84}, {'Science': 95, 'Language': 80}]\n"
   ]
  },
  {
   "cell_type": "code",
   "execution_count": 7,
   "id": "208bb847",
   "metadata": {},
   "outputs": [
    {
     "name": "stdout",
     "output_type": "stream",
     "text": [
      "Original dictionary of lists:\n",
      "{'Science': [88, 89, 62, 95], 'Language': [77, 78, 84, 80]}\n",
      "\n",
      "Split said dictionary of lists into a list of dictionaries:\n",
      "[{'Science': 88, 'Language': 77}, {'Science': 89, 'Language': 78}, {'Science': 62, 'Language': 84}, {'Science': 95, 'Language': 80}]\n"
     ]
    }
   ],
   "source": [
    "def list_of_dicts(marks):\n",
    "    keys = marks.keys()\n",
    "    \t\n",
    "    vals = zip(*[marks[k] for k in keys])\n",
    "    \n",
    "    result = [dict(zip(keys, v)) for v in vals]\n",
    "    return result\n",
    "\n",
    "marks = {'Science': [88, 89, 62, 95], 'Language': [77, 78, 84, 80]}\n",
    "\n",
    "print(\"Original dictionary of lists:\")\n",
    "print(marks)\n",
    "\n",
    "print(\"\\nSplit said dictionary of lists into a list of dictionaries:\")\n",
    "\n",
    "print(list_of_dicts(marks))"
   ]
  },
  {
   "cell_type": "markdown",
   "id": "e0d8b2e6",
   "metadata": {},
   "source": [
    "# 48. Write a Python program to remove a specified dictionary from a given list. Original list of dictionary: [{'id': '#FF0000', 'color': 'Red'}, {'id': '#800000', 'color': 'Maroon'}, {'id': '#FFFF00', 'color': 'Yellow'}, {'id': '#808000', 'color': 'Olive'}] Remove id #FF0000 from the said list of dictionary: [{'id': '#800000', 'color': 'Maroon'}, {'id': '#FFFF00', 'color': 'Yellow'}, {'id': '#808000', 'color': 'Olive'}]"
   ]
  },
  {
   "cell_type": "code",
   "execution_count": 8,
   "id": "5cf8f385",
   "metadata": {},
   "outputs": [
    {
     "name": "stdout",
     "output_type": "stream",
     "text": [
      "Original list of dictionary:\n",
      "[{'id': '#FF0000', 'color': 'Red'}, {'id': '#800000', 'color': 'Maroon'}, {'id': '#FFFF00', 'color': 'Yellow'}, {'id': '#808000', 'color': 'Olive'}]\n",
      "\n",
      "Remove id #FF0000 from the said list of dictionary:\n",
      "[{'id': '#800000', 'color': 'Maroon'}, {'id': '#FFFF00', 'color': 'Yellow'}, {'id': '#808000', 'color': 'Olive'}]\n"
     ]
    }
   ],
   "source": [
    "def remove_dictionary(colors, r_id):\n",
    "\n",
    "    colors[:] = [d for d in colors if d.get('id') != r_id]\n",
    "    return colors\n",
    "\n",
    "\n",
    "colors = [\n",
    "    {\"id\": \"#FF0000\", \"color\": \"Red\"},\n",
    "    {\"id\": \"#800000\", \"color\": \"Maroon\"},\n",
    "    {\"id\": \"#FFFF00\", \"color\": \"Yellow\"},\n",
    "    {\"id\": \"#808000\", \"color\": \"Olive\"}\n",
    "]\n",
    "\n",
    "\n",
    "print('Original list of dictionary:')\n",
    "print(colors)\n",
    "\n",
    "\n",
    "r_id = \"#FF0000\"\n",
    "\n",
    "\n",
    "print(\"\\nRemove id\", r_id, \"from the said list of dictionary:\")\n",
    "\n",
    "\n",
    "print(remove_dictionary(colors, r_id))"
   ]
  },
  {
   "cell_type": "markdown",
   "id": "d8253596",
   "metadata": {},
   "source": [
    "# 49. Write a Python program to convert string values of a given dictionary into integer/float datatypes. Original list: [{'x': '10', 'y': '20', 'z': '30'}, {'p': '40', 'q': '50', 'r': '60'}] String values of a given dictionary, into integer types: [{'x': 10, 'y': 20, 'z': 30}, {'p': 40, 'q': 50, 'r': 60}] Original list: [{'x': '10.12', 'y': '20.23', 'z': '30'}, {'p': '40.00', 'q': '50.19', 'r': '60.99'}] String values of a given dictionary, into float types: [{'x': 10.12, 'y': 20.23, 'z': 30.0}, {'p': 40.0, 'q': 50.19, 'r': 60.99}]"
   ]
  },
  {
   "cell_type": "code",
   "execution_count": 9,
   "id": "b634ced3",
   "metadata": {},
   "outputs": [
    {
     "name": "stdout",
     "output_type": "stream",
     "text": [
      "Original list:\n",
      "[{'x': '10', 'y': '20', 'z': '30'}, {'p': '40', 'q': '50', 'r': '60'}]\n",
      "\n",
      "String values of a given dictionary, into integer types:\n",
      "[{'x': 10, 'y': 20, 'z': 30}, {'p': 40, 'q': 50, 'r': 60}]\n",
      "\n",
      "Original list:\n",
      "[{'x': '10.12', 'y': '20.23', 'z': '30'}, {'p': '40.00', 'q': '50.19', 'r': '60.99'}]\n",
      "\n",
      "String values of a given dictionary, into float types:\n",
      "[{'x': 10.12, 'y': 20.23, 'z': 30.0}, {'p': 40.0, 'q': 50.19, 'r': 60.99}]\n"
     ]
    }
   ],
   "source": [
    "def convert_to_int(lst):\n",
    "    result = [dict([a, int(x)] for a, x in b.items()) for b in lst]\n",
    "    return result\n",
    "\n",
    "\n",
    "def convert_to_float(lst):\n",
    "\n",
    "    result = [dict([a, float(x)] for a, x in b.items()) for b in lst]\n",
    "    return result\n",
    "\n",
    "nums_int = [\n",
    "    {'x': '10', 'y': '20', 'z': '30'},\n",
    "    {'p': '40', 'q': '50', 'r': '60'}\n",
    "]\n",
    "\n",
    "\n",
    "print(\"Original list:\")\n",
    "print(nums_int)\n",
    "\n",
    "\n",
    "print(\"\\nString values of a given dictionary, into integer types:\")\n",
    "\n",
    "\n",
    "print(convert_to_int(nums_int))\n",
    "\n",
    "\n",
    "nums_float = [\n",
    "    {'x': '10.12', 'y': '20.23', 'z': '30'},\n",
    "    {'p': '40.00', 'q': '50.19', 'r': '60.99'}\n",
    "]\n",
    "\n",
    "\n",
    "print(\"\\nOriginal list:\")\n",
    "print(nums_float)\n",
    "\n",
    "\n",
    "print(\"\\nString values of a given dictionary, into float types:\")\n",
    "\n",
    "\n",
    "print(convert_to_float(nums_float))"
   ]
  },
  {
   "cell_type": "markdown",
   "id": "91c0e345",
   "metadata": {},
   "source": [
    "# 50. A Python dictionary contains List as a value. Write a Python program to clear the list values in the said dictionary. Original Dictionary: {'C1': [10, 20, 30], 'C2': [20, 30, 40], 'C3': [12, 34]} Clear the list values in the said dictionary: {'C1': [], 'C2': [], 'C3': []}"
   ]
  },
  {
   "cell_type": "code",
   "execution_count": 10,
   "id": "f314f3b5",
   "metadata": {},
   "outputs": [
    {
     "name": "stdout",
     "output_type": "stream",
     "text": [
      "\n",
      "Original Dictionary:\n",
      "{'C1': [10, 20, 30], 'C2': [20, 30, 40], 'C3': [12, 34]}\n",
      "\n",
      "Clear the list values in the said dictionary:\n",
      "{'C1': [], 'C2': [], 'C3': []}\n"
     ]
    }
   ],
   "source": [
    "def test(dictionary):\n",
    "    for key in dictionary:\n",
    "        dictionary[key].clear()\n",
    "    return dictionary\n",
    "\n",
    "dictionary = { \n",
    "    'C1': [10, 20, 30], \n",
    "    'C2': [20, 30, 40],\n",
    "    'C3': [12, 34]\n",
    "}\n",
    "\n",
    "print(\"\\nOriginal Dictionary:\")\n",
    "print(dictionary)\n",
    "\n",
    "print(\"\\nClear the list values in the said dictionary:\")\n",
    "\n",
    "print(test(dictionary)) "
   ]
  },
  {
   "cell_type": "code",
   "execution_count": null,
   "id": "af13e55d",
   "metadata": {},
   "outputs": [],
   "source": []
  }
 ],
 "metadata": {
  "kernelspec": {
   "display_name": "Python 3 (ipykernel)",
   "language": "python",
   "name": "python3"
  },
  "language_info": {
   "codemirror_mode": {
    "name": "ipython",
    "version": 3
   },
   "file_extension": ".py",
   "mimetype": "text/x-python",
   "name": "python",
   "nbconvert_exporter": "python",
   "pygments_lexer": "ipython3",
   "version": "3.11.5"
  }
 },
 "nbformat": 4,
 "nbformat_minor": 5
}
